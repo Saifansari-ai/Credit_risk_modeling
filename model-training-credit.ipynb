{
 "cells": [
  {
   "cell_type": "markdown",
   "id": "52b48df9",
   "metadata": {
    "papermill": {
     "duration": 0.001827,
     "end_time": "2025-05-20T09:19:45.400122",
     "exception": false,
     "start_time": "2025-05-20T09:19:45.398295",
     "status": "completed"
    },
    "tags": []
   },
   "source": [
    "# 🏦 Credit Risk Modeling — Model Training Workflow\n",
    "\n",
    "This section documents the model training workflow for the Credit Risk Modeling project after feature engineering is completed.\n",
    "\n",
    "---\n",
    "\n",
    "## ✅ Objective\n",
    "\n",
    "To train machine learning models that are **robust to outliers**, using the final engineered dataset. Outliers are **not removed**, but are **flagged using an `is_outlier` column**.\n",
    "\n",
    "---\n",
    "\n",
    "## 📊 Data Preparation\n",
    "\n",
    "- Dataset includes engineered features and an `is_outlier` flag (`1` = outlier, `0` = normal).\n",
    "- Outliers are retained to preserve data distribution and potential signal.\n",
    "- **Target Variable:** `TARGET`  \n",
    "  - `1` → Default  \n",
    "  - `0` → Non-default\n",
    "- Features selected based on domain knowledge and feature importance insights.\n",
    "\n",
    "---\n",
    "\n",
    "## ⚙️ Modeling Strategy\n",
    "\n",
    "### 🧱 Baseline Model\n",
    "\n",
    "- **Logistic Regression with Regularization (L2 penalty)**  \n",
    "  Used to establish a benchmark performance.\n",
    "\n",
    "---\n",
    "\n",
    "### 🌳 Robust Models Trained\n",
    "\n",
    "| Model              | Robust to Outliers | Notes                        |\n",
    "|-------------------|--------------------|------------------------------|\n",
    "| Decision Tree      | ✅ Yes             | Simple and interpretable     |\n",
    "| Random Forest      | ✅ Yes             | Ensemble of decision trees   |\n",
    "| XGBoost            | ✅ Yes             | Gradient boosting framework  |\n",
    "| LightGBM           | ✅ Yes             | Efficient gradient boosting  |\n",
    "| CatBoost           | ✅ Yes             | Handles categorical features |\n",
    "| Ridge / Lasso      | ⚠️ Moderate        | Requires feature scaling     |\n",
    "\n",
    "> ❌ Models such as plain Logistic Regression, KNN, and SVM (RBF kernel) are generally **sensitive to outliers** and are avoided or handled with care.\n",
    "\n",
    "---\n",
    "\n",
    "## 🧮 Evaluation Metrics\n",
    "\n",
    "Models are evaluated using the following metrics:\n",
    "\n",
    "- **ROC-AUC Score**\n",
    "- **Precision, Recall, F1-Score**\n",
    "- **Confusion Matrix**\n",
    "- **PR AUC (Precision-Recall Curve AUC)** — recommended for imbalanced classification problems.\n",
    "---\n",
    "\n",
    "## ✅ Next Steps\n",
    "\n",
    "- Perform hyperparameter tuning (e.g., GridSearchCV, Optuna)\n",
    "- Compare model performances and rank based on AUC/F1\n",
    "- Select the best-performing model for deployment or integration into risk scoring systems\n",
    "- Optionally explore SHAP or LIME for model explainability\n",
    "\n",
    "---\n"
   ]
  },
  {
   "cell_type": "code",
   "execution_count": null,
   "id": "97fb417d",
   "metadata": {
    "papermill": {
     "duration": 0.001001,
     "end_time": "2025-05-20T09:19:45.402631",
     "exception": false,
     "start_time": "2025-05-20T09:19:45.401630",
     "status": "completed"
    },
    "tags": []
   },
   "outputs": [],
   "source": []
  }
 ],
 "metadata": {
  "kaggle": {
   "accelerator": "none",
   "dataSources": [],
   "dockerImageVersionId": 31040,
   "isGpuEnabled": false,
   "isInternetEnabled": true,
   "language": "python",
   "sourceType": "notebook"
  },
  "kernelspec": {
   "display_name": "Python 3",
   "language": "python",
   "name": "python3"
  },
  "language_info": {
   "codemirror_mode": {
    "name": "ipython",
    "version": 3
   },
   "file_extension": ".py",
   "mimetype": "text/x-python",
   "name": "python",
   "nbconvert_exporter": "python",
   "pygments_lexer": "ipython3",
   "version": "3.11.11"
  },
  "papermill": {
   "default_parameters": {},
   "duration": 8.057772,
   "end_time": "2025-05-20T09:19:48.901720",
   "environment_variables": {},
   "exception": null,
   "input_path": "__notebook__.ipynb",
   "output_path": "__notebook__.ipynb",
   "parameters": {},
   "start_time": "2025-05-20T09:19:40.843948",
   "version": "2.6.0"
  }
 },
 "nbformat": 4,
 "nbformat_minor": 5
}
