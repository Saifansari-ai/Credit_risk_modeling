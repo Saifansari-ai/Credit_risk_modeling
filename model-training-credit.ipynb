{
 "cells": [
  {
   "cell_type": "markdown",
   "id": "14c13c06",
   "metadata": {
    "papermill": {
     "duration": 0.006343,
     "end_time": "2025-06-17T10:29:58.067321",
     "exception": false,
     "start_time": "2025-06-17T10:29:58.060978",
     "status": "completed"
    },
    "tags": []
   },
   "source": [
    "# 🏦 Credit Risk Modeling — Model Training Workflow\n",
    "\n",
    "This section documents the model training workflow for the Credit Risk Modeling project after feature engineering is completed.\n",
    "\n",
    "---\n",
    "\n",
    "## ✅ Objective\n",
    "\n",
    "To train machine learning models that are **robust to outliers**, using the final engineered dataset. Outliers are **not removed**, but are **flagged using an `is_outlier` column**.\n",
    "\n",
    "---\n",
    "\n",
    "## 📊 Data Preparation\n",
    "\n",
    "- Dataset includes engineered features and an `is_outlier` flag (`1` = outlier, `0` = normal).\n",
    "- Outliers are retained to preserve data distribution and potential signal.\n",
    "- **Target Variable:** `TARGET`  \n",
    "  - `1` → Default  \n",
    "  - `0` → Non-default\n",
    "- Features selected based on domain knowledge and feature importance insights.\n",
    "\n",
    "---\n",
    "\n",
    "## ⚙️ Modeling Strategy\n",
    "\n",
    "### 🧱 Baseline Model\n",
    "\n",
    "- **Logistic Regression with Regularization (L2 penalty)**  \n",
    "  Used to establish a benchmark performance.\n",
    "\n",
    "---\n",
    "\n",
    "### 🌳 Robust Models Trained\n",
    "\n",
    "| Model              | Robust to Outliers | Notes                        |\n",
    "|-------------------|--------------------|------------------------------|\n",
    "| Decision Tree      | ✅ Yes             | Simple and interpretable     |\n",
    "| Random Forest      | ✅ Yes             | Ensemble of decision trees   |\n",
    "| XGBoost            | ✅ Yes             | Gradient boosting framework  |\n",
    "| LightGBM           | ✅ Yes             | Efficient gradient boosting  |\n",
    "| CatBoost           | ✅ Yes             | Handles categorical features |\n",
    "| Ridge / Lasso      | ⚠️ Moderate        | Requires feature scaling     |\n",
    "\n",
    "> ❌ Models such as plain Logistic Regression, KNN, and SVM (RBF kernel) are generally **sensitive to outliers** and are avoided or handled with care.\n",
    "\n",
    "---\n",
    "\n",
    "## 🧮 Evaluation Metrics\n",
    "\n",
    "Models are evaluated using the following metrics:\n",
    "\n",
    "- **ROC-AUC Score**\n",
    "- **Precision, Recall, F1-Score**\n",
    "- **Confusion Matrix**\n",
    "---\n",
    "\n",
    "## ✅ Next Steps\n",
    "\n",
    "- Perform hyperparameter tuning (e.g., GridSearchCV, Optuna)\n",
    "- Compare model performances and rank based on AUC/F1\n",
    "- Select the best-performing model for deployment or integration into risk scoring systems\n",
    "- Optionally explore SHAP or LIME for model explainability\n",
    "\n",
    "---\n"
   ]
  },
  {
   "cell_type": "markdown",
   "id": "6c0ff2be",
   "metadata": {
    "papermill": {
     "duration": 0.00527,
     "end_time": "2025-06-17T10:29:58.077776",
     "exception": false,
     "start_time": "2025-06-17T10:29:58.072506",
     "status": "completed"
    },
    "tags": []
   },
   "source": [
    "### Import Libraries "
   ]
  },
  {
   "cell_type": "code",
   "execution_count": 1,
   "id": "77da40d2",
   "metadata": {
    "execution": {
     "iopub.execute_input": "2025-06-17T10:29:58.088913Z",
     "iopub.status.busy": "2025-06-17T10:29:58.088528Z",
     "iopub.status.idle": "2025-06-17T10:30:02.139449Z",
     "shell.execute_reply": "2025-06-17T10:30:02.138541Z"
    },
    "papermill": {
     "duration": 4.058603,
     "end_time": "2025-06-17T10:30:02.141255",
     "exception": false,
     "start_time": "2025-06-17T10:29:58.082652",
     "status": "completed"
    },
    "tags": []
   },
   "outputs": [],
   "source": [
    "import pandas as pd\n",
    "import numpy as np\n",
    "import matplotlib.pyplot as plt\n",
    "import seaborn as sns\n",
    "from sklearn.linear_model import LogisticRegression\n",
    "from sklearn.model_selection import train_test_split\n",
    "from sklearn.metrics import roc_auc_score\n",
    "from sklearn.metrics import f1_score\n",
    "from sklearn.metrics import recall_score\n",
    "from sklearn.metrics import precision_score\n",
    "from sklearn.metrics import confusion_matrix"
   ]
  },
  {
   "cell_type": "markdown",
   "id": "b24bad62",
   "metadata": {
    "papermill": {
     "duration": 0.004808,
     "end_time": "2025-06-17T10:30:02.151280",
     "exception": false,
     "start_time": "2025-06-17T10:30:02.146472",
     "status": "completed"
    },
    "tags": []
   },
   "source": [
    "### Import dataset"
   ]
  },
  {
   "cell_type": "code",
   "execution_count": 2,
   "id": "40f3c31a",
   "metadata": {
    "execution": {
     "iopub.execute_input": "2025-06-17T10:30:02.162291Z",
     "iopub.status.busy": "2025-06-17T10:30:02.161853Z",
     "iopub.status.idle": "2025-06-17T10:30:06.985887Z",
     "shell.execute_reply": "2025-06-17T10:30:06.985086Z"
    },
    "papermill": {
     "duration": 4.831697,
     "end_time": "2025-06-17T10:30:06.987840",
     "exception": false,
     "start_time": "2025-06-17T10:30:02.156143",
     "status": "completed"
    },
    "tags": []
   },
   "outputs": [],
   "source": [
    "train = pd.read_csv('/kaggle/input/credit-risk-dataset/train_final.csv')\n",
    "test = pd.read_csv('/kaggle/input/credit-risk-dataset/test_final.csv')"
   ]
  },
  {
   "cell_type": "code",
   "execution_count": 3,
   "id": "19b3d3ad",
   "metadata": {
    "execution": {
     "iopub.execute_input": "2025-06-17T10:30:07.000062Z",
     "iopub.status.busy": "2025-06-17T10:30:06.999149Z",
     "iopub.status.idle": "2025-06-17T10:30:07.007772Z",
     "shell.execute_reply": "2025-06-17T10:30:07.006962Z"
    },
    "papermill": {
     "duration": 0.015872,
     "end_time": "2025-06-17T10:30:07.009145",
     "exception": false,
     "start_time": "2025-06-17T10:30:06.993273",
     "status": "completed"
    },
    "tags": []
   },
   "outputs": [
    {
     "data": {
      "text/plain": [
       "Index(['SK_ID_CURR', 'NAME_CONTRACT_TYPE', 'CODE_GENDER', 'FLAG_OWN_CAR',\n",
       "       'FLAG_OWN_REALTY', 'CNT_CHILDREN', 'AMT_INCOME_TOTAL', 'AMT_CREDIT',\n",
       "       'AMT_ANNUITY', 'AMT_GOODS_PRICE', 'NAME_TYPE_SUITE', 'NAME_INCOME_TYPE',\n",
       "       'NAME_EDUCATION_TYPE', 'NAME_FAMILY_STATUS', 'NAME_HOUSING_TYPE',\n",
       "       'REGION_POPULATION_RELATIVE', 'FLAG_MOBIL', 'FLAG_EMP_PHONE',\n",
       "       'FLAG_WORK_PHONE', 'FLAG_CONT_MOBILE', 'FLAG_PHONE', 'FLAG_EMAIL',\n",
       "       'OCCUPATION_TYPE', 'CNT_FAM_MEMBERS', 'REGION_RATING_CLIENT',\n",
       "       'REGION_RATING_CLIENT_W_CITY', 'WEEKDAY_APPR_PROCESS_START',\n",
       "       'HOUR_APPR_PROCESS_START', 'REG_REGION_NOT_LIVE_REGION',\n",
       "       'REG_REGION_NOT_WORK_REGION', 'LIVE_REGION_NOT_WORK_REGION',\n",
       "       'REG_CITY_NOT_LIVE_CITY', 'REG_CITY_NOT_WORK_CITY',\n",
       "       'LIVE_CITY_NOT_WORK_CITY', 'ORGANIZATION_TYPE', 'EXT_SOURCE_2',\n",
       "       'EXT_SOURCE_3', 'OBS_30_CNT_SOCIAL_CIRCLE', 'DEF_30_CNT_SOCIAL_CIRCLE',\n",
       "       'OBS_60_CNT_SOCIAL_CIRCLE', 'DEF_60_CNT_SOCIAL_CIRCLE',\n",
       "       'FLAG_DOCUMENT_2', 'FLAG_DOCUMENT_3', 'FLAG_DOCUMENT_4',\n",
       "       'FLAG_DOCUMENT_5', 'FLAG_DOCUMENT_6', 'FLAG_DOCUMENT_7',\n",
       "       'FLAG_DOCUMENT_8', 'FLAG_DOCUMENT_9', 'FLAG_DOCUMENT_10',\n",
       "       'FLAG_DOCUMENT_11', 'FLAG_DOCUMENT_12', 'FLAG_DOCUMENT_13',\n",
       "       'FLAG_DOCUMENT_14', 'FLAG_DOCUMENT_15', 'FLAG_DOCUMENT_16',\n",
       "       'FLAG_DOCUMENT_17', 'FLAG_DOCUMENT_18', 'FLAG_DOCUMENT_19',\n",
       "       'FLAG_DOCUMENT_20', 'FLAG_DOCUMENT_21', 'AMT_REQ_CREDIT_BUREAU_HOUR',\n",
       "       'AMT_REQ_CREDIT_BUREAU_DAY', 'AMT_REQ_CREDIT_BUREAU_WEEK',\n",
       "       'AMT_REQ_CREDIT_BUREAU_MON', 'AMT_REQ_CREDIT_BUREAU_QRT',\n",
       "       'AMT_REQ_CREDIT_BUREAU_YEAR', 'is_outlier_amt_income_total',\n",
       "       'is_outlier_amt_credit', 'is_outlier_amt_req_credit_bureau_mon',\n",
       "       'is_outlier_amt_req_credit_bureau_year',\n",
       "       'is_outlier_amt_req_credit_bureau_qrt',\n",
       "       'is_outlier_amt_req_credit_bureau_week',\n",
       "       'is_outlier_amt_req_credit_bureau_day',\n",
       "       'is_outlier_amt_req_credit_bureau_hour', 'AGE_YEARS', 'YEAR_EMPLOYED',\n",
       "       'YEAR_ID_PUBLISH', 'YEAR_LAST_PHONE_CHANGE', 'YEAR_REGISTRATION'],\n",
       "      dtype='object')"
      ]
     },
     "execution_count": 3,
     "metadata": {},
     "output_type": "execute_result"
    }
   ],
   "source": [
    "test.columns"
   ]
  },
  {
   "cell_type": "code",
   "execution_count": 4,
   "id": "e3ada005",
   "metadata": {
    "execution": {
     "iopub.execute_input": "2025-06-17T10:30:07.020800Z",
     "iopub.status.busy": "2025-06-17T10:30:07.020479Z",
     "iopub.status.idle": "2025-06-17T10:30:07.026658Z",
     "shell.execute_reply": "2025-06-17T10:30:07.025835Z"
    },
    "papermill": {
     "duration": 0.013709,
     "end_time": "2025-06-17T10:30:07.028114",
     "exception": false,
     "start_time": "2025-06-17T10:30:07.014405",
     "status": "completed"
    },
    "tags": []
   },
   "outputs": [
    {
     "data": {
      "text/plain": [
       "Index(['SK_ID_CURR', 'TARGET', 'NAME_CONTRACT_TYPE', 'CODE_GENDER',\n",
       "       'FLAG_OWN_CAR', 'FLAG_OWN_REALTY', 'CNT_CHILDREN', 'AMT_INCOME_TOTAL',\n",
       "       'AMT_CREDIT', 'AMT_ANNUITY', 'AMT_GOODS_PRICE', 'NAME_TYPE_SUITE',\n",
       "       'NAME_INCOME_TYPE', 'NAME_EDUCATION_TYPE', 'NAME_FAMILY_STATUS',\n",
       "       'NAME_HOUSING_TYPE', 'REGION_POPULATION_RELATIVE', 'FLAG_MOBIL',\n",
       "       'FLAG_EMP_PHONE', 'FLAG_WORK_PHONE', 'FLAG_CONT_MOBILE', 'FLAG_PHONE',\n",
       "       'FLAG_EMAIL', 'OCCUPATION_TYPE', 'CNT_FAM_MEMBERS',\n",
       "       'REGION_RATING_CLIENT', 'REGION_RATING_CLIENT_W_CITY',\n",
       "       'WEEKDAY_APPR_PROCESS_START', 'HOUR_APPR_PROCESS_START',\n",
       "       'REG_REGION_NOT_LIVE_REGION', 'REG_REGION_NOT_WORK_REGION',\n",
       "       'LIVE_REGION_NOT_WORK_REGION', 'REG_CITY_NOT_LIVE_CITY',\n",
       "       'REG_CITY_NOT_WORK_CITY', 'LIVE_CITY_NOT_WORK_CITY',\n",
       "       'ORGANIZATION_TYPE', 'EXT_SOURCE_2', 'EXT_SOURCE_3',\n",
       "       'OBS_30_CNT_SOCIAL_CIRCLE', 'DEF_30_CNT_SOCIAL_CIRCLE',\n",
       "       'OBS_60_CNT_SOCIAL_CIRCLE', 'DEF_60_CNT_SOCIAL_CIRCLE',\n",
       "       'FLAG_DOCUMENT_2', 'FLAG_DOCUMENT_3', 'FLAG_DOCUMENT_4',\n",
       "       'FLAG_DOCUMENT_5', 'FLAG_DOCUMENT_6', 'FLAG_DOCUMENT_7',\n",
       "       'FLAG_DOCUMENT_8', 'FLAG_DOCUMENT_9', 'FLAG_DOCUMENT_10',\n",
       "       'FLAG_DOCUMENT_11', 'FLAG_DOCUMENT_12', 'FLAG_DOCUMENT_13',\n",
       "       'FLAG_DOCUMENT_14', 'FLAG_DOCUMENT_15', 'FLAG_DOCUMENT_16',\n",
       "       'FLAG_DOCUMENT_17', 'FLAG_DOCUMENT_18', 'FLAG_DOCUMENT_19',\n",
       "       'FLAG_DOCUMENT_20', 'FLAG_DOCUMENT_21', 'AMT_REQ_CREDIT_BUREAU_HOUR',\n",
       "       'AMT_REQ_CREDIT_BUREAU_DAY', 'AMT_REQ_CREDIT_BUREAU_WEEK',\n",
       "       'AMT_REQ_CREDIT_BUREAU_MON', 'AMT_REQ_CREDIT_BUREAU_QRT',\n",
       "       'AMT_REQ_CREDIT_BUREAU_YEAR', 'is_outlier_Income', 'is_outlier_Credit',\n",
       "       'is_outlier_amt_req_credit_bureau_hour',\n",
       "       'is_outlier_amt_req_credit_bureau_day',\n",
       "       'is_outlier_amt_req_credit_bureau_week',\n",
       "       'is_outlier_amt_req_credit_bureau_mon',\n",
       "       'is_outlier_amt_req_credit_bureau_qrt',\n",
       "       'is_outlier_amt_req_credit_bureau_year', 'AGE_YEAR', 'YEAR_EMPLOYED',\n",
       "       'YEAR_REGISTRATION', 'YEAR_ID_PUBLISH', 'YEAR_LAST_PHONE_CHANGE'],\n",
       "      dtype='object')"
      ]
     },
     "execution_count": 4,
     "metadata": {},
     "output_type": "execute_result"
    }
   ],
   "source": [
    "train.columns"
   ]
  },
  {
   "cell_type": "code",
   "execution_count": 5,
   "id": "9a8e394f",
   "metadata": {
    "execution": {
     "iopub.execute_input": "2025-06-17T10:30:07.040824Z",
     "iopub.status.busy": "2025-06-17T10:30:07.040531Z",
     "iopub.status.idle": "2025-06-17T10:30:07.050171Z",
     "shell.execute_reply": "2025-06-17T10:30:07.049354Z"
    },
    "papermill": {
     "duration": 0.017939,
     "end_time": "2025-06-17T10:30:07.051856",
     "exception": false,
     "start_time": "2025-06-17T10:30:07.033917",
     "status": "completed"
    },
    "tags": []
   },
   "outputs": [],
   "source": [
    "train['AGE_YEARS'] = train['AGE_YEAR']"
   ]
  },
  {
   "cell_type": "code",
   "execution_count": 6,
   "id": "3d24ab8f",
   "metadata": {
    "execution": {
     "iopub.execute_input": "2025-06-17T10:30:07.064951Z",
     "iopub.status.busy": "2025-06-17T10:30:07.064071Z",
     "iopub.status.idle": "2025-06-17T10:30:07.128998Z",
     "shell.execute_reply": "2025-06-17T10:30:07.128131Z"
    },
    "papermill": {
     "duration": 0.07279,
     "end_time": "2025-06-17T10:30:07.130795",
     "exception": false,
     "start_time": "2025-06-17T10:30:07.058005",
     "status": "completed"
    },
    "tags": []
   },
   "outputs": [],
   "source": [
    "train.drop('AGE_YEAR',axis=1,inplace=True)"
   ]
  },
  {
   "cell_type": "code",
   "execution_count": 7,
   "id": "8ee30ab6",
   "metadata": {
    "execution": {
     "iopub.execute_input": "2025-06-17T10:30:07.143254Z",
     "iopub.status.busy": "2025-06-17T10:30:07.142880Z",
     "iopub.status.idle": "2025-06-17T10:30:07.148289Z",
     "shell.execute_reply": "2025-06-17T10:30:07.147357Z"
    },
    "papermill": {
     "duration": 0.013017,
     "end_time": "2025-06-17T10:30:07.149843",
     "exception": false,
     "start_time": "2025-06-17T10:30:07.136826",
     "status": "completed"
    },
    "tags": []
   },
   "outputs": [],
   "source": [
    "test['is_outlier_Income'] = test['is_outlier_amt_income_total']"
   ]
  },
  {
   "cell_type": "code",
   "execution_count": 8,
   "id": "9c1bd431",
   "metadata": {
    "execution": {
     "iopub.execute_input": "2025-06-17T10:30:07.162725Z",
     "iopub.status.busy": "2025-06-17T10:30:07.162433Z",
     "iopub.status.idle": "2025-06-17T10:30:07.176290Z",
     "shell.execute_reply": "2025-06-17T10:30:07.175490Z"
    },
    "papermill": {
     "duration": 0.022479,
     "end_time": "2025-06-17T10:30:07.177932",
     "exception": false,
     "start_time": "2025-06-17T10:30:07.155453",
     "status": "completed"
    },
    "tags": []
   },
   "outputs": [],
   "source": [
    "test.drop('is_outlier_amt_income_total',axis=1,inplace=True)"
   ]
  },
  {
   "cell_type": "code",
   "execution_count": 9,
   "id": "8b52aa08",
   "metadata": {
    "execution": {
     "iopub.execute_input": "2025-06-17T10:30:07.190052Z",
     "iopub.status.busy": "2025-06-17T10:30:07.189772Z",
     "iopub.status.idle": "2025-06-17T10:30:07.195056Z",
     "shell.execute_reply": "2025-06-17T10:30:07.194275Z"
    },
    "papermill": {
     "duration": 0.012963,
     "end_time": "2025-06-17T10:30:07.196665",
     "exception": false,
     "start_time": "2025-06-17T10:30:07.183702",
     "status": "completed"
    },
    "tags": []
   },
   "outputs": [],
   "source": [
    "test['is_outlier_Credit'] = test['is_outlier_amt_credit']"
   ]
  },
  {
   "cell_type": "code",
   "execution_count": 10,
   "id": "482dd621",
   "metadata": {
    "execution": {
     "iopub.execute_input": "2025-06-17T10:30:07.208025Z",
     "iopub.status.busy": "2025-06-17T10:30:07.207758Z",
     "iopub.status.idle": "2025-06-17T10:30:07.219228Z",
     "shell.execute_reply": "2025-06-17T10:30:07.218429Z"
    },
    "papermill": {
     "duration": 0.018947,
     "end_time": "2025-06-17T10:30:07.220850",
     "exception": false,
     "start_time": "2025-06-17T10:30:07.201903",
     "status": "completed"
    },
    "tags": []
   },
   "outputs": [],
   "source": [
    "test.drop('is_outlier_amt_credit',axis=1,inplace=True)"
   ]
  },
  {
   "cell_type": "code",
   "execution_count": 11,
   "id": "7cf4f8d9",
   "metadata": {
    "execution": {
     "iopub.execute_input": "2025-06-17T10:30:07.233045Z",
     "iopub.status.busy": "2025-06-17T10:30:07.232749Z",
     "iopub.status.idle": "2025-06-17T10:30:07.237673Z",
     "shell.execute_reply": "2025-06-17T10:30:07.236661Z"
    },
    "papermill": {
     "duration": 0.012584,
     "end_time": "2025-06-17T10:30:07.239162",
     "exception": false,
     "start_time": "2025-06-17T10:30:07.226578",
     "status": "completed"
    },
    "tags": []
   },
   "outputs": [],
   "source": [
    "feature_cols = train.columns.drop('TARGET')"
   ]
  },
  {
   "cell_type": "code",
   "execution_count": 12,
   "id": "f8fd7f6d",
   "metadata": {
    "execution": {
     "iopub.execute_input": "2025-06-17T10:30:07.250795Z",
     "iopub.status.busy": "2025-06-17T10:30:07.250502Z",
     "iopub.status.idle": "2025-06-17T10:30:07.262171Z",
     "shell.execute_reply": "2025-06-17T10:30:07.261352Z"
    },
    "papermill": {
     "duration": 0.019367,
     "end_time": "2025-06-17T10:30:07.263892",
     "exception": false,
     "start_time": "2025-06-17T10:30:07.244525",
     "status": "completed"
    },
    "tags": []
   },
   "outputs": [],
   "source": [
    "test = test[feature_cols]"
   ]
  },
  {
   "cell_type": "code",
   "execution_count": 13,
   "id": "bc80b1f6",
   "metadata": {
    "execution": {
     "iopub.execute_input": "2025-06-17T10:30:07.275789Z",
     "iopub.status.busy": "2025-06-17T10:30:07.275090Z",
     "iopub.status.idle": "2025-06-17T10:30:07.281317Z",
     "shell.execute_reply": "2025-06-17T10:30:07.280561Z"
    },
    "papermill": {
     "duration": 0.013678,
     "end_time": "2025-06-17T10:30:07.282906",
     "exception": false,
     "start_time": "2025-06-17T10:30:07.269228",
     "status": "completed"
    },
    "tags": []
   },
   "outputs": [
    {
     "data": {
      "text/plain": [
       "(304319, 81)"
      ]
     },
     "execution_count": 13,
     "metadata": {},
     "output_type": "execute_result"
    }
   ],
   "source": [
    "train.shape"
   ]
  },
  {
   "cell_type": "code",
   "execution_count": 14,
   "id": "b93edb8f",
   "metadata": {
    "execution": {
     "iopub.execute_input": "2025-06-17T10:30:07.294805Z",
     "iopub.status.busy": "2025-06-17T10:30:07.294509Z",
     "iopub.status.idle": "2025-06-17T10:30:07.323490Z",
     "shell.execute_reply": "2025-06-17T10:30:07.322348Z"
    },
    "papermill": {
     "duration": 0.036715,
     "end_time": "2025-06-17T10:30:07.325093",
     "exception": false,
     "start_time": "2025-06-17T10:30:07.288378",
     "status": "completed"
    },
    "tags": []
   },
   "outputs": [
    {
     "data": {
      "text/html": [
       "<div>\n",
       "<style scoped>\n",
       "    .dataframe tbody tr th:only-of-type {\n",
       "        vertical-align: middle;\n",
       "    }\n",
       "\n",
       "    .dataframe tbody tr th {\n",
       "        vertical-align: top;\n",
       "    }\n",
       "\n",
       "    .dataframe thead th {\n",
       "        text-align: right;\n",
       "    }\n",
       "</style>\n",
       "<table border=\"1\" class=\"dataframe\">\n",
       "  <thead>\n",
       "    <tr style=\"text-align: right;\">\n",
       "      <th></th>\n",
       "      <th>SK_ID_CURR</th>\n",
       "      <th>TARGET</th>\n",
       "      <th>NAME_CONTRACT_TYPE</th>\n",
       "      <th>CODE_GENDER</th>\n",
       "      <th>FLAG_OWN_CAR</th>\n",
       "      <th>FLAG_OWN_REALTY</th>\n",
       "      <th>CNT_CHILDREN</th>\n",
       "      <th>AMT_INCOME_TOTAL</th>\n",
       "      <th>AMT_CREDIT</th>\n",
       "      <th>AMT_ANNUITY</th>\n",
       "      <th>...</th>\n",
       "      <th>is_outlier_amt_req_credit_bureau_day</th>\n",
       "      <th>is_outlier_amt_req_credit_bureau_week</th>\n",
       "      <th>is_outlier_amt_req_credit_bureau_mon</th>\n",
       "      <th>is_outlier_amt_req_credit_bureau_qrt</th>\n",
       "      <th>is_outlier_amt_req_credit_bureau_year</th>\n",
       "      <th>YEAR_EMPLOYED</th>\n",
       "      <th>YEAR_REGISTRATION</th>\n",
       "      <th>YEAR_ID_PUBLISH</th>\n",
       "      <th>YEAR_LAST_PHONE_CHANGE</th>\n",
       "      <th>AGE_YEARS</th>\n",
       "    </tr>\n",
       "  </thead>\n",
       "  <tbody>\n",
       "    <tr>\n",
       "      <th>0</th>\n",
       "      <td>100002</td>\n",
       "      <td>1</td>\n",
       "      <td>0</td>\n",
       "      <td>0</td>\n",
       "      <td>0</td>\n",
       "      <td>1</td>\n",
       "      <td>0</td>\n",
       "      <td>202500</td>\n",
       "      <td>406597.5</td>\n",
       "      <td>24700.5</td>\n",
       "      <td>...</td>\n",
       "      <td>0</td>\n",
       "      <td>0</td>\n",
       "      <td>0</td>\n",
       "      <td>0</td>\n",
       "      <td>0</td>\n",
       "      <td>1.745205</td>\n",
       "      <td>9.994521</td>\n",
       "      <td>5.808219</td>\n",
       "      <td>3.106849</td>\n",
       "      <td>25.920548</td>\n",
       "    </tr>\n",
       "    <tr>\n",
       "      <th>1</th>\n",
       "      <td>100003</td>\n",
       "      <td>0</td>\n",
       "      <td>0</td>\n",
       "      <td>1</td>\n",
       "      <td>0</td>\n",
       "      <td>0</td>\n",
       "      <td>0</td>\n",
       "      <td>270000</td>\n",
       "      <td>1293502.5</td>\n",
       "      <td>35698.5</td>\n",
       "      <td>...</td>\n",
       "      <td>0</td>\n",
       "      <td>0</td>\n",
       "      <td>0</td>\n",
       "      <td>0</td>\n",
       "      <td>0</td>\n",
       "      <td>3.254795</td>\n",
       "      <td>3.249315</td>\n",
       "      <td>0.797260</td>\n",
       "      <td>2.268493</td>\n",
       "      <td>45.931507</td>\n",
       "    </tr>\n",
       "    <tr>\n",
       "      <th>2</th>\n",
       "      <td>100004</td>\n",
       "      <td>0</td>\n",
       "      <td>1</td>\n",
       "      <td>0</td>\n",
       "      <td>1</td>\n",
       "      <td>1</td>\n",
       "      <td>0</td>\n",
       "      <td>67500</td>\n",
       "      <td>135000.0</td>\n",
       "      <td>6750.0</td>\n",
       "      <td>...</td>\n",
       "      <td>0</td>\n",
       "      <td>0</td>\n",
       "      <td>0</td>\n",
       "      <td>0</td>\n",
       "      <td>0</td>\n",
       "      <td>0.616438</td>\n",
       "      <td>11.671233</td>\n",
       "      <td>6.934247</td>\n",
       "      <td>2.232877</td>\n",
       "      <td>52.180822</td>\n",
       "    </tr>\n",
       "    <tr>\n",
       "      <th>3</th>\n",
       "      <td>100006</td>\n",
       "      <td>0</td>\n",
       "      <td>0</td>\n",
       "      <td>1</td>\n",
       "      <td>0</td>\n",
       "      <td>1</td>\n",
       "      <td>0</td>\n",
       "      <td>135000</td>\n",
       "      <td>312682.5</td>\n",
       "      <td>29686.5</td>\n",
       "      <td>...</td>\n",
       "      <td>0</td>\n",
       "      <td>0</td>\n",
       "      <td>1</td>\n",
       "      <td>0</td>\n",
       "      <td>0</td>\n",
       "      <td>8.326027</td>\n",
       "      <td>26.939726</td>\n",
       "      <td>6.676712</td>\n",
       "      <td>1.690411</td>\n",
       "      <td>52.068493</td>\n",
       "    </tr>\n",
       "    <tr>\n",
       "      <th>4</th>\n",
       "      <td>100007</td>\n",
       "      <td>0</td>\n",
       "      <td>0</td>\n",
       "      <td>0</td>\n",
       "      <td>0</td>\n",
       "      <td>1</td>\n",
       "      <td>0</td>\n",
       "      <td>121500</td>\n",
       "      <td>513000.0</td>\n",
       "      <td>21865.5</td>\n",
       "      <td>...</td>\n",
       "      <td>0</td>\n",
       "      <td>0</td>\n",
       "      <td>0</td>\n",
       "      <td>0</td>\n",
       "      <td>0</td>\n",
       "      <td>8.323288</td>\n",
       "      <td>11.810959</td>\n",
       "      <td>9.473973</td>\n",
       "      <td>3.030137</td>\n",
       "      <td>54.608219</td>\n",
       "    </tr>\n",
       "  </tbody>\n",
       "</table>\n",
       "<p>5 rows × 81 columns</p>\n",
       "</div>"
      ],
      "text/plain": [
       "   SK_ID_CURR  TARGET  NAME_CONTRACT_TYPE  CODE_GENDER  FLAG_OWN_CAR  \\\n",
       "0      100002       1                   0            0             0   \n",
       "1      100003       0                   0            1             0   \n",
       "2      100004       0                   1            0             1   \n",
       "3      100006       0                   0            1             0   \n",
       "4      100007       0                   0            0             0   \n",
       "\n",
       "   FLAG_OWN_REALTY  CNT_CHILDREN  AMT_INCOME_TOTAL  AMT_CREDIT  AMT_ANNUITY  \\\n",
       "0                1             0            202500    406597.5      24700.5   \n",
       "1                0             0            270000   1293502.5      35698.5   \n",
       "2                1             0             67500    135000.0       6750.0   \n",
       "3                1             0            135000    312682.5      29686.5   \n",
       "4                1             0            121500    513000.0      21865.5   \n",
       "\n",
       "   ...  is_outlier_amt_req_credit_bureau_day  \\\n",
       "0  ...                                     0   \n",
       "1  ...                                     0   \n",
       "2  ...                                     0   \n",
       "3  ...                                     0   \n",
       "4  ...                                     0   \n",
       "\n",
       "   is_outlier_amt_req_credit_bureau_week  \\\n",
       "0                                      0   \n",
       "1                                      0   \n",
       "2                                      0   \n",
       "3                                      0   \n",
       "4                                      0   \n",
       "\n",
       "   is_outlier_amt_req_credit_bureau_mon  is_outlier_amt_req_credit_bureau_qrt  \\\n",
       "0                                     0                                     0   \n",
       "1                                     0                                     0   \n",
       "2                                     0                                     0   \n",
       "3                                     1                                     0   \n",
       "4                                     0                                     0   \n",
       "\n",
       "   is_outlier_amt_req_credit_bureau_year  YEAR_EMPLOYED  YEAR_REGISTRATION  \\\n",
       "0                                      0       1.745205           9.994521   \n",
       "1                                      0       3.254795           3.249315   \n",
       "2                                      0       0.616438          11.671233   \n",
       "3                                      0       8.326027          26.939726   \n",
       "4                                      0       8.323288          11.810959   \n",
       "\n",
       "   YEAR_ID_PUBLISH  YEAR_LAST_PHONE_CHANGE  AGE_YEARS  \n",
       "0         5.808219                3.106849  25.920548  \n",
       "1         0.797260                2.268493  45.931507  \n",
       "2         6.934247                2.232877  52.180822  \n",
       "3         6.676712                1.690411  52.068493  \n",
       "4         9.473973                3.030137  54.608219  \n",
       "\n",
       "[5 rows x 81 columns]"
      ]
     },
     "execution_count": 14,
     "metadata": {},
     "output_type": "execute_result"
    }
   ],
   "source": [
    "train.head()"
   ]
  },
  {
   "cell_type": "code",
   "execution_count": 15,
   "id": "08d2d468",
   "metadata": {
    "execution": {
     "iopub.execute_input": "2025-06-17T10:30:07.338006Z",
     "iopub.status.busy": "2025-06-17T10:30:07.337699Z",
     "iopub.status.idle": "2025-06-17T10:30:07.405927Z",
     "shell.execute_reply": "2025-06-17T10:30:07.404739Z"
    },
    "papermill": {
     "duration": 0.076958,
     "end_time": "2025-06-17T10:30:07.407867",
     "exception": false,
     "start_time": "2025-06-17T10:30:07.330909",
     "status": "completed"
    },
    "tags": []
   },
   "outputs": [],
   "source": [
    "X = train.drop('TARGET',axis=1)\n",
    "y = train['TARGET']"
   ]
  },
  {
   "cell_type": "code",
   "execution_count": 16,
   "id": "110ba78a",
   "metadata": {
    "execution": {
     "iopub.execute_input": "2025-06-17T10:30:07.420402Z",
     "iopub.status.busy": "2025-06-17T10:30:07.419797Z",
     "iopub.status.idle": "2025-06-17T10:30:07.647952Z",
     "shell.execute_reply": "2025-06-17T10:30:07.646819Z"
    },
    "papermill": {
     "duration": 0.236365,
     "end_time": "2025-06-17T10:30:07.649892",
     "exception": false,
     "start_time": "2025-06-17T10:30:07.413527",
     "status": "completed"
    },
    "tags": []
   },
   "outputs": [],
   "source": [
    "X_train,X_test,y_train,y_test = train_test_split(X,y,test_size=0.2,random_state=42)"
   ]
  },
  {
   "cell_type": "markdown",
   "id": "347cf7c0",
   "metadata": {
    "papermill": {
     "duration": 0.005592,
     "end_time": "2025-06-17T10:30:07.661539",
     "exception": false,
     "start_time": "2025-06-17T10:30:07.655947",
     "status": "completed"
    },
    "tags": []
   },
   "source": [
    "## Training LogisticRegression"
   ]
  },
  {
   "cell_type": "code",
   "execution_count": 17,
   "id": "f7540cf8",
   "metadata": {
    "execution": {
     "iopub.execute_input": "2025-06-17T10:30:07.674696Z",
     "iopub.status.busy": "2025-06-17T10:30:07.674243Z",
     "iopub.status.idle": "2025-06-17T10:30:07.678851Z",
     "shell.execute_reply": "2025-06-17T10:30:07.677996Z"
    },
    "papermill": {
     "duration": 0.013489,
     "end_time": "2025-06-17T10:30:07.680384",
     "exception": false,
     "start_time": "2025-06-17T10:30:07.666895",
     "status": "completed"
    },
    "tags": []
   },
   "outputs": [],
   "source": [
    "lg_1 = LogisticRegression()"
   ]
  },
  {
   "cell_type": "code",
   "execution_count": 18,
   "id": "42fb98db",
   "metadata": {
    "execution": {
     "iopub.execute_input": "2025-06-17T10:30:07.692747Z",
     "iopub.status.busy": "2025-06-17T10:30:07.692440Z",
     "iopub.status.idle": "2025-06-17T10:30:13.050333Z",
     "shell.execute_reply": "2025-06-17T10:30:13.049444Z"
    },
    "papermill": {
     "duration": 5.366388,
     "end_time": "2025-06-17T10:30:13.052423",
     "exception": false,
     "start_time": "2025-06-17T10:30:07.686035",
     "status": "completed"
    },
    "tags": []
   },
   "outputs": [
    {
     "data": {
      "text/html": [
       "<style>#sk-container-id-1 {color: black;background-color: white;}#sk-container-id-1 pre{padding: 0;}#sk-container-id-1 div.sk-toggleable {background-color: white;}#sk-container-id-1 label.sk-toggleable__label {cursor: pointer;display: block;width: 100%;margin-bottom: 0;padding: 0.3em;box-sizing: border-box;text-align: center;}#sk-container-id-1 label.sk-toggleable__label-arrow:before {content: \"▸\";float: left;margin-right: 0.25em;color: #696969;}#sk-container-id-1 label.sk-toggleable__label-arrow:hover:before {color: black;}#sk-container-id-1 div.sk-estimator:hover label.sk-toggleable__label-arrow:before {color: black;}#sk-container-id-1 div.sk-toggleable__content {max-height: 0;max-width: 0;overflow: hidden;text-align: left;background-color: #f0f8ff;}#sk-container-id-1 div.sk-toggleable__content pre {margin: 0.2em;color: black;border-radius: 0.25em;background-color: #f0f8ff;}#sk-container-id-1 input.sk-toggleable__control:checked~div.sk-toggleable__content {max-height: 200px;max-width: 100%;overflow: auto;}#sk-container-id-1 input.sk-toggleable__control:checked~label.sk-toggleable__label-arrow:before {content: \"▾\";}#sk-container-id-1 div.sk-estimator input.sk-toggleable__control:checked~label.sk-toggleable__label {background-color: #d4ebff;}#sk-container-id-1 div.sk-label input.sk-toggleable__control:checked~label.sk-toggleable__label {background-color: #d4ebff;}#sk-container-id-1 input.sk-hidden--visually {border: 0;clip: rect(1px 1px 1px 1px);clip: rect(1px, 1px, 1px, 1px);height: 1px;margin: -1px;overflow: hidden;padding: 0;position: absolute;width: 1px;}#sk-container-id-1 div.sk-estimator {font-family: monospace;background-color: #f0f8ff;border: 1px dotted black;border-radius: 0.25em;box-sizing: border-box;margin-bottom: 0.5em;}#sk-container-id-1 div.sk-estimator:hover {background-color: #d4ebff;}#sk-container-id-1 div.sk-parallel-item::after {content: \"\";width: 100%;border-bottom: 1px solid gray;flex-grow: 1;}#sk-container-id-1 div.sk-label:hover label.sk-toggleable__label {background-color: #d4ebff;}#sk-container-id-1 div.sk-serial::before {content: \"\";position: absolute;border-left: 1px solid gray;box-sizing: border-box;top: 0;bottom: 0;left: 50%;z-index: 0;}#sk-container-id-1 div.sk-serial {display: flex;flex-direction: column;align-items: center;background-color: white;padding-right: 0.2em;padding-left: 0.2em;position: relative;}#sk-container-id-1 div.sk-item {position: relative;z-index: 1;}#sk-container-id-1 div.sk-parallel {display: flex;align-items: stretch;justify-content: center;background-color: white;position: relative;}#sk-container-id-1 div.sk-item::before, #sk-container-id-1 div.sk-parallel-item::before {content: \"\";position: absolute;border-left: 1px solid gray;box-sizing: border-box;top: 0;bottom: 0;left: 50%;z-index: -1;}#sk-container-id-1 div.sk-parallel-item {display: flex;flex-direction: column;z-index: 1;position: relative;background-color: white;}#sk-container-id-1 div.sk-parallel-item:first-child::after {align-self: flex-end;width: 50%;}#sk-container-id-1 div.sk-parallel-item:last-child::after {align-self: flex-start;width: 50%;}#sk-container-id-1 div.sk-parallel-item:only-child::after {width: 0;}#sk-container-id-1 div.sk-dashed-wrapped {border: 1px dashed gray;margin: 0 0.4em 0.5em 0.4em;box-sizing: border-box;padding-bottom: 0.4em;background-color: white;}#sk-container-id-1 div.sk-label label {font-family: monospace;font-weight: bold;display: inline-block;line-height: 1.2em;}#sk-container-id-1 div.sk-label-container {text-align: center;}#sk-container-id-1 div.sk-container {/* jupyter's `normalize.less` sets `[hidden] { display: none; }` but bootstrap.min.css set `[hidden] { display: none !important; }` so we also need the `!important` here to be able to override the default hidden behavior on the sphinx rendered scikit-learn.org. See: https://github.com/scikit-learn/scikit-learn/issues/21755 */display: inline-block !important;position: relative;}#sk-container-id-1 div.sk-text-repr-fallback {display: none;}</style><div id=\"sk-container-id-1\" class=\"sk-top-container\"><div class=\"sk-text-repr-fallback\"><pre>LogisticRegression()</pre><b>In a Jupyter environment, please rerun this cell to show the HTML representation or trust the notebook. <br />On GitHub, the HTML representation is unable to render, please try loading this page with nbviewer.org.</b></div><div class=\"sk-container\" hidden><div class=\"sk-item\"><div class=\"sk-estimator sk-toggleable\"><input class=\"sk-toggleable__control sk-hidden--visually\" id=\"sk-estimator-id-1\" type=\"checkbox\" checked><label for=\"sk-estimator-id-1\" class=\"sk-toggleable__label sk-toggleable__label-arrow\">LogisticRegression</label><div class=\"sk-toggleable__content\"><pre>LogisticRegression()</pre></div></div></div></div></div>"
      ],
      "text/plain": [
       "LogisticRegression()"
      ]
     },
     "execution_count": 18,
     "metadata": {},
     "output_type": "execute_result"
    }
   ],
   "source": [
    "lg_1.fit(X_train,y_train)"
   ]
  },
  {
   "cell_type": "code",
   "execution_count": 19,
   "id": "a6532de7",
   "metadata": {
    "execution": {
     "iopub.execute_input": "2025-06-17T10:30:13.073419Z",
     "iopub.status.busy": "2025-06-17T10:30:13.073064Z",
     "iopub.status.idle": "2025-06-17T10:30:13.104793Z",
     "shell.execute_reply": "2025-06-17T10:30:13.104097Z"
    },
    "papermill": {
     "duration": 0.044645,
     "end_time": "2025-06-17T10:30:13.106705",
     "exception": false,
     "start_time": "2025-06-17T10:30:13.062060",
     "status": "completed"
    },
    "tags": []
   },
   "outputs": [],
   "source": [
    "lg_1_pred = lg_1.predict(X_test)"
   ]
  },
  {
   "cell_type": "code",
   "execution_count": 20,
   "id": "d41cd331",
   "metadata": {
    "execution": {
     "iopub.execute_input": "2025-06-17T10:30:13.120099Z",
     "iopub.status.busy": "2025-06-17T10:30:13.119481Z",
     "iopub.status.idle": "2025-06-17T10:30:13.172719Z",
     "shell.execute_reply": "2025-06-17T10:30:13.171726Z"
    },
    "papermill": {
     "duration": 0.061402,
     "end_time": "2025-06-17T10:30:13.174256",
     "exception": false,
     "start_time": "2025-06-17T10:30:13.112854",
     "status": "completed"
    },
    "tags": []
   },
   "outputs": [
    {
     "name": "stdout",
     "output_type": "stream",
     "text": [
      "Roc_Auc_score of lg_1: 0.603058133274806\n"
     ]
    }
   ],
   "source": [
    "lg_1_roc_auc_score = roc_auc_score(y_test,lg_1.predict_proba(X_test)[:, 1])\n",
    "print(f'Roc_Auc_score of lg_1:',lg_1_roc_auc_score)"
   ]
  },
  {
   "cell_type": "code",
   "execution_count": 21,
   "id": "dec40963",
   "metadata": {
    "execution": {
     "iopub.execute_input": "2025-06-17T10:30:13.187072Z",
     "iopub.status.busy": "2025-06-17T10:30:13.186767Z",
     "iopub.status.idle": "2025-06-17T10:30:13.209856Z",
     "shell.execute_reply": "2025-06-17T10:30:13.208865Z"
    },
    "papermill": {
     "duration": 0.031232,
     "end_time": "2025-06-17T10:30:13.211306",
     "exception": false,
     "start_time": "2025-06-17T10:30:13.180074",
     "status": "completed"
    },
    "tags": []
   },
   "outputs": [
    {
     "name": "stdout",
     "output_type": "stream",
     "text": [
      "F1_score of lg_1 is: 0.0\n"
     ]
    }
   ],
   "source": [
    "lg_1_f1_score = f1_score(y_test,lg_1_pred)\n",
    "print(f'F1_score of lg_1 is:',lg_1_f1_score)"
   ]
  },
  {
   "cell_type": "code",
   "execution_count": 22,
   "id": "6db35180",
   "metadata": {
    "execution": {
     "iopub.execute_input": "2025-06-17T10:30:13.224127Z",
     "iopub.status.busy": "2025-06-17T10:30:13.223833Z",
     "iopub.status.idle": "2025-06-17T10:30:13.246045Z",
     "shell.execute_reply": "2025-06-17T10:30:13.245056Z"
    },
    "papermill": {
     "duration": 0.030439,
     "end_time": "2025-06-17T10:30:13.247675",
     "exception": false,
     "start_time": "2025-06-17T10:30:13.217236",
     "status": "completed"
    },
    "tags": []
   },
   "outputs": [
    {
     "name": "stdout",
     "output_type": "stream",
     "text": [
      "recall_score of lg_1 is: 0.0\n"
     ]
    }
   ],
   "source": [
    "lg_1_recall_score = recall_score(y_test,lg_1_pred)\n",
    "print(f'recall_score of lg_1 is:',lg_1_recall_score)"
   ]
  },
  {
   "cell_type": "code",
   "execution_count": 23,
   "id": "8b421dbd",
   "metadata": {
    "execution": {
     "iopub.execute_input": "2025-06-17T10:30:13.260493Z",
     "iopub.status.busy": "2025-06-17T10:30:13.260130Z",
     "iopub.status.idle": "2025-06-17T10:30:13.285731Z",
     "shell.execute_reply": "2025-06-17T10:30:13.284857Z"
    },
    "papermill": {
     "duration": 0.033663,
     "end_time": "2025-06-17T10:30:13.287219",
     "exception": false,
     "start_time": "2025-06-17T10:30:13.253556",
     "status": "completed"
    },
    "tags": []
   },
   "outputs": [
    {
     "name": "stdout",
     "output_type": "stream",
     "text": [
      "precision_score of lg_1 is: 0.0\n"
     ]
    },
    {
     "name": "stderr",
     "output_type": "stream",
     "text": [
      "/usr/local/lib/python3.11/dist-packages/sklearn/metrics/_classification.py:1344: UndefinedMetricWarning: Precision is ill-defined and being set to 0.0 due to no predicted samples. Use `zero_division` parameter to control this behavior.\n",
      "  _warn_prf(average, modifier, msg_start, len(result))\n"
     ]
    }
   ],
   "source": [
    "lg_1_precision_score = precision_score(y_test,lg_1_pred)\n",
    "print(f'precision_score of lg_1 is:',lg_1_precision_score)"
   ]
  },
  {
   "cell_type": "code",
   "execution_count": 24,
   "id": "d440be09",
   "metadata": {
    "execution": {
     "iopub.execute_input": "2025-06-17T10:30:13.300626Z",
     "iopub.status.busy": "2025-06-17T10:30:13.300287Z",
     "iopub.status.idle": "2025-06-17T10:30:13.314727Z",
     "shell.execute_reply": "2025-06-17T10:30:13.313680Z"
    },
    "papermill": {
     "duration": 0.022718,
     "end_time": "2025-06-17T10:30:13.316177",
     "exception": false,
     "start_time": "2025-06-17T10:30:13.293459",
     "status": "completed"
    },
    "tags": []
   },
   "outputs": [
    {
     "name": "stdout",
     "output_type": "stream",
     "text": [
      "confusion_matrix of lg_1 is: [[56023     0]\n",
      " [ 4841     0]]\n"
     ]
    }
   ],
   "source": [
    "lg_1_confusion_matrix = confusion_matrix(y_test,lg_1_pred)\n",
    "print(f'confusion_matrix of lg_1 is:',lg_1_confusion_matrix)"
   ]
  },
  {
   "cell_type": "markdown",
   "id": "8891599b",
   "metadata": {
    "papermill": {
     "duration": 0.005916,
     "end_time": "2025-06-17T10:30:13.328267",
     "exception": false,
     "start_time": "2025-06-17T10:30:13.322351",
     "status": "completed"
    },
    "tags": []
   },
   "source": [
    "- **So as per these metrics the performance of the logistic regression is really worst because there are so many outliers in the dataset so now i will train those machine learning algorithms that are robust to outliers and see their performance**\n",
    "- **Logistic regression is like the base model on which i will compare the performance of the other model**"
   ]
  },
  {
   "cell_type": "code",
   "execution_count": null,
   "id": "754a617e",
   "metadata": {
    "papermill": {
     "duration": 0.005582,
     "end_time": "2025-06-17T10:30:13.339557",
     "exception": false,
     "start_time": "2025-06-17T10:30:13.333975",
     "status": "completed"
    },
    "tags": []
   },
   "outputs": [],
   "source": []
  }
 ],
 "metadata": {
  "kaggle": {
   "accelerator": "none",
   "dataSources": [
    {
     "datasetId": 7646226,
     "sourceId": 12140879,
     "sourceType": "datasetVersion"
    }
   ],
   "dockerImageVersionId": 31040,
   "isGpuEnabled": false,
   "isInternetEnabled": true,
   "language": "python",
   "sourceType": "notebook"
  },
  "kernelspec": {
   "display_name": "Python 3",
   "language": "python",
   "name": "python3"
  },
  "language_info": {
   "codemirror_mode": {
    "name": "ipython",
    "version": 3
   },
   "file_extension": ".py",
   "mimetype": "text/x-python",
   "name": "python",
   "nbconvert_exporter": "python",
   "pygments_lexer": "ipython3",
   "version": "3.11.11"
  },
  "papermill": {
   "default_parameters": {},
   "duration": 20.677384,
   "end_time": "2025-06-17T10:30:14.065136",
   "environment_variables": {},
   "exception": null,
   "input_path": "__notebook__.ipynb",
   "output_path": "__notebook__.ipynb",
   "parameters": {},
   "start_time": "2025-06-17T10:29:53.387752",
   "version": "2.6.0"
  }
 },
 "nbformat": 4,
 "nbformat_minor": 5
}
