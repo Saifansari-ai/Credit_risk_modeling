{
 "cells": [
  {
   "cell_type": "markdown",
   "id": "41e098aa",
   "metadata": {},
   "source": [
    "## 🧼 Basic Data Preprocessing Workflow\n",
    "\n",
    "This section outlines the key steps taken to preprocess the main datasets (`application_train.csv` and `application_test.csv`) for credit risk modeling.\n",
    "\n",
    "---\n",
    "\n",
    "### 🔹 1. Load the Data\n",
    "- Import `application_train.csv` and `application_test.csv`\n",
    "- Display basic info, shape, and sample rows\n",
    "\n",
    "---\n",
    "\n",
    "### 🔹 2. Handle Missing Values\n",
    "- Identify columns with missing values\n",
    "- Drop columns with too many missing values\n",
    "- Fill numerical columns with median or mean\n",
    "- Fill categorical columns with mode or \"Unknown\"\n",
    "\n",
    "---\n",
    "\n",
    "### 🔹 3. Fix Data Anomalies\n",
    "- Correct or flag outliers if needed\n",
    "\n",
    "---\n",
    "\n",
    "### 🔹 4. Encode Categorical Variables\n",
    "- Use Label Encoding for binary categorical features\n",
    "- Use One-Hot Encoding for nominal features with <10–15 unique categories\n",
    "- Ensure train and test sets have matching columns after encoding\n",
    "\n",
    "---\n",
    "\n",
    "### 🔹 5. Align Train and Test Sets\n",
    "- Align both datasets to have the same features\n",
    "- Retain `TARGET` column in training set\n",
    "\n",
    "---\n",
    "\n",
    "### 🔹 6. Feature Scaling\n",
    "- Apply MinMaxScaler or StandardScaler to normalize feature ranges\n",
    "\n",
    "---\n",
    "\n",
    "### 🔹 7. Save Preprocessed Data\n",
    "- Save cleaned train and test datasets\n",
    "\n",
    "---\n",
    "\n",
    "This preprocessing sets the foundation for robust modeling and ensures consistency between training and testing pipelines.\n",
    "\n",
    "---\n",
    "### Import Libraries\n"
   ]
  },
  {
   "cell_type": "code",
   "execution_count": 1,
   "id": "5c0057ec",
   "metadata": {},
   "outputs": [],
   "source": [
    "import numpy as np\n",
    "import pandas as pd\n",
    "import matplotlib.pyplot as plt\n",
    "import seaborn as sns\n",
    "from sklearn.ensemble import IsolationForest"
   ]
  },
  {
   "cell_type": "code",
   "execution_count": 2,
   "id": "d9598b04",
   "metadata": {},
   "outputs": [],
   "source": [
    "# Read train and test data\n",
    "train = pd.read_csv('/home/saif/Desktop/Credit_risk_modeling/home-credit-default-risk/application_train.csv')\n",
    "test = pd.read_csv('/home/saif/Desktop/Credit_risk_modeling/home-credit-default-risk/application_test.csv')"
   ]
  },
  {
   "cell_type": "code",
   "execution_count": 3,
   "id": "7a1d6168",
   "metadata": {},
   "outputs": [
    {
     "name": "stdout",
     "output_type": "stream",
     "text": [
      "<class 'pandas.core.frame.DataFrame'>\n",
      "RangeIndex: 307511 entries, 0 to 307510\n",
      "Columns: 122 entries, SK_ID_CURR to AMT_REQ_CREDIT_BUREAU_YEAR\n",
      "dtypes: float64(65), int64(41), object(16)\n",
      "memory usage: 286.2+ MB\n"
     ]
    }
   ],
   "source": [
    "train.info()"
   ]
  },
  {
   "cell_type": "code",
   "execution_count": 4,
   "id": "ff6372d2",
   "metadata": {},
   "outputs": [
    {
     "name": "stdout",
     "output_type": "stream",
     "text": [
      "<class 'pandas.core.frame.DataFrame'>\n",
      "RangeIndex: 48744 entries, 0 to 48743\n",
      "Columns: 121 entries, SK_ID_CURR to AMT_REQ_CREDIT_BUREAU_YEAR\n",
      "dtypes: float64(65), int64(40), object(16)\n",
      "memory usage: 45.0+ MB\n"
     ]
    }
   ],
   "source": [
    "test.info()"
   ]
  },
  {
   "cell_type": "code",
   "execution_count": 5,
   "id": "efb3a431",
   "metadata": {},
   "outputs": [
    {
     "data": {
      "text/html": [
       "<div>\n",
       "<style scoped>\n",
       "    .dataframe tbody tr th:only-of-type {\n",
       "        vertical-align: middle;\n",
       "    }\n",
       "\n",
       "    .dataframe tbody tr th {\n",
       "        vertical-align: top;\n",
       "    }\n",
       "\n",
       "    .dataframe thead th {\n",
       "        text-align: right;\n",
       "    }\n",
       "</style>\n",
       "<table border=\"1\" class=\"dataframe\">\n",
       "  <thead>\n",
       "    <tr style=\"text-align: right;\">\n",
       "      <th></th>\n",
       "      <th>SK_ID_CURR</th>\n",
       "      <th>TARGET</th>\n",
       "      <th>NAME_CONTRACT_TYPE</th>\n",
       "      <th>CODE_GENDER</th>\n",
       "      <th>FLAG_OWN_CAR</th>\n",
       "      <th>FLAG_OWN_REALTY</th>\n",
       "      <th>CNT_CHILDREN</th>\n",
       "      <th>AMT_INCOME_TOTAL</th>\n",
       "      <th>AMT_CREDIT</th>\n",
       "      <th>AMT_ANNUITY</th>\n",
       "      <th>...</th>\n",
       "      <th>FLAG_DOCUMENT_18</th>\n",
       "      <th>FLAG_DOCUMENT_19</th>\n",
       "      <th>FLAG_DOCUMENT_20</th>\n",
       "      <th>FLAG_DOCUMENT_21</th>\n",
       "      <th>AMT_REQ_CREDIT_BUREAU_HOUR</th>\n",
       "      <th>AMT_REQ_CREDIT_BUREAU_DAY</th>\n",
       "      <th>AMT_REQ_CREDIT_BUREAU_WEEK</th>\n",
       "      <th>AMT_REQ_CREDIT_BUREAU_MON</th>\n",
       "      <th>AMT_REQ_CREDIT_BUREAU_QRT</th>\n",
       "      <th>AMT_REQ_CREDIT_BUREAU_YEAR</th>\n",
       "    </tr>\n",
       "  </thead>\n",
       "  <tbody>\n",
       "    <tr>\n",
       "      <th>0</th>\n",
       "      <td>100002</td>\n",
       "      <td>1</td>\n",
       "      <td>Cash loans</td>\n",
       "      <td>M</td>\n",
       "      <td>N</td>\n",
       "      <td>Y</td>\n",
       "      <td>0</td>\n",
       "      <td>202500.0</td>\n",
       "      <td>406597.5</td>\n",
       "      <td>24700.5</td>\n",
       "      <td>...</td>\n",
       "      <td>0</td>\n",
       "      <td>0</td>\n",
       "      <td>0</td>\n",
       "      <td>0</td>\n",
       "      <td>0.0</td>\n",
       "      <td>0.0</td>\n",
       "      <td>0.0</td>\n",
       "      <td>0.0</td>\n",
       "      <td>0.0</td>\n",
       "      <td>1.0</td>\n",
       "    </tr>\n",
       "    <tr>\n",
       "      <th>1</th>\n",
       "      <td>100003</td>\n",
       "      <td>0</td>\n",
       "      <td>Cash loans</td>\n",
       "      <td>F</td>\n",
       "      <td>N</td>\n",
       "      <td>N</td>\n",
       "      <td>0</td>\n",
       "      <td>270000.0</td>\n",
       "      <td>1293502.5</td>\n",
       "      <td>35698.5</td>\n",
       "      <td>...</td>\n",
       "      <td>0</td>\n",
       "      <td>0</td>\n",
       "      <td>0</td>\n",
       "      <td>0</td>\n",
       "      <td>0.0</td>\n",
       "      <td>0.0</td>\n",
       "      <td>0.0</td>\n",
       "      <td>0.0</td>\n",
       "      <td>0.0</td>\n",
       "      <td>0.0</td>\n",
       "    </tr>\n",
       "    <tr>\n",
       "      <th>2</th>\n",
       "      <td>100004</td>\n",
       "      <td>0</td>\n",
       "      <td>Revolving loans</td>\n",
       "      <td>M</td>\n",
       "      <td>Y</td>\n",
       "      <td>Y</td>\n",
       "      <td>0</td>\n",
       "      <td>67500.0</td>\n",
       "      <td>135000.0</td>\n",
       "      <td>6750.0</td>\n",
       "      <td>...</td>\n",
       "      <td>0</td>\n",
       "      <td>0</td>\n",
       "      <td>0</td>\n",
       "      <td>0</td>\n",
       "      <td>0.0</td>\n",
       "      <td>0.0</td>\n",
       "      <td>0.0</td>\n",
       "      <td>0.0</td>\n",
       "      <td>0.0</td>\n",
       "      <td>0.0</td>\n",
       "    </tr>\n",
       "    <tr>\n",
       "      <th>3</th>\n",
       "      <td>100006</td>\n",
       "      <td>0</td>\n",
       "      <td>Cash loans</td>\n",
       "      <td>F</td>\n",
       "      <td>N</td>\n",
       "      <td>Y</td>\n",
       "      <td>0</td>\n",
       "      <td>135000.0</td>\n",
       "      <td>312682.5</td>\n",
       "      <td>29686.5</td>\n",
       "      <td>...</td>\n",
       "      <td>0</td>\n",
       "      <td>0</td>\n",
       "      <td>0</td>\n",
       "      <td>0</td>\n",
       "      <td>NaN</td>\n",
       "      <td>NaN</td>\n",
       "      <td>NaN</td>\n",
       "      <td>NaN</td>\n",
       "      <td>NaN</td>\n",
       "      <td>NaN</td>\n",
       "    </tr>\n",
       "    <tr>\n",
       "      <th>4</th>\n",
       "      <td>100007</td>\n",
       "      <td>0</td>\n",
       "      <td>Cash loans</td>\n",
       "      <td>M</td>\n",
       "      <td>N</td>\n",
       "      <td>Y</td>\n",
       "      <td>0</td>\n",
       "      <td>121500.0</td>\n",
       "      <td>513000.0</td>\n",
       "      <td>21865.5</td>\n",
       "      <td>...</td>\n",
       "      <td>0</td>\n",
       "      <td>0</td>\n",
       "      <td>0</td>\n",
       "      <td>0</td>\n",
       "      <td>0.0</td>\n",
       "      <td>0.0</td>\n",
       "      <td>0.0</td>\n",
       "      <td>0.0</td>\n",
       "      <td>0.0</td>\n",
       "      <td>0.0</td>\n",
       "    </tr>\n",
       "  </tbody>\n",
       "</table>\n",
       "<p>5 rows × 122 columns</p>\n",
       "</div>"
      ],
      "text/plain": [
       "   SK_ID_CURR  TARGET NAME_CONTRACT_TYPE CODE_GENDER FLAG_OWN_CAR  \\\n",
       "0      100002       1         Cash loans           M            N   \n",
       "1      100003       0         Cash loans           F            N   \n",
       "2      100004       0    Revolving loans           M            Y   \n",
       "3      100006       0         Cash loans           F            N   \n",
       "4      100007       0         Cash loans           M            N   \n",
       "\n",
       "  FLAG_OWN_REALTY  CNT_CHILDREN  AMT_INCOME_TOTAL  AMT_CREDIT  AMT_ANNUITY  \\\n",
       "0               Y             0          202500.0    406597.5      24700.5   \n",
       "1               N             0          270000.0   1293502.5      35698.5   \n",
       "2               Y             0           67500.0    135000.0       6750.0   \n",
       "3               Y             0          135000.0    312682.5      29686.5   \n",
       "4               Y             0          121500.0    513000.0      21865.5   \n",
       "\n",
       "   ...  FLAG_DOCUMENT_18 FLAG_DOCUMENT_19 FLAG_DOCUMENT_20 FLAG_DOCUMENT_21  \\\n",
       "0  ...                 0                0                0                0   \n",
       "1  ...                 0                0                0                0   \n",
       "2  ...                 0                0                0                0   \n",
       "3  ...                 0                0                0                0   \n",
       "4  ...                 0                0                0                0   \n",
       "\n",
       "  AMT_REQ_CREDIT_BUREAU_HOUR AMT_REQ_CREDIT_BUREAU_DAY  \\\n",
       "0                        0.0                       0.0   \n",
       "1                        0.0                       0.0   \n",
       "2                        0.0                       0.0   \n",
       "3                        NaN                       NaN   \n",
       "4                        0.0                       0.0   \n",
       "\n",
       "   AMT_REQ_CREDIT_BUREAU_WEEK  AMT_REQ_CREDIT_BUREAU_MON  \\\n",
       "0                         0.0                        0.0   \n",
       "1                         0.0                        0.0   \n",
       "2                         0.0                        0.0   \n",
       "3                         NaN                        NaN   \n",
       "4                         0.0                        0.0   \n",
       "\n",
       "   AMT_REQ_CREDIT_BUREAU_QRT  AMT_REQ_CREDIT_BUREAU_YEAR  \n",
       "0                        0.0                         1.0  \n",
       "1                        0.0                         0.0  \n",
       "2                        0.0                         0.0  \n",
       "3                        NaN                         NaN  \n",
       "4                        0.0                         0.0  \n",
       "\n",
       "[5 rows x 122 columns]"
      ]
     },
     "execution_count": 5,
     "metadata": {},
     "output_type": "execute_result"
    }
   ],
   "source": [
    "train.head()"
   ]
  },
  {
   "cell_type": "code",
   "execution_count": 5,
   "id": "108e9584",
   "metadata": {},
   "outputs": [
    {
     "name": "stdout",
     "output_type": "stream",
     "text": [
      "(307511, 122)\n",
      "(48744, 121)\n"
     ]
    }
   ],
   "source": [
    "print(train.shape)\n",
    "print(test.shape)"
   ]
  },
  {
   "cell_type": "markdown",
   "id": "281858b0",
   "metadata": {},
   "source": [
    "# Handling Missing values"
   ]
  },
  {
   "cell_type": "code",
   "execution_count": 6,
   "id": "18b9fd8d",
   "metadata": {},
   "outputs": [
    {
     "data": {
      "text/plain": [
       "SK_ID_CURR                        0\n",
       "TARGET                            0\n",
       "NAME_CONTRACT_TYPE                0\n",
       "CODE_GENDER                       0\n",
       "FLAG_OWN_CAR                      0\n",
       "                              ...  \n",
       "AMT_REQ_CREDIT_BUREAU_DAY     41519\n",
       "AMT_REQ_CREDIT_BUREAU_WEEK    41519\n",
       "AMT_REQ_CREDIT_BUREAU_MON     41519\n",
       "AMT_REQ_CREDIT_BUREAU_QRT     41519\n",
       "AMT_REQ_CREDIT_BUREAU_YEAR    41519\n",
       "Length: 122, dtype: int64"
      ]
     },
     "execution_count": 6,
     "metadata": {},
     "output_type": "execute_result"
    }
   ],
   "source": [
    "train.isnull().sum()\n"
   ]
  },
  {
   "cell_type": "code",
   "execution_count": 7,
   "id": "ec83a910",
   "metadata": {},
   "outputs": [
    {
     "data": {
      "text/plain": [
       "SK_ID_CURR                       0\n",
       "NAME_CONTRACT_TYPE               0\n",
       "CODE_GENDER                      0\n",
       "FLAG_OWN_CAR                     0\n",
       "FLAG_OWN_REALTY                  0\n",
       "                              ... \n",
       "AMT_REQ_CREDIT_BUREAU_DAY     6049\n",
       "AMT_REQ_CREDIT_BUREAU_WEEK    6049\n",
       "AMT_REQ_CREDIT_BUREAU_MON     6049\n",
       "AMT_REQ_CREDIT_BUREAU_QRT     6049\n",
       "AMT_REQ_CREDIT_BUREAU_YEAR    6049\n",
       "Length: 121, dtype: int64"
      ]
     },
     "execution_count": 7,
     "metadata": {},
     "output_type": "execute_result"
    }
   ],
   "source": [
    "test.isnull().sum()"
   ]
  },
  {
   "cell_type": "code",
   "execution_count": 8,
   "id": "4367117a",
   "metadata": {},
   "outputs": [],
   "source": [
    "# function to identify columns and thier missing percentages values\n",
    "def missing_values(df):\n",
    "    total = df.isnull().sum().sort_values(ascending=False)\n",
    "    percent = (df.isnull().sum() / df.isnull().count()).sort_values(ascending=False)\n",
    "    missing_data = pd.concat([total, percent], axis=1, keys=['Total', 'Percent'])\n",
    "    return missing_data"
   ]
  },
  {
   "cell_type": "code",
   "execution_count": 9,
   "id": "f4b00050",
   "metadata": {},
   "outputs": [
    {
     "data": {
      "text/html": [
       "<div>\n",
       "<style scoped>\n",
       "    .dataframe tbody tr th:only-of-type {\n",
       "        vertical-align: middle;\n",
       "    }\n",
       "\n",
       "    .dataframe tbody tr th {\n",
       "        vertical-align: top;\n",
       "    }\n",
       "\n",
       "    .dataframe thead th {\n",
       "        text-align: right;\n",
       "    }\n",
       "</style>\n",
       "<table border=\"1\" class=\"dataframe\">\n",
       "  <thead>\n",
       "    <tr style=\"text-align: right;\">\n",
       "      <th></th>\n",
       "      <th>Total</th>\n",
       "      <th>Percent</th>\n",
       "    </tr>\n",
       "  </thead>\n",
       "  <tbody>\n",
       "    <tr>\n",
       "      <th>COMMONAREA_MEDI</th>\n",
       "      <td>214865</td>\n",
       "      <td>0.698723</td>\n",
       "    </tr>\n",
       "    <tr>\n",
       "      <th>COMMONAREA_AVG</th>\n",
       "      <td>214865</td>\n",
       "      <td>0.698723</td>\n",
       "    </tr>\n",
       "    <tr>\n",
       "      <th>COMMONAREA_MODE</th>\n",
       "      <td>214865</td>\n",
       "      <td>0.698723</td>\n",
       "    </tr>\n",
       "    <tr>\n",
       "      <th>NONLIVINGAPARTMENTS_MODE</th>\n",
       "      <td>213514</td>\n",
       "      <td>0.694330</td>\n",
       "    </tr>\n",
       "    <tr>\n",
       "      <th>NONLIVINGAPARTMENTS_AVG</th>\n",
       "      <td>213514</td>\n",
       "      <td>0.694330</td>\n",
       "    </tr>\n",
       "    <tr>\n",
       "      <th>NONLIVINGAPARTMENTS_MEDI</th>\n",
       "      <td>213514</td>\n",
       "      <td>0.694330</td>\n",
       "    </tr>\n",
       "    <tr>\n",
       "      <th>FONDKAPREMONT_MODE</th>\n",
       "      <td>210295</td>\n",
       "      <td>0.683862</td>\n",
       "    </tr>\n",
       "    <tr>\n",
       "      <th>LIVINGAPARTMENTS_MODE</th>\n",
       "      <td>210199</td>\n",
       "      <td>0.683550</td>\n",
       "    </tr>\n",
       "    <tr>\n",
       "      <th>LIVINGAPARTMENTS_AVG</th>\n",
       "      <td>210199</td>\n",
       "      <td>0.683550</td>\n",
       "    </tr>\n",
       "    <tr>\n",
       "      <th>LIVINGAPARTMENTS_MEDI</th>\n",
       "      <td>210199</td>\n",
       "      <td>0.683550</td>\n",
       "    </tr>\n",
       "    <tr>\n",
       "      <th>FLOORSMIN_AVG</th>\n",
       "      <td>208642</td>\n",
       "      <td>0.678486</td>\n",
       "    </tr>\n",
       "    <tr>\n",
       "      <th>FLOORSMIN_MODE</th>\n",
       "      <td>208642</td>\n",
       "      <td>0.678486</td>\n",
       "    </tr>\n",
       "    <tr>\n",
       "      <th>FLOORSMIN_MEDI</th>\n",
       "      <td>208642</td>\n",
       "      <td>0.678486</td>\n",
       "    </tr>\n",
       "    <tr>\n",
       "      <th>YEARS_BUILD_MEDI</th>\n",
       "      <td>204488</td>\n",
       "      <td>0.664978</td>\n",
       "    </tr>\n",
       "    <tr>\n",
       "      <th>YEARS_BUILD_MODE</th>\n",
       "      <td>204488</td>\n",
       "      <td>0.664978</td>\n",
       "    </tr>\n",
       "    <tr>\n",
       "      <th>YEARS_BUILD_AVG</th>\n",
       "      <td>204488</td>\n",
       "      <td>0.664978</td>\n",
       "    </tr>\n",
       "    <tr>\n",
       "      <th>OWN_CAR_AGE</th>\n",
       "      <td>202929</td>\n",
       "      <td>0.659908</td>\n",
       "    </tr>\n",
       "    <tr>\n",
       "      <th>LANDAREA_MEDI</th>\n",
       "      <td>182590</td>\n",
       "      <td>0.593767</td>\n",
       "    </tr>\n",
       "    <tr>\n",
       "      <th>LANDAREA_MODE</th>\n",
       "      <td>182590</td>\n",
       "      <td>0.593767</td>\n",
       "    </tr>\n",
       "    <tr>\n",
       "      <th>LANDAREA_AVG</th>\n",
       "      <td>182590</td>\n",
       "      <td>0.593767</td>\n",
       "    </tr>\n",
       "    <tr>\n",
       "      <th>BASEMENTAREA_MEDI</th>\n",
       "      <td>179943</td>\n",
       "      <td>0.585160</td>\n",
       "    </tr>\n",
       "    <tr>\n",
       "      <th>BASEMENTAREA_AVG</th>\n",
       "      <td>179943</td>\n",
       "      <td>0.585160</td>\n",
       "    </tr>\n",
       "    <tr>\n",
       "      <th>BASEMENTAREA_MODE</th>\n",
       "      <td>179943</td>\n",
       "      <td>0.585160</td>\n",
       "    </tr>\n",
       "    <tr>\n",
       "      <th>EXT_SOURCE_1</th>\n",
       "      <td>173378</td>\n",
       "      <td>0.563811</td>\n",
       "    </tr>\n",
       "    <tr>\n",
       "      <th>NONLIVINGAREA_MODE</th>\n",
       "      <td>169682</td>\n",
       "      <td>0.551792</td>\n",
       "    </tr>\n",
       "    <tr>\n",
       "      <th>NONLIVINGAREA_AVG</th>\n",
       "      <td>169682</td>\n",
       "      <td>0.551792</td>\n",
       "    </tr>\n",
       "    <tr>\n",
       "      <th>NONLIVINGAREA_MEDI</th>\n",
       "      <td>169682</td>\n",
       "      <td>0.551792</td>\n",
       "    </tr>\n",
       "    <tr>\n",
       "      <th>ELEVATORS_MEDI</th>\n",
       "      <td>163891</td>\n",
       "      <td>0.532960</td>\n",
       "    </tr>\n",
       "    <tr>\n",
       "      <th>ELEVATORS_AVG</th>\n",
       "      <td>163891</td>\n",
       "      <td>0.532960</td>\n",
       "    </tr>\n",
       "    <tr>\n",
       "      <th>ELEVATORS_MODE</th>\n",
       "      <td>163891</td>\n",
       "      <td>0.532960</td>\n",
       "    </tr>\n",
       "    <tr>\n",
       "      <th>WALLSMATERIAL_MODE</th>\n",
       "      <td>156341</td>\n",
       "      <td>0.508408</td>\n",
       "    </tr>\n",
       "    <tr>\n",
       "      <th>APARTMENTS_MEDI</th>\n",
       "      <td>156061</td>\n",
       "      <td>0.507497</td>\n",
       "    </tr>\n",
       "    <tr>\n",
       "      <th>APARTMENTS_AVG</th>\n",
       "      <td>156061</td>\n",
       "      <td>0.507497</td>\n",
       "    </tr>\n",
       "    <tr>\n",
       "      <th>APARTMENTS_MODE</th>\n",
       "      <td>156061</td>\n",
       "      <td>0.507497</td>\n",
       "    </tr>\n",
       "    <tr>\n",
       "      <th>ENTRANCES_MEDI</th>\n",
       "      <td>154828</td>\n",
       "      <td>0.503488</td>\n",
       "    </tr>\n",
       "    <tr>\n",
       "      <th>ENTRANCES_AVG</th>\n",
       "      <td>154828</td>\n",
       "      <td>0.503488</td>\n",
       "    </tr>\n",
       "    <tr>\n",
       "      <th>ENTRANCES_MODE</th>\n",
       "      <td>154828</td>\n",
       "      <td>0.503488</td>\n",
       "    </tr>\n",
       "    <tr>\n",
       "      <th>LIVINGAREA_AVG</th>\n",
       "      <td>154350</td>\n",
       "      <td>0.501933</td>\n",
       "    </tr>\n",
       "    <tr>\n",
       "      <th>LIVINGAREA_MODE</th>\n",
       "      <td>154350</td>\n",
       "      <td>0.501933</td>\n",
       "    </tr>\n",
       "    <tr>\n",
       "      <th>LIVINGAREA_MEDI</th>\n",
       "      <td>154350</td>\n",
       "      <td>0.501933</td>\n",
       "    </tr>\n",
       "    <tr>\n",
       "      <th>HOUSETYPE_MODE</th>\n",
       "      <td>154297</td>\n",
       "      <td>0.501761</td>\n",
       "    </tr>\n",
       "    <tr>\n",
       "      <th>FLOORSMAX_MODE</th>\n",
       "      <td>153020</td>\n",
       "      <td>0.497608</td>\n",
       "    </tr>\n",
       "    <tr>\n",
       "      <th>FLOORSMAX_MEDI</th>\n",
       "      <td>153020</td>\n",
       "      <td>0.497608</td>\n",
       "    </tr>\n",
       "    <tr>\n",
       "      <th>FLOORSMAX_AVG</th>\n",
       "      <td>153020</td>\n",
       "      <td>0.497608</td>\n",
       "    </tr>\n",
       "    <tr>\n",
       "      <th>YEARS_BEGINEXPLUATATION_MODE</th>\n",
       "      <td>150007</td>\n",
       "      <td>0.487810</td>\n",
       "    </tr>\n",
       "    <tr>\n",
       "      <th>YEARS_BEGINEXPLUATATION_MEDI</th>\n",
       "      <td>150007</td>\n",
       "      <td>0.487810</td>\n",
       "    </tr>\n",
       "    <tr>\n",
       "      <th>YEARS_BEGINEXPLUATATION_AVG</th>\n",
       "      <td>150007</td>\n",
       "      <td>0.487810</td>\n",
       "    </tr>\n",
       "    <tr>\n",
       "      <th>TOTALAREA_MODE</th>\n",
       "      <td>148431</td>\n",
       "      <td>0.482685</td>\n",
       "    </tr>\n",
       "    <tr>\n",
       "      <th>EMERGENCYSTATE_MODE</th>\n",
       "      <td>145755</td>\n",
       "      <td>0.473983</td>\n",
       "    </tr>\n",
       "  </tbody>\n",
       "</table>\n",
       "</div>"
      ],
      "text/plain": [
       "                               Total   Percent\n",
       "COMMONAREA_MEDI               214865  0.698723\n",
       "COMMONAREA_AVG                214865  0.698723\n",
       "COMMONAREA_MODE               214865  0.698723\n",
       "NONLIVINGAPARTMENTS_MODE      213514  0.694330\n",
       "NONLIVINGAPARTMENTS_AVG       213514  0.694330\n",
       "NONLIVINGAPARTMENTS_MEDI      213514  0.694330\n",
       "FONDKAPREMONT_MODE            210295  0.683862\n",
       "LIVINGAPARTMENTS_MODE         210199  0.683550\n",
       "LIVINGAPARTMENTS_AVG          210199  0.683550\n",
       "LIVINGAPARTMENTS_MEDI         210199  0.683550\n",
       "FLOORSMIN_AVG                 208642  0.678486\n",
       "FLOORSMIN_MODE                208642  0.678486\n",
       "FLOORSMIN_MEDI                208642  0.678486\n",
       "YEARS_BUILD_MEDI              204488  0.664978\n",
       "YEARS_BUILD_MODE              204488  0.664978\n",
       "YEARS_BUILD_AVG               204488  0.664978\n",
       "OWN_CAR_AGE                   202929  0.659908\n",
       "LANDAREA_MEDI                 182590  0.593767\n",
       "LANDAREA_MODE                 182590  0.593767\n",
       "LANDAREA_AVG                  182590  0.593767\n",
       "BASEMENTAREA_MEDI             179943  0.585160\n",
       "BASEMENTAREA_AVG              179943  0.585160\n",
       "BASEMENTAREA_MODE             179943  0.585160\n",
       "EXT_SOURCE_1                  173378  0.563811\n",
       "NONLIVINGAREA_MODE            169682  0.551792\n",
       "NONLIVINGAREA_AVG             169682  0.551792\n",
       "NONLIVINGAREA_MEDI            169682  0.551792\n",
       "ELEVATORS_MEDI                163891  0.532960\n",
       "ELEVATORS_AVG                 163891  0.532960\n",
       "ELEVATORS_MODE                163891  0.532960\n",
       "WALLSMATERIAL_MODE            156341  0.508408\n",
       "APARTMENTS_MEDI               156061  0.507497\n",
       "APARTMENTS_AVG                156061  0.507497\n",
       "APARTMENTS_MODE               156061  0.507497\n",
       "ENTRANCES_MEDI                154828  0.503488\n",
       "ENTRANCES_AVG                 154828  0.503488\n",
       "ENTRANCES_MODE                154828  0.503488\n",
       "LIVINGAREA_AVG                154350  0.501933\n",
       "LIVINGAREA_MODE               154350  0.501933\n",
       "LIVINGAREA_MEDI               154350  0.501933\n",
       "HOUSETYPE_MODE                154297  0.501761\n",
       "FLOORSMAX_MODE                153020  0.497608\n",
       "FLOORSMAX_MEDI                153020  0.497608\n",
       "FLOORSMAX_AVG                 153020  0.497608\n",
       "YEARS_BEGINEXPLUATATION_MODE  150007  0.487810\n",
       "YEARS_BEGINEXPLUATATION_MEDI  150007  0.487810\n",
       "YEARS_BEGINEXPLUATATION_AVG   150007  0.487810\n",
       "TOTALAREA_MODE                148431  0.482685\n",
       "EMERGENCYSTATE_MODE           145755  0.473983"
      ]
     },
     "execution_count": 9,
     "metadata": {},
     "output_type": "execute_result"
    }
   ],
   "source": [
    "# columns with more than 40% missing values in train dataset\n",
    "missing_values(train).loc[missing_values(train)['Percent'] > 0.4]"
   ]
  },
  {
   "cell_type": "code",
   "execution_count": 10,
   "id": "33fd9c2b",
   "metadata": {},
   "outputs": [
    {
     "data": {
      "text/plain": [
       "Index(['COMMONAREA_MEDI', 'COMMONAREA_AVG', 'COMMONAREA_MODE',\n",
       "       'NONLIVINGAPARTMENTS_MODE', 'NONLIVINGAPARTMENTS_AVG',\n",
       "       'NONLIVINGAPARTMENTS_MEDI', 'FONDKAPREMONT_MODE',\n",
       "       'LIVINGAPARTMENTS_MODE', 'LIVINGAPARTMENTS_AVG',\n",
       "       'LIVINGAPARTMENTS_MEDI', 'FLOORSMIN_AVG', 'FLOORSMIN_MODE',\n",
       "       'FLOORSMIN_MEDI', 'YEARS_BUILD_MEDI', 'YEARS_BUILD_MODE',\n",
       "       'YEARS_BUILD_AVG', 'OWN_CAR_AGE', 'LANDAREA_MEDI', 'LANDAREA_MODE',\n",
       "       'LANDAREA_AVG', 'BASEMENTAREA_MEDI', 'BASEMENTAREA_AVG',\n",
       "       'BASEMENTAREA_MODE', 'EXT_SOURCE_1', 'NONLIVINGAREA_MODE',\n",
       "       'NONLIVINGAREA_AVG', 'NONLIVINGAREA_MEDI', 'ELEVATORS_MEDI',\n",
       "       'ELEVATORS_AVG', 'ELEVATORS_MODE', 'WALLSMATERIAL_MODE',\n",
       "       'APARTMENTS_MEDI', 'APARTMENTS_AVG', 'APARTMENTS_MODE',\n",
       "       'ENTRANCES_MEDI', 'ENTRANCES_AVG', 'ENTRANCES_MODE', 'LIVINGAREA_AVG',\n",
       "       'LIVINGAREA_MODE', 'LIVINGAREA_MEDI', 'HOUSETYPE_MODE',\n",
       "       'FLOORSMAX_MODE', 'FLOORSMAX_MEDI', 'FLOORSMAX_AVG',\n",
       "       'YEARS_BEGINEXPLUATATION_MODE', 'YEARS_BEGINEXPLUATATION_MEDI',\n",
       "       'YEARS_BEGINEXPLUATATION_AVG', 'TOTALAREA_MODE', 'EMERGENCYSTATE_MODE'],\n",
       "      dtype='object')"
      ]
     },
     "execution_count": 10,
     "metadata": {},
     "output_type": "execute_result"
    }
   ],
   "source": [
    "missing_values(train).loc[missing_values(train)['Percent'] > 0.4].index"
   ]
  },
  {
   "cell_type": "code",
   "execution_count": 11,
   "id": "bb977b98",
   "metadata": {},
   "outputs": [
    {
     "data": {
      "text/html": [
       "<div>\n",
       "<style scoped>\n",
       "    .dataframe tbody tr th:only-of-type {\n",
       "        vertical-align: middle;\n",
       "    }\n",
       "\n",
       "    .dataframe tbody tr th {\n",
       "        vertical-align: top;\n",
       "    }\n",
       "\n",
       "    .dataframe thead th {\n",
       "        text-align: right;\n",
       "    }\n",
       "</style>\n",
       "<table border=\"1\" class=\"dataframe\">\n",
       "  <thead>\n",
       "    <tr style=\"text-align: right;\">\n",
       "      <th></th>\n",
       "      <th>Total</th>\n",
       "      <th>Percent</th>\n",
       "    </tr>\n",
       "  </thead>\n",
       "  <tbody>\n",
       "    <tr>\n",
       "      <th>COMMONAREA_AVG</th>\n",
       "      <td>33495</td>\n",
       "      <td>0.687161</td>\n",
       "    </tr>\n",
       "    <tr>\n",
       "      <th>COMMONAREA_MODE</th>\n",
       "      <td>33495</td>\n",
       "      <td>0.687161</td>\n",
       "    </tr>\n",
       "    <tr>\n",
       "      <th>COMMONAREA_MEDI</th>\n",
       "      <td>33495</td>\n",
       "      <td>0.687161</td>\n",
       "    </tr>\n",
       "    <tr>\n",
       "      <th>NONLIVINGAPARTMENTS_AVG</th>\n",
       "      <td>33347</td>\n",
       "      <td>0.684125</td>\n",
       "    </tr>\n",
       "    <tr>\n",
       "      <th>NONLIVINGAPARTMENTS_MODE</th>\n",
       "      <td>33347</td>\n",
       "      <td>0.684125</td>\n",
       "    </tr>\n",
       "    <tr>\n",
       "      <th>NONLIVINGAPARTMENTS_MEDI</th>\n",
       "      <td>33347</td>\n",
       "      <td>0.684125</td>\n",
       "    </tr>\n",
       "    <tr>\n",
       "      <th>FONDKAPREMONT_MODE</th>\n",
       "      <td>32797</td>\n",
       "      <td>0.672842</td>\n",
       "    </tr>\n",
       "    <tr>\n",
       "      <th>LIVINGAPARTMENTS_AVG</th>\n",
       "      <td>32780</td>\n",
       "      <td>0.672493</td>\n",
       "    </tr>\n",
       "    <tr>\n",
       "      <th>LIVINGAPARTMENTS_MODE</th>\n",
       "      <td>32780</td>\n",
       "      <td>0.672493</td>\n",
       "    </tr>\n",
       "    <tr>\n",
       "      <th>LIVINGAPARTMENTS_MEDI</th>\n",
       "      <td>32780</td>\n",
       "      <td>0.672493</td>\n",
       "    </tr>\n",
       "    <tr>\n",
       "      <th>FLOORSMIN_MEDI</th>\n",
       "      <td>32466</td>\n",
       "      <td>0.666051</td>\n",
       "    </tr>\n",
       "    <tr>\n",
       "      <th>FLOORSMIN_AVG</th>\n",
       "      <td>32466</td>\n",
       "      <td>0.666051</td>\n",
       "    </tr>\n",
       "    <tr>\n",
       "      <th>FLOORSMIN_MODE</th>\n",
       "      <td>32466</td>\n",
       "      <td>0.666051</td>\n",
       "    </tr>\n",
       "    <tr>\n",
       "      <th>OWN_CAR_AGE</th>\n",
       "      <td>32312</td>\n",
       "      <td>0.662892</td>\n",
       "    </tr>\n",
       "    <tr>\n",
       "      <th>YEARS_BUILD_AVG</th>\n",
       "      <td>31818</td>\n",
       "      <td>0.652757</td>\n",
       "    </tr>\n",
       "    <tr>\n",
       "      <th>YEARS_BUILD_MEDI</th>\n",
       "      <td>31818</td>\n",
       "      <td>0.652757</td>\n",
       "    </tr>\n",
       "    <tr>\n",
       "      <th>YEARS_BUILD_MODE</th>\n",
       "      <td>31818</td>\n",
       "      <td>0.652757</td>\n",
       "    </tr>\n",
       "    <tr>\n",
       "      <th>LANDAREA_MEDI</th>\n",
       "      <td>28254</td>\n",
       "      <td>0.579641</td>\n",
       "    </tr>\n",
       "    <tr>\n",
       "      <th>LANDAREA_AVG</th>\n",
       "      <td>28254</td>\n",
       "      <td>0.579641</td>\n",
       "    </tr>\n",
       "    <tr>\n",
       "      <th>LANDAREA_MODE</th>\n",
       "      <td>28254</td>\n",
       "      <td>0.579641</td>\n",
       "    </tr>\n",
       "    <tr>\n",
       "      <th>BASEMENTAREA_MEDI</th>\n",
       "      <td>27641</td>\n",
       "      <td>0.567065</td>\n",
       "    </tr>\n",
       "    <tr>\n",
       "      <th>BASEMENTAREA_AVG</th>\n",
       "      <td>27641</td>\n",
       "      <td>0.567065</td>\n",
       "    </tr>\n",
       "    <tr>\n",
       "      <th>BASEMENTAREA_MODE</th>\n",
       "      <td>27641</td>\n",
       "      <td>0.567065</td>\n",
       "    </tr>\n",
       "    <tr>\n",
       "      <th>NONLIVINGAREA_AVG</th>\n",
       "      <td>26084</td>\n",
       "      <td>0.535122</td>\n",
       "    </tr>\n",
       "    <tr>\n",
       "      <th>NONLIVINGAREA_MODE</th>\n",
       "      <td>26084</td>\n",
       "      <td>0.535122</td>\n",
       "    </tr>\n",
       "    <tr>\n",
       "      <th>NONLIVINGAREA_MEDI</th>\n",
       "      <td>26084</td>\n",
       "      <td>0.535122</td>\n",
       "    </tr>\n",
       "    <tr>\n",
       "      <th>ELEVATORS_MODE</th>\n",
       "      <td>25189</td>\n",
       "      <td>0.516761</td>\n",
       "    </tr>\n",
       "    <tr>\n",
       "      <th>ELEVATORS_MEDI</th>\n",
       "      <td>25189</td>\n",
       "      <td>0.516761</td>\n",
       "    </tr>\n",
       "    <tr>\n",
       "      <th>ELEVATORS_AVG</th>\n",
       "      <td>25189</td>\n",
       "      <td>0.516761</td>\n",
       "    </tr>\n",
       "    <tr>\n",
       "      <th>WALLSMATERIAL_MODE</th>\n",
       "      <td>23893</td>\n",
       "      <td>0.490173</td>\n",
       "    </tr>\n",
       "    <tr>\n",
       "      <th>APARTMENTS_MODE</th>\n",
       "      <td>23887</td>\n",
       "      <td>0.490050</td>\n",
       "    </tr>\n",
       "    <tr>\n",
       "      <th>APARTMENTS_MEDI</th>\n",
       "      <td>23887</td>\n",
       "      <td>0.490050</td>\n",
       "    </tr>\n",
       "    <tr>\n",
       "      <th>APARTMENTS_AVG</th>\n",
       "      <td>23887</td>\n",
       "      <td>0.490050</td>\n",
       "    </tr>\n",
       "    <tr>\n",
       "      <th>HOUSETYPE_MODE</th>\n",
       "      <td>23619</td>\n",
       "      <td>0.484552</td>\n",
       "    </tr>\n",
       "    <tr>\n",
       "      <th>ENTRANCES_MODE</th>\n",
       "      <td>23579</td>\n",
       "      <td>0.483731</td>\n",
       "    </tr>\n",
       "    <tr>\n",
       "      <th>ENTRANCES_AVG</th>\n",
       "      <td>23579</td>\n",
       "      <td>0.483731</td>\n",
       "    </tr>\n",
       "    <tr>\n",
       "      <th>ENTRANCES_MEDI</th>\n",
       "      <td>23579</td>\n",
       "      <td>0.483731</td>\n",
       "    </tr>\n",
       "    <tr>\n",
       "      <th>LIVINGAREA_MEDI</th>\n",
       "      <td>23552</td>\n",
       "      <td>0.483177</td>\n",
       "    </tr>\n",
       "    <tr>\n",
       "      <th>LIVINGAREA_MODE</th>\n",
       "      <td>23552</td>\n",
       "      <td>0.483177</td>\n",
       "    </tr>\n",
       "    <tr>\n",
       "      <th>LIVINGAREA_AVG</th>\n",
       "      <td>23552</td>\n",
       "      <td>0.483177</td>\n",
       "    </tr>\n",
       "    <tr>\n",
       "      <th>FLOORSMAX_AVG</th>\n",
       "      <td>23321</td>\n",
       "      <td>0.478438</td>\n",
       "    </tr>\n",
       "    <tr>\n",
       "      <th>FLOORSMAX_MEDI</th>\n",
       "      <td>23321</td>\n",
       "      <td>0.478438</td>\n",
       "    </tr>\n",
       "    <tr>\n",
       "      <th>FLOORSMAX_MODE</th>\n",
       "      <td>23321</td>\n",
       "      <td>0.478438</td>\n",
       "    </tr>\n",
       "    <tr>\n",
       "      <th>YEARS_BEGINEXPLUATATION_AVG</th>\n",
       "      <td>22856</td>\n",
       "      <td>0.468899</td>\n",
       "    </tr>\n",
       "    <tr>\n",
       "      <th>YEARS_BEGINEXPLUATATION_MEDI</th>\n",
       "      <td>22856</td>\n",
       "      <td>0.468899</td>\n",
       "    </tr>\n",
       "    <tr>\n",
       "      <th>YEARS_BEGINEXPLUATATION_MODE</th>\n",
       "      <td>22856</td>\n",
       "      <td>0.468899</td>\n",
       "    </tr>\n",
       "    <tr>\n",
       "      <th>TOTALAREA_MODE</th>\n",
       "      <td>22624</td>\n",
       "      <td>0.464139</td>\n",
       "    </tr>\n",
       "    <tr>\n",
       "      <th>EMERGENCYSTATE_MODE</th>\n",
       "      <td>22209</td>\n",
       "      <td>0.455625</td>\n",
       "    </tr>\n",
       "    <tr>\n",
       "      <th>EXT_SOURCE_1</th>\n",
       "      <td>20532</td>\n",
       "      <td>0.421221</td>\n",
       "    </tr>\n",
       "  </tbody>\n",
       "</table>\n",
       "</div>"
      ],
      "text/plain": [
       "                              Total   Percent\n",
       "COMMONAREA_AVG                33495  0.687161\n",
       "COMMONAREA_MODE               33495  0.687161\n",
       "COMMONAREA_MEDI               33495  0.687161\n",
       "NONLIVINGAPARTMENTS_AVG       33347  0.684125\n",
       "NONLIVINGAPARTMENTS_MODE      33347  0.684125\n",
       "NONLIVINGAPARTMENTS_MEDI      33347  0.684125\n",
       "FONDKAPREMONT_MODE            32797  0.672842\n",
       "LIVINGAPARTMENTS_AVG          32780  0.672493\n",
       "LIVINGAPARTMENTS_MODE         32780  0.672493\n",
       "LIVINGAPARTMENTS_MEDI         32780  0.672493\n",
       "FLOORSMIN_MEDI                32466  0.666051\n",
       "FLOORSMIN_AVG                 32466  0.666051\n",
       "FLOORSMIN_MODE                32466  0.666051\n",
       "OWN_CAR_AGE                   32312  0.662892\n",
       "YEARS_BUILD_AVG               31818  0.652757\n",
       "YEARS_BUILD_MEDI              31818  0.652757\n",
       "YEARS_BUILD_MODE              31818  0.652757\n",
       "LANDAREA_MEDI                 28254  0.579641\n",
       "LANDAREA_AVG                  28254  0.579641\n",
       "LANDAREA_MODE                 28254  0.579641\n",
       "BASEMENTAREA_MEDI             27641  0.567065\n",
       "BASEMENTAREA_AVG              27641  0.567065\n",
       "BASEMENTAREA_MODE             27641  0.567065\n",
       "NONLIVINGAREA_AVG             26084  0.535122\n",
       "NONLIVINGAREA_MODE            26084  0.535122\n",
       "NONLIVINGAREA_MEDI            26084  0.535122\n",
       "ELEVATORS_MODE                25189  0.516761\n",
       "ELEVATORS_MEDI                25189  0.516761\n",
       "ELEVATORS_AVG                 25189  0.516761\n",
       "WALLSMATERIAL_MODE            23893  0.490173\n",
       "APARTMENTS_MODE               23887  0.490050\n",
       "APARTMENTS_MEDI               23887  0.490050\n",
       "APARTMENTS_AVG                23887  0.490050\n",
       "HOUSETYPE_MODE                23619  0.484552\n",
       "ENTRANCES_MODE                23579  0.483731\n",
       "ENTRANCES_AVG                 23579  0.483731\n",
       "ENTRANCES_MEDI                23579  0.483731\n",
       "LIVINGAREA_MEDI               23552  0.483177\n",
       "LIVINGAREA_MODE               23552  0.483177\n",
       "LIVINGAREA_AVG                23552  0.483177\n",
       "FLOORSMAX_AVG                 23321  0.478438\n",
       "FLOORSMAX_MEDI                23321  0.478438\n",
       "FLOORSMAX_MODE                23321  0.478438\n",
       "YEARS_BEGINEXPLUATATION_AVG   22856  0.468899\n",
       "YEARS_BEGINEXPLUATATION_MEDI  22856  0.468899\n",
       "YEARS_BEGINEXPLUATATION_MODE  22856  0.468899\n",
       "TOTALAREA_MODE                22624  0.464139\n",
       "EMERGENCYSTATE_MODE           22209  0.455625\n",
       "EXT_SOURCE_1                  20532  0.421221"
      ]
     },
     "execution_count": 11,
     "metadata": {},
     "output_type": "execute_result"
    }
   ],
   "source": [
    "# columns with more than 40% missing values in test dataset\n",
    "missing_values(test).loc[missing_values(test)['Percent'] > 0.4]"
   ]
  },
  {
   "cell_type": "code",
   "execution_count": 12,
   "id": "1caed456",
   "metadata": {},
   "outputs": [
    {
     "data": {
      "text/plain": [
       "Index(['COMMONAREA_AVG', 'COMMONAREA_MODE', 'COMMONAREA_MEDI',\n",
       "       'NONLIVINGAPARTMENTS_AVG', 'NONLIVINGAPARTMENTS_MODE',\n",
       "       'NONLIVINGAPARTMENTS_MEDI', 'FONDKAPREMONT_MODE',\n",
       "       'LIVINGAPARTMENTS_AVG', 'LIVINGAPARTMENTS_MODE',\n",
       "       'LIVINGAPARTMENTS_MEDI', 'FLOORSMIN_MEDI', 'FLOORSMIN_AVG',\n",
       "       'FLOORSMIN_MODE', 'OWN_CAR_AGE', 'YEARS_BUILD_AVG', 'YEARS_BUILD_MEDI',\n",
       "       'YEARS_BUILD_MODE', 'LANDAREA_MEDI', 'LANDAREA_AVG', 'LANDAREA_MODE',\n",
       "       'BASEMENTAREA_MEDI', 'BASEMENTAREA_AVG', 'BASEMENTAREA_MODE',\n",
       "       'NONLIVINGAREA_AVG', 'NONLIVINGAREA_MODE', 'NONLIVINGAREA_MEDI',\n",
       "       'ELEVATORS_MODE', 'ELEVATORS_MEDI', 'ELEVATORS_AVG',\n",
       "       'WALLSMATERIAL_MODE', 'APARTMENTS_MODE', 'APARTMENTS_MEDI',\n",
       "       'APARTMENTS_AVG', 'HOUSETYPE_MODE', 'ENTRANCES_MODE', 'ENTRANCES_AVG',\n",
       "       'ENTRANCES_MEDI', 'LIVINGAREA_MEDI', 'LIVINGAREA_MODE',\n",
       "       'LIVINGAREA_AVG', 'FLOORSMAX_AVG', 'FLOORSMAX_MEDI', 'FLOORSMAX_MODE',\n",
       "       'YEARS_BEGINEXPLUATATION_AVG', 'YEARS_BEGINEXPLUATATION_MEDI',\n",
       "       'YEARS_BEGINEXPLUATATION_MODE', 'TOTALAREA_MODE', 'EMERGENCYSTATE_MODE',\n",
       "       'EXT_SOURCE_1'],\n",
       "      dtype='object')"
      ]
     },
     "execution_count": 12,
     "metadata": {},
     "output_type": "execute_result"
    }
   ],
   "source": [
    "missing_values(test).loc[missing_values(test)['Percent'] > 0.4].index"
   ]
  },
  {
   "cell_type": "markdown",
   "id": "86590392",
   "metadata": {},
   "source": [
    "**Droppig columns which have more than 40% missiang values**"
   ]
  },
  {
   "cell_type": "code",
   "execution_count": 13,
   "id": "2af810d7",
   "metadata": {},
   "outputs": [],
   "source": [
    "train.drop(['COMMONAREA_MEDI', 'COMMONAREA_AVG', 'COMMONAREA_MODE',\n",
    "       'NONLIVINGAPARTMENTS_MODE', 'NONLIVINGAPARTMENTS_AVG',\n",
    "       'NONLIVINGAPARTMENTS_MEDI', 'FONDKAPREMONT_MODE',\n",
    "       'LIVINGAPARTMENTS_MODE', 'LIVINGAPARTMENTS_AVG',\n",
    "       'LIVINGAPARTMENTS_MEDI', 'FLOORSMIN_AVG', 'FLOORSMIN_MODE',\n",
    "       'FLOORSMIN_MEDI', 'YEARS_BUILD_MEDI', 'YEARS_BUILD_MODE',\n",
    "       'YEARS_BUILD_AVG', 'OWN_CAR_AGE', 'LANDAREA_MEDI', 'LANDAREA_MODE',\n",
    "       'LANDAREA_AVG', 'BASEMENTAREA_MEDI', 'BASEMENTAREA_AVG',\n",
    "       'BASEMENTAREA_MODE', 'EXT_SOURCE_1', 'NONLIVINGAREA_MODE',\n",
    "       'NONLIVINGAREA_AVG', 'NONLIVINGAREA_MEDI', 'ELEVATORS_MEDI',\n",
    "       'ELEVATORS_AVG', 'ELEVATORS_MODE', 'WALLSMATERIAL_MODE',\n",
    "       'APARTMENTS_MEDI', 'APARTMENTS_AVG', 'APARTMENTS_MODE',\n",
    "       'ENTRANCES_MEDI', 'ENTRANCES_AVG', 'ENTRANCES_MODE', 'LIVINGAREA_AVG',\n",
    "       'LIVINGAREA_MODE', 'LIVINGAREA_MEDI', 'HOUSETYPE_MODE',\n",
    "       'FLOORSMAX_MODE', 'FLOORSMAX_MEDI', 'FLOORSMAX_AVG',\n",
    "       'YEARS_BEGINEXPLUATATION_MODE', 'YEARS_BEGINEXPLUATATION_MEDI',\n",
    "       'YEARS_BEGINEXPLUATATION_AVG', 'TOTALAREA_MODE', 'EMERGENCYSTATE_MODE'], axis=1, inplace=True)\n"
   ]
  },
  {
   "cell_type": "code",
   "execution_count": 14,
   "id": "dd4e94e0",
   "metadata": {},
   "outputs": [],
   "source": [
    "test.drop(['COMMONAREA_AVG', 'COMMONAREA_MODE', 'COMMONAREA_MEDI',\n",
    "       'NONLIVINGAPARTMENTS_AVG', 'NONLIVINGAPARTMENTS_MODE',\n",
    "       'NONLIVINGAPARTMENTS_MEDI', 'FONDKAPREMONT_MODE',\n",
    "       'LIVINGAPARTMENTS_AVG', 'LIVINGAPARTMENTS_MODE',\n",
    "       'LIVINGAPARTMENTS_MEDI', 'FLOORSMIN_MEDI', 'FLOORSMIN_AVG',\n",
    "       'FLOORSMIN_MODE', 'OWN_CAR_AGE', 'YEARS_BUILD_AVG', 'YEARS_BUILD_MEDI',\n",
    "       'YEARS_BUILD_MODE', 'LANDAREA_MEDI', 'LANDAREA_AVG', 'LANDAREA_MODE',\n",
    "       'BASEMENTAREA_MEDI', 'BASEMENTAREA_AVG', 'BASEMENTAREA_MODE',\n",
    "       'NONLIVINGAREA_AVG', 'NONLIVINGAREA_MODE', 'NONLIVINGAREA_MEDI',\n",
    "       'ELEVATORS_MODE', 'ELEVATORS_MEDI', 'ELEVATORS_AVG',\n",
    "       'WALLSMATERIAL_MODE', 'APARTMENTS_MODE', 'APARTMENTS_MEDI',\n",
    "       'APARTMENTS_AVG', 'HOUSETYPE_MODE', 'ENTRANCES_MODE', 'ENTRANCES_AVG',\n",
    "       'ENTRANCES_MEDI', 'LIVINGAREA_MEDI', 'LIVINGAREA_MODE',\n",
    "       'LIVINGAREA_AVG', 'FLOORSMAX_AVG', 'FLOORSMAX_MEDI', 'FLOORSMAX_MODE',\n",
    "       'YEARS_BEGINEXPLUATATION_AVG', 'YEARS_BEGINEXPLUATATION_MEDI',\n",
    "       'YEARS_BEGINEXPLUATATION_MODE', 'TOTALAREA_MODE', 'EMERGENCYSTATE_MODE',\n",
    "       'EXT_SOURCE_1'], axis=1, inplace=True)"
   ]
  },
  {
   "cell_type": "code",
   "execution_count": 15,
   "id": "ccb83554",
   "metadata": {},
   "outputs": [
    {
     "name": "stdout",
     "output_type": "stream",
     "text": [
      "(307511, 73)\n",
      "(48744, 72)\n"
     ]
    }
   ],
   "source": [
    "print(train.shape)\n",
    "print(test.shape)"
   ]
  },
  {
   "cell_type": "code",
   "execution_count": 17,
   "id": "277c8eb0",
   "metadata": {},
   "outputs": [
    {
     "name": "stdout",
     "output_type": "stream",
     "text": [
      "<class 'pandas.core.frame.DataFrame'>\n",
      "RangeIndex: 307511 entries, 0 to 307510\n",
      "Data columns (total 73 columns):\n",
      " #   Column                       Non-Null Count   Dtype  \n",
      "---  ------                       --------------   -----  \n",
      " 0   SK_ID_CURR                   307511 non-null  int64  \n",
      " 1   TARGET                       307511 non-null  int64  \n",
      " 2   NAME_CONTRACT_TYPE           307511 non-null  object \n",
      " 3   CODE_GENDER                  307511 non-null  object \n",
      " 4   FLAG_OWN_CAR                 307511 non-null  object \n",
      " 5   FLAG_OWN_REALTY              307511 non-null  object \n",
      " 6   CNT_CHILDREN                 307511 non-null  int64  \n",
      " 7   AMT_INCOME_TOTAL             307511 non-null  float64\n",
      " 8   AMT_CREDIT                   307511 non-null  float64\n",
      " 9   AMT_ANNUITY                  307499 non-null  float64\n",
      " 10  AMT_GOODS_PRICE              307233 non-null  float64\n",
      " 11  NAME_TYPE_SUITE              306219 non-null  object \n",
      " 12  NAME_INCOME_TYPE             307511 non-null  object \n",
      " 13  NAME_EDUCATION_TYPE          307511 non-null  object \n",
      " 14  NAME_FAMILY_STATUS           307511 non-null  object \n",
      " 15  NAME_HOUSING_TYPE            307511 non-null  object \n",
      " 16  REGION_POPULATION_RELATIVE   307511 non-null  float64\n",
      " 17  DAYS_BIRTH                   307511 non-null  int64  \n",
      " 18  DAYS_EMPLOYED                307511 non-null  int64  \n",
      " 19  DAYS_REGISTRATION            307511 non-null  float64\n",
      " 20  DAYS_ID_PUBLISH              307511 non-null  int64  \n",
      " 21  FLAG_MOBIL                   307511 non-null  int64  \n",
      " 22  FLAG_EMP_PHONE               307511 non-null  int64  \n",
      " 23  FLAG_WORK_PHONE              307511 non-null  int64  \n",
      " 24  FLAG_CONT_MOBILE             307511 non-null  int64  \n",
      " 25  FLAG_PHONE                   307511 non-null  int64  \n",
      " 26  FLAG_EMAIL                   307511 non-null  int64  \n",
      " 27  OCCUPATION_TYPE              211120 non-null  object \n",
      " 28  CNT_FAM_MEMBERS              307509 non-null  float64\n",
      " 29  REGION_RATING_CLIENT         307511 non-null  int64  \n",
      " 30  REGION_RATING_CLIENT_W_CITY  307511 non-null  int64  \n",
      " 31  WEEKDAY_APPR_PROCESS_START   307511 non-null  object \n",
      " 32  HOUR_APPR_PROCESS_START      307511 non-null  int64  \n",
      " 33  REG_REGION_NOT_LIVE_REGION   307511 non-null  int64  \n",
      " 34  REG_REGION_NOT_WORK_REGION   307511 non-null  int64  \n",
      " 35  LIVE_REGION_NOT_WORK_REGION  307511 non-null  int64  \n",
      " 36  REG_CITY_NOT_LIVE_CITY       307511 non-null  int64  \n",
      " 37  REG_CITY_NOT_WORK_CITY       307511 non-null  int64  \n",
      " 38  LIVE_CITY_NOT_WORK_CITY      307511 non-null  int64  \n",
      " 39  ORGANIZATION_TYPE            307511 non-null  object \n",
      " 40  EXT_SOURCE_2                 306851 non-null  float64\n",
      " 41  EXT_SOURCE_3                 246546 non-null  float64\n",
      " 42  OBS_30_CNT_SOCIAL_CIRCLE     306490 non-null  float64\n",
      " 43  DEF_30_CNT_SOCIAL_CIRCLE     306490 non-null  float64\n",
      " 44  OBS_60_CNT_SOCIAL_CIRCLE     306490 non-null  float64\n",
      " 45  DEF_60_CNT_SOCIAL_CIRCLE     306490 non-null  float64\n",
      " 46  DAYS_LAST_PHONE_CHANGE       307510 non-null  float64\n",
      " 47  FLAG_DOCUMENT_2              307511 non-null  int64  \n",
      " 48  FLAG_DOCUMENT_3              307511 non-null  int64  \n",
      " 49  FLAG_DOCUMENT_4              307511 non-null  int64  \n",
      " 50  FLAG_DOCUMENT_5              307511 non-null  int64  \n",
      " 51  FLAG_DOCUMENT_6              307511 non-null  int64  \n",
      " 52  FLAG_DOCUMENT_7              307511 non-null  int64  \n",
      " 53  FLAG_DOCUMENT_8              307511 non-null  int64  \n",
      " 54  FLAG_DOCUMENT_9              307511 non-null  int64  \n",
      " 55  FLAG_DOCUMENT_10             307511 non-null  int64  \n",
      " 56  FLAG_DOCUMENT_11             307511 non-null  int64  \n",
      " 57  FLAG_DOCUMENT_12             307511 non-null  int64  \n",
      " 58  FLAG_DOCUMENT_13             307511 non-null  int64  \n",
      " 59  FLAG_DOCUMENT_14             307511 non-null  int64  \n",
      " 60  FLAG_DOCUMENT_15             307511 non-null  int64  \n",
      " 61  FLAG_DOCUMENT_16             307511 non-null  int64  \n",
      " 62  FLAG_DOCUMENT_17             307511 non-null  int64  \n",
      " 63  FLAG_DOCUMENT_18             307511 non-null  int64  \n",
      " 64  FLAG_DOCUMENT_19             307511 non-null  int64  \n",
      " 65  FLAG_DOCUMENT_20             307511 non-null  int64  \n",
      " 66  FLAG_DOCUMENT_21             307511 non-null  int64  \n",
      " 67  AMT_REQ_CREDIT_BUREAU_HOUR   265992 non-null  float64\n",
      " 68  AMT_REQ_CREDIT_BUREAU_DAY    265992 non-null  float64\n",
      " 69  AMT_REQ_CREDIT_BUREAU_WEEK   265992 non-null  float64\n",
      " 70  AMT_REQ_CREDIT_BUREAU_MON    265992 non-null  float64\n",
      " 71  AMT_REQ_CREDIT_BUREAU_QRT    265992 non-null  float64\n",
      " 72  AMT_REQ_CREDIT_BUREAU_YEAR   265992 non-null  float64\n",
      "dtypes: float64(20), int64(41), object(12)\n",
      "memory usage: 171.3+ MB\n"
     ]
    }
   ],
   "source": [
    "train.info()"
   ]
  },
  {
   "cell_type": "code",
   "execution_count": 18,
   "id": "6190111a",
   "metadata": {},
   "outputs": [
    {
     "name": "stdout",
     "output_type": "stream",
     "text": [
      "<class 'pandas.core.frame.DataFrame'>\n",
      "RangeIndex: 48744 entries, 0 to 48743\n",
      "Data columns (total 72 columns):\n",
      " #   Column                       Non-Null Count  Dtype  \n",
      "---  ------                       --------------  -----  \n",
      " 0   SK_ID_CURR                   48744 non-null  int64  \n",
      " 1   NAME_CONTRACT_TYPE           48744 non-null  object \n",
      " 2   CODE_GENDER                  48744 non-null  object \n",
      " 3   FLAG_OWN_CAR                 48744 non-null  object \n",
      " 4   FLAG_OWN_REALTY              48744 non-null  object \n",
      " 5   CNT_CHILDREN                 48744 non-null  int64  \n",
      " 6   AMT_INCOME_TOTAL             48744 non-null  float64\n",
      " 7   AMT_CREDIT                   48744 non-null  float64\n",
      " 8   AMT_ANNUITY                  48720 non-null  float64\n",
      " 9   AMT_GOODS_PRICE              48744 non-null  float64\n",
      " 10  NAME_TYPE_SUITE              47833 non-null  object \n",
      " 11  NAME_INCOME_TYPE             48744 non-null  object \n",
      " 12  NAME_EDUCATION_TYPE          48744 non-null  object \n",
      " 13  NAME_FAMILY_STATUS           48744 non-null  object \n",
      " 14  NAME_HOUSING_TYPE            48744 non-null  object \n",
      " 15  REGION_POPULATION_RELATIVE   48744 non-null  float64\n",
      " 16  DAYS_BIRTH                   48744 non-null  int64  \n",
      " 17  DAYS_EMPLOYED                48744 non-null  int64  \n",
      " 18  DAYS_REGISTRATION            48744 non-null  float64\n",
      " 19  DAYS_ID_PUBLISH              48744 non-null  int64  \n",
      " 20  FLAG_MOBIL                   48744 non-null  int64  \n",
      " 21  FLAG_EMP_PHONE               48744 non-null  int64  \n",
      " 22  FLAG_WORK_PHONE              48744 non-null  int64  \n",
      " 23  FLAG_CONT_MOBILE             48744 non-null  int64  \n",
      " 24  FLAG_PHONE                   48744 non-null  int64  \n",
      " 25  FLAG_EMAIL                   48744 non-null  int64  \n",
      " 26  OCCUPATION_TYPE              33139 non-null  object \n",
      " 27  CNT_FAM_MEMBERS              48744 non-null  float64\n",
      " 28  REGION_RATING_CLIENT         48744 non-null  int64  \n",
      " 29  REGION_RATING_CLIENT_W_CITY  48744 non-null  int64  \n",
      " 30  WEEKDAY_APPR_PROCESS_START   48744 non-null  object \n",
      " 31  HOUR_APPR_PROCESS_START      48744 non-null  int64  \n",
      " 32  REG_REGION_NOT_LIVE_REGION   48744 non-null  int64  \n",
      " 33  REG_REGION_NOT_WORK_REGION   48744 non-null  int64  \n",
      " 34  LIVE_REGION_NOT_WORK_REGION  48744 non-null  int64  \n",
      " 35  REG_CITY_NOT_LIVE_CITY       48744 non-null  int64  \n",
      " 36  REG_CITY_NOT_WORK_CITY       48744 non-null  int64  \n",
      " 37  LIVE_CITY_NOT_WORK_CITY      48744 non-null  int64  \n",
      " 38  ORGANIZATION_TYPE            48744 non-null  object \n",
      " 39  EXT_SOURCE_2                 48736 non-null  float64\n",
      " 40  EXT_SOURCE_3                 40076 non-null  float64\n",
      " 41  OBS_30_CNT_SOCIAL_CIRCLE     48715 non-null  float64\n",
      " 42  DEF_30_CNT_SOCIAL_CIRCLE     48715 non-null  float64\n",
      " 43  OBS_60_CNT_SOCIAL_CIRCLE     48715 non-null  float64\n",
      " 44  DEF_60_CNT_SOCIAL_CIRCLE     48715 non-null  float64\n",
      " 45  DAYS_LAST_PHONE_CHANGE       48744 non-null  float64\n",
      " 46  FLAG_DOCUMENT_2              48744 non-null  int64  \n",
      " 47  FLAG_DOCUMENT_3              48744 non-null  int64  \n",
      " 48  FLAG_DOCUMENT_4              48744 non-null  int64  \n",
      " 49  FLAG_DOCUMENT_5              48744 non-null  int64  \n",
      " 50  FLAG_DOCUMENT_6              48744 non-null  int64  \n",
      " 51  FLAG_DOCUMENT_7              48744 non-null  int64  \n",
      " 52  FLAG_DOCUMENT_8              48744 non-null  int64  \n",
      " 53  FLAG_DOCUMENT_9              48744 non-null  int64  \n",
      " 54  FLAG_DOCUMENT_10             48744 non-null  int64  \n",
      " 55  FLAG_DOCUMENT_11             48744 non-null  int64  \n",
      " 56  FLAG_DOCUMENT_12             48744 non-null  int64  \n",
      " 57  FLAG_DOCUMENT_13             48744 non-null  int64  \n",
      " 58  FLAG_DOCUMENT_14             48744 non-null  int64  \n",
      " 59  FLAG_DOCUMENT_15             48744 non-null  int64  \n",
      " 60  FLAG_DOCUMENT_16             48744 non-null  int64  \n",
      " 61  FLAG_DOCUMENT_17             48744 non-null  int64  \n",
      " 62  FLAG_DOCUMENT_18             48744 non-null  int64  \n",
      " 63  FLAG_DOCUMENT_19             48744 non-null  int64  \n",
      " 64  FLAG_DOCUMENT_20             48744 non-null  int64  \n",
      " 65  FLAG_DOCUMENT_21             48744 non-null  int64  \n",
      " 66  AMT_REQ_CREDIT_BUREAU_HOUR   42695 non-null  float64\n",
      " 67  AMT_REQ_CREDIT_BUREAU_DAY    42695 non-null  float64\n",
      " 68  AMT_REQ_CREDIT_BUREAU_WEEK   42695 non-null  float64\n",
      " 69  AMT_REQ_CREDIT_BUREAU_MON    42695 non-null  float64\n",
      " 70  AMT_REQ_CREDIT_BUREAU_QRT    42695 non-null  float64\n",
      " 71  AMT_REQ_CREDIT_BUREAU_YEAR   42695 non-null  float64\n",
      "dtypes: float64(20), int64(40), object(12)\n",
      "memory usage: 26.8+ MB\n"
     ]
    }
   ],
   "source": [
    "test.info()"
   ]
  },
  {
   "cell_type": "code",
   "execution_count": 16,
   "id": "573f099d",
   "metadata": {},
   "outputs": [
    {
     "data": {
      "text/html": [
       "<div>\n",
       "<style scoped>\n",
       "    .dataframe tbody tr th:only-of-type {\n",
       "        vertical-align: middle;\n",
       "    }\n",
       "\n",
       "    .dataframe tbody tr th {\n",
       "        vertical-align: top;\n",
       "    }\n",
       "\n",
       "    .dataframe thead th {\n",
       "        text-align: right;\n",
       "    }\n",
       "</style>\n",
       "<table border=\"1\" class=\"dataframe\">\n",
       "  <thead>\n",
       "    <tr style=\"text-align: right;\">\n",
       "      <th></th>\n",
       "      <th>Total</th>\n",
       "      <th>Percent</th>\n",
       "    </tr>\n",
       "  </thead>\n",
       "  <tbody>\n",
       "  </tbody>\n",
       "</table>\n",
       "</div>"
      ],
      "text/plain": [
       "Empty DataFrame\n",
       "Columns: [Total, Percent]\n",
       "Index: []"
      ]
     },
     "execution_count": 16,
     "metadata": {},
     "output_type": "execute_result"
    }
   ],
   "source": [
    "missing_values(train).loc[missing_values(train)['Percent'] > 0.4]"
   ]
  },
  {
   "cell_type": "code",
   "execution_count": 20,
   "id": "c45fd0db",
   "metadata": {},
   "outputs": [
    {
     "data": {
      "text/html": [
       "<div>\n",
       "<style scoped>\n",
       "    .dataframe tbody tr th:only-of-type {\n",
       "        vertical-align: middle;\n",
       "    }\n",
       "\n",
       "    .dataframe tbody tr th {\n",
       "        vertical-align: top;\n",
       "    }\n",
       "\n",
       "    .dataframe thead th {\n",
       "        text-align: right;\n",
       "    }\n",
       "</style>\n",
       "<table border=\"1\" class=\"dataframe\">\n",
       "  <thead>\n",
       "    <tr style=\"text-align: right;\">\n",
       "      <th></th>\n",
       "      <th>Total</th>\n",
       "      <th>Percent</th>\n",
       "    </tr>\n",
       "  </thead>\n",
       "  <tbody>\n",
       "  </tbody>\n",
       "</table>\n",
       "</div>"
      ],
      "text/plain": [
       "Empty DataFrame\n",
       "Columns: [Total, Percent]\n",
       "Index: []"
      ]
     },
     "execution_count": 20,
     "metadata": {},
     "output_type": "execute_result"
    }
   ],
   "source": [
    "missing_values(test).loc[missing_values(test)['Percent'] > 0.4]"
   ]
  },
  {
   "cell_type": "markdown",
   "id": "71c7af61",
   "metadata": {},
   "source": [
    "Now there is no columns which have more than 40% missing values"
   ]
  },
  {
   "cell_type": "markdown",
   "id": "9950a3db",
   "metadata": {},
   "source": [
    "### Handling missing values of the Train dataset"
   ]
  },
  {
   "cell_type": "code",
   "execution_count": 17,
   "id": "c6b4005e",
   "metadata": {},
   "outputs": [
    {
     "data": {
      "text/html": [
       "<div>\n",
       "<style scoped>\n",
       "    .dataframe tbody tr th:only-of-type {\n",
       "        vertical-align: middle;\n",
       "    }\n",
       "\n",
       "    .dataframe tbody tr th {\n",
       "        vertical-align: top;\n",
       "    }\n",
       "\n",
       "    .dataframe thead th {\n",
       "        text-align: right;\n",
       "    }\n",
       "</style>\n",
       "<table border=\"1\" class=\"dataframe\">\n",
       "  <thead>\n",
       "    <tr style=\"text-align: right;\">\n",
       "      <th></th>\n",
       "      <th>Total</th>\n",
       "      <th>Percent</th>\n",
       "    </tr>\n",
       "  </thead>\n",
       "  <tbody>\n",
       "    <tr>\n",
       "      <th>OCCUPATION_TYPE</th>\n",
       "      <td>96391</td>\n",
       "      <td>0.313455</td>\n",
       "    </tr>\n",
       "    <tr>\n",
       "      <th>EXT_SOURCE_3</th>\n",
       "      <td>60965</td>\n",
       "      <td>0.198253</td>\n",
       "    </tr>\n",
       "    <tr>\n",
       "      <th>AMT_REQ_CREDIT_BUREAU_YEAR</th>\n",
       "      <td>41519</td>\n",
       "      <td>0.135016</td>\n",
       "    </tr>\n",
       "    <tr>\n",
       "      <th>AMT_REQ_CREDIT_BUREAU_QRT</th>\n",
       "      <td>41519</td>\n",
       "      <td>0.135016</td>\n",
       "    </tr>\n",
       "    <tr>\n",
       "      <th>AMT_REQ_CREDIT_BUREAU_MON</th>\n",
       "      <td>41519</td>\n",
       "      <td>0.135016</td>\n",
       "    </tr>\n",
       "    <tr>\n",
       "      <th>...</th>\n",
       "      <td>...</td>\n",
       "      <td>...</td>\n",
       "    </tr>\n",
       "    <tr>\n",
       "      <th>REG_REGION_NOT_LIVE_REGION</th>\n",
       "      <td>0</td>\n",
       "      <td>0.000000</td>\n",
       "    </tr>\n",
       "    <tr>\n",
       "      <th>REG_REGION_NOT_WORK_REGION</th>\n",
       "      <td>0</td>\n",
       "      <td>0.000000</td>\n",
       "    </tr>\n",
       "    <tr>\n",
       "      <th>LIVE_REGION_NOT_WORK_REGION</th>\n",
       "      <td>0</td>\n",
       "      <td>0.000000</td>\n",
       "    </tr>\n",
       "    <tr>\n",
       "      <th>TARGET</th>\n",
       "      <td>0</td>\n",
       "      <td>0.000000</td>\n",
       "    </tr>\n",
       "    <tr>\n",
       "      <th>REG_CITY_NOT_LIVE_CITY</th>\n",
       "      <td>0</td>\n",
       "      <td>0.000000</td>\n",
       "    </tr>\n",
       "  </tbody>\n",
       "</table>\n",
       "<p>73 rows × 2 columns</p>\n",
       "</div>"
      ],
      "text/plain": [
       "                             Total   Percent\n",
       "OCCUPATION_TYPE              96391  0.313455\n",
       "EXT_SOURCE_3                 60965  0.198253\n",
       "AMT_REQ_CREDIT_BUREAU_YEAR   41519  0.135016\n",
       "AMT_REQ_CREDIT_BUREAU_QRT    41519  0.135016\n",
       "AMT_REQ_CREDIT_BUREAU_MON    41519  0.135016\n",
       "...                            ...       ...\n",
       "REG_REGION_NOT_LIVE_REGION       0  0.000000\n",
       "REG_REGION_NOT_WORK_REGION       0  0.000000\n",
       "LIVE_REGION_NOT_WORK_REGION      0  0.000000\n",
       "TARGET                           0  0.000000\n",
       "REG_CITY_NOT_LIVE_CITY           0  0.000000\n",
       "\n",
       "[73 rows x 2 columns]"
      ]
     },
     "execution_count": 17,
     "metadata": {},
     "output_type": "execute_result"
    }
   ],
   "source": [
    "missing_values(train)"
   ]
  },
  {
   "cell_type": "code",
   "execution_count": 18,
   "id": "a8f60590",
   "metadata": {},
   "outputs": [
    {
     "data": {
      "text/plain": [
       "OCCUPATION_TYPE\n",
       "Laborers                 55186\n",
       "Sales staff              32102\n",
       "Core staff               27570\n",
       "Managers                 21371\n",
       "Drivers                  18603\n",
       "High skill tech staff    11380\n",
       "Accountants               9813\n",
       "Medicine staff            8537\n",
       "Security staff            6721\n",
       "Cooking staff             5946\n",
       "Cleaning staff            4653\n",
       "Private service staff     2652\n",
       "Low-skill Laborers        2093\n",
       "Waiters/barmen staff      1348\n",
       "Secretaries               1305\n",
       "Realty agents              751\n",
       "HR staff                   563\n",
       "IT staff                   526\n",
       "Name: count, dtype: int64"
      ]
     },
     "execution_count": 18,
     "metadata": {},
     "output_type": "execute_result"
    }
   ],
   "source": [
    "train['OCCUPATION_TYPE'].value_counts()"
   ]
  },
  {
   "cell_type": "code",
   "execution_count": 19,
   "id": "477ed76c",
   "metadata": {},
   "outputs": [
    {
     "data": {
      "text/plain": [
       "array(['Laborers', 'Core staff', 'Accountants', 'Managers', nan,\n",
       "       'Drivers', 'Sales staff', 'Cleaning staff', 'Cooking staff',\n",
       "       'Private service staff', 'Medicine staff', 'Security staff',\n",
       "       'High skill tech staff', 'Waiters/barmen staff',\n",
       "       'Low-skill Laborers', 'Realty agents', 'Secretaries', 'IT staff',\n",
       "       'HR staff'], dtype=object)"
      ]
     },
     "execution_count": 19,
     "metadata": {},
     "output_type": "execute_result"
    }
   ],
   "source": [
    "train['OCCUPATION_TYPE'].unique()"
   ]
  },
  {
   "cell_type": "code",
   "execution_count": 20,
   "id": "17955eaf",
   "metadata": {},
   "outputs": [
    {
     "data": {
      "text/plain": [
       "96391"
      ]
     },
     "execution_count": 20,
     "metadata": {},
     "output_type": "execute_result"
    }
   ],
   "source": [
    "train['OCCUPATION_TYPE'].isnull().sum()"
   ]
  },
  {
   "cell_type": "markdown",
   "id": "0bffcd58",
   "metadata": {},
   "source": [
    "### Filling the missing values with random categories from the existing categories of occupation type"
   ]
  },
  {
   "cell_type": "code",
   "execution_count": 21,
   "id": "0c020282",
   "metadata": {},
   "outputs": [
    {
     "data": {
      "text/plain": [
       "array(['Laborers', 'Core staff', 'Accountants', 'Managers', 'Drivers',\n",
       "       'Sales staff', 'Cleaning staff', 'Cooking staff',\n",
       "       'Private service staff', 'Medicine staff', 'Security staff',\n",
       "       'High skill tech staff', 'Waiters/barmen staff',\n",
       "       'Low-skill Laborers', 'Realty agents', 'Secretaries', 'IT staff',\n",
       "       'HR staff'], dtype=object)"
      ]
     },
     "execution_count": 21,
     "metadata": {},
     "output_type": "execute_result"
    }
   ],
   "source": [
    "# Get all existing (non-null) occupation types\n",
    "existing_categories = train['OCCUPATION_TYPE'].dropna().unique()\n",
    "existing_categories"
   ]
  },
  {
   "cell_type": "code",
   "execution_count": 22,
   "id": "53a978a2",
   "metadata": {},
   "outputs": [
    {
     "data": {
      "text/plain": [
       "96391"
      ]
     },
     "execution_count": 22,
     "metadata": {},
     "output_type": "execute_result"
    }
   ],
   "source": [
    "# Number of missing values\n",
    "num_missing = train['OCCUPATION_TYPE'].isnull().sum()\n",
    "num_missing"
   ]
  },
  {
   "cell_type": "code",
   "execution_count": 23,
   "id": "537d71be",
   "metadata": {},
   "outputs": [
    {
     "data": {
      "text/plain": [
       "array(['Cleaning staff', 'Waiters/barmen staff', 'Secretaries', ...,\n",
       "       'Managers', 'Accountants', 'Waiters/barmen staff'], dtype=object)"
      ]
     },
     "execution_count": 23,
     "metadata": {},
     "output_type": "execute_result"
    }
   ],
   "source": [
    "# Generate random values from the existing categories\n",
    "random_choices = np.random.choice(existing_categories, size=num_missing, replace=True)\n",
    "random_choices"
   ]
  },
  {
   "cell_type": "code",
   "execution_count": 24,
   "id": "81224f42",
   "metadata": {},
   "outputs": [],
   "source": [
    "# Assign them to the missing locations\n",
    "train.loc[train['OCCUPATION_TYPE'].isnull(), 'OCCUPATION_TYPE'] = random_choices"
   ]
  },
  {
   "cell_type": "code",
   "execution_count": 25,
   "id": "d5f81b7c",
   "metadata": {},
   "outputs": [
    {
     "data": {
      "text/plain": [
       "0"
      ]
     },
     "execution_count": 25,
     "metadata": {},
     "output_type": "execute_result"
    }
   ],
   "source": [
    "train['OCCUPATION_TYPE'].isnull().sum()"
   ]
  },
  {
   "cell_type": "code",
   "execution_count": 26,
   "id": "2ec9792d",
   "metadata": {},
   "outputs": [
    {
     "data": {
      "text/plain": [
       "OCCUPATION_TYPE\n",
       "Laborers                 60659\n",
       "Sales staff              37384\n",
       "Core staff               32896\n",
       "Managers                 26826\n",
       "Drivers                  23929\n",
       "High skill tech staff    16781\n",
       "Accountants              15129\n",
       "Medicine staff           13777\n",
       "Security staff           12182\n",
       "Cooking staff            11185\n",
       "Cleaning staff           10015\n",
       "Private service staff     8102\n",
       "Low-skill Laborers        7478\n",
       "Waiters/barmen staff      6658\n",
       "Secretaries               6576\n",
       "Realty agents             6096\n",
       "IT staff                  5928\n",
       "HR staff                  5910\n",
       "Name: count, dtype: int64"
      ]
     },
     "execution_count": 26,
     "metadata": {},
     "output_type": "execute_result"
    }
   ],
   "source": [
    "train['OCCUPATION_TYPE'].value_counts()"
   ]
  },
  {
   "cell_type": "code",
   "execution_count": 27,
   "id": "c2561fcb",
   "metadata": {},
   "outputs": [
    {
     "data": {
      "text/html": [
       "<div>\n",
       "<style scoped>\n",
       "    .dataframe tbody tr th:only-of-type {\n",
       "        vertical-align: middle;\n",
       "    }\n",
       "\n",
       "    .dataframe tbody tr th {\n",
       "        vertical-align: top;\n",
       "    }\n",
       "\n",
       "    .dataframe thead th {\n",
       "        text-align: right;\n",
       "    }\n",
       "</style>\n",
       "<table border=\"1\" class=\"dataframe\">\n",
       "  <thead>\n",
       "    <tr style=\"text-align: right;\">\n",
       "      <th></th>\n",
       "      <th>Total</th>\n",
       "      <th>Percent</th>\n",
       "    </tr>\n",
       "  </thead>\n",
       "  <tbody>\n",
       "    <tr>\n",
       "      <th>EXT_SOURCE_3</th>\n",
       "      <td>60965</td>\n",
       "      <td>0.198253</td>\n",
       "    </tr>\n",
       "    <tr>\n",
       "      <th>AMT_REQ_CREDIT_BUREAU_YEAR</th>\n",
       "      <td>41519</td>\n",
       "      <td>0.135016</td>\n",
       "    </tr>\n",
       "    <tr>\n",
       "      <th>AMT_REQ_CREDIT_BUREAU_QRT</th>\n",
       "      <td>41519</td>\n",
       "      <td>0.135016</td>\n",
       "    </tr>\n",
       "    <tr>\n",
       "      <th>AMT_REQ_CREDIT_BUREAU_MON</th>\n",
       "      <td>41519</td>\n",
       "      <td>0.135016</td>\n",
       "    </tr>\n",
       "    <tr>\n",
       "      <th>AMT_REQ_CREDIT_BUREAU_WEEK</th>\n",
       "      <td>41519</td>\n",
       "      <td>0.135016</td>\n",
       "    </tr>\n",
       "    <tr>\n",
       "      <th>...</th>\n",
       "      <td>...</td>\n",
       "      <td>...</td>\n",
       "    </tr>\n",
       "    <tr>\n",
       "      <th>REG_REGION_NOT_LIVE_REGION</th>\n",
       "      <td>0</td>\n",
       "      <td>0.000000</td>\n",
       "    </tr>\n",
       "    <tr>\n",
       "      <th>REG_REGION_NOT_WORK_REGION</th>\n",
       "      <td>0</td>\n",
       "      <td>0.000000</td>\n",
       "    </tr>\n",
       "    <tr>\n",
       "      <th>LIVE_REGION_NOT_WORK_REGION</th>\n",
       "      <td>0</td>\n",
       "      <td>0.000000</td>\n",
       "    </tr>\n",
       "    <tr>\n",
       "      <th>TARGET</th>\n",
       "      <td>0</td>\n",
       "      <td>0.000000</td>\n",
       "    </tr>\n",
       "    <tr>\n",
       "      <th>REG_CITY_NOT_LIVE_CITY</th>\n",
       "      <td>0</td>\n",
       "      <td>0.000000</td>\n",
       "    </tr>\n",
       "  </tbody>\n",
       "</table>\n",
       "<p>73 rows × 2 columns</p>\n",
       "</div>"
      ],
      "text/plain": [
       "                             Total   Percent\n",
       "EXT_SOURCE_3                 60965  0.198253\n",
       "AMT_REQ_CREDIT_BUREAU_YEAR   41519  0.135016\n",
       "AMT_REQ_CREDIT_BUREAU_QRT    41519  0.135016\n",
       "AMT_REQ_CREDIT_BUREAU_MON    41519  0.135016\n",
       "AMT_REQ_CREDIT_BUREAU_WEEK   41519  0.135016\n",
       "...                            ...       ...\n",
       "REG_REGION_NOT_LIVE_REGION       0  0.000000\n",
       "REG_REGION_NOT_WORK_REGION       0  0.000000\n",
       "LIVE_REGION_NOT_WORK_REGION      0  0.000000\n",
       "TARGET                           0  0.000000\n",
       "REG_CITY_NOT_LIVE_CITY           0  0.000000\n",
       "\n",
       "[73 rows x 2 columns]"
      ]
     },
     "execution_count": 27,
     "metadata": {},
     "output_type": "execute_result"
    }
   ],
   "source": [
    "missing_values(train)"
   ]
  },
  {
   "cell_type": "markdown",
   "id": "d545d0e0",
   "metadata": {},
   "source": [
    "#### Now Treating EXT_SOURCE_3 column"
   ]
  },
  {
   "cell_type": "code",
   "execution_count": 28,
   "id": "fc096161",
   "metadata": {},
   "outputs": [
    {
     "data": {
      "text/plain": [
       "0         0.139376\n",
       "1              NaN\n",
       "2         0.729567\n",
       "3              NaN\n",
       "4              NaN\n",
       "            ...   \n",
       "307506         NaN\n",
       "307507         NaN\n",
       "307508    0.218859\n",
       "307509    0.661024\n",
       "307510    0.113922\n",
       "Name: EXT_SOURCE_3, Length: 307511, dtype: float64"
      ]
     },
     "execution_count": 28,
     "metadata": {},
     "output_type": "execute_result"
    }
   ],
   "source": [
    "train['EXT_SOURCE_3']"
   ]
  },
  {
   "cell_type": "code",
   "execution_count": 29,
   "id": "e5dc0102",
   "metadata": {},
   "outputs": [
    {
     "data": {
      "text/plain": [
       "count    246546.000000\n",
       "mean          0.510853\n",
       "std           0.194844\n",
       "min           0.000527\n",
       "25%           0.370650\n",
       "50%           0.535276\n",
       "75%           0.669057\n",
       "max           0.896010\n",
       "Name: EXT_SOURCE_3, dtype: float64"
      ]
     },
     "execution_count": 29,
     "metadata": {},
     "output_type": "execute_result"
    }
   ],
   "source": [
    "train['EXT_SOURCE_3'].describe()"
   ]
  },
  {
   "cell_type": "code",
   "execution_count": 30,
   "id": "9a08a1b1",
   "metadata": {},
   "outputs": [
    {
     "data": {
      "image/png": "[encoded data removed]",
      "text/plain": [
       "<Figure size 640x480 with 1 Axes>"
      ]
     },
     "metadata": {},
     "output_type": "display_data"
    }
   ],
   "source": [
    "# Plot the distribution of EXT_SOURCE_3\n",
    "train['EXT_SOURCE_3'].hist(bins=50)\n",
    "plt.show()"
   ]
  },
  {
   "cell_type": "markdown",
   "id": "e8c5ace2",
   "metadata": {},
   "source": [
    "**Filling Random values in the missing rows in EXT_SOURCE_3 column from existing non_null values to keep the distribution of the dataset same**"
   ]
  },
  {
   "cell_type": "code",
   "execution_count": 31,
   "id": "1904d591",
   "metadata": {},
   "outputs": [],
   "source": [
    "non_null_values = train['EXT_SOURCE_3'].dropna()"
   ]
  },
  {
   "cell_type": "code",
   "execution_count": 32,
   "id": "dbbaa0fb",
   "metadata": {},
   "outputs": [],
   "source": [
    "train['EXT_SOURCE_3'] = train['EXT_SOURCE_3'].apply(\n",
    "    lambda x: np.random.choice(non_null_values) if pd.isnull(x) else x\n",
    ")"
   ]
  },
  {
   "cell_type": "code",
   "execution_count": 33,
   "id": "c470731b",
   "metadata": {},
   "outputs": [
    {
     "data": {
      "text/plain": [
       "0"
      ]
     },
     "execution_count": 33,
     "metadata": {},
     "output_type": "execute_result"
    }
   ],
   "source": [
    "train['EXT_SOURCE_3'].isnull().sum()"
   ]
  },
  {
   "cell_type": "code",
   "execution_count": 34,
   "id": "8d250385",
   "metadata": {},
   "outputs": [
    {
     "data": {
      "image/png": "[encoded data removed]",
      "text/plain": [
       "<Figure size 640x480 with 1 Axes>"
      ]
     },
     "metadata": {},
     "output_type": "display_data"
    }
   ],
   "source": [
    "# Plot the distribution of EXT_SOURCE_3\n",
    "train['EXT_SOURCE_3'].hist(bins=50)\n",
    "plt.show()"
   ]
  },
  {
   "cell_type": "code",
   "execution_count": 35,
   "id": "0f248177",
   "metadata": {},
   "outputs": [
    {
     "data": {
      "text/html": [
       "<div>\n",
       "<style scoped>\n",
       "    .dataframe tbody tr th:only-of-type {\n",
       "        vertical-align: middle;\n",
       "    }\n",
       "\n",
       "    .dataframe tbody tr th {\n",
       "        vertical-align: top;\n",
       "    }\n",
       "\n",
       "    .dataframe thead th {\n",
       "        text-align: right;\n",
       "    }\n",
       "</style>\n",
       "<table border=\"1\" class=\"dataframe\">\n",
       "  <thead>\n",
       "    <tr style=\"text-align: right;\">\n",
       "      <th></th>\n",
       "      <th>Total</th>\n",
       "      <th>Percent</th>\n",
       "    </tr>\n",
       "  </thead>\n",
       "  <tbody>\n",
       "    <tr>\n",
       "      <th>AMT_REQ_CREDIT_BUREAU_YEAR</th>\n",
       "      <td>41519</td>\n",
       "      <td>0.135016</td>\n",
       "    </tr>\n",
       "    <tr>\n",
       "      <th>AMT_REQ_CREDIT_BUREAU_QRT</th>\n",
       "      <td>41519</td>\n",
       "      <td>0.135016</td>\n",
       "    </tr>\n",
       "    <tr>\n",
       "      <th>AMT_REQ_CREDIT_BUREAU_MON</th>\n",
       "      <td>41519</td>\n",
       "      <td>0.135016</td>\n",
       "    </tr>\n",
       "    <tr>\n",
       "      <th>AMT_REQ_CREDIT_BUREAU_WEEK</th>\n",
       "      <td>41519</td>\n",
       "      <td>0.135016</td>\n",
       "    </tr>\n",
       "    <tr>\n",
       "      <th>AMT_REQ_CREDIT_BUREAU_DAY</th>\n",
       "      <td>41519</td>\n",
       "      <td>0.135016</td>\n",
       "    </tr>\n",
       "    <tr>\n",
       "      <th>...</th>\n",
       "      <td>...</td>\n",
       "      <td>...</td>\n",
       "    </tr>\n",
       "    <tr>\n",
       "      <th>REG_REGION_NOT_LIVE_REGION</th>\n",
       "      <td>0</td>\n",
       "      <td>0.000000</td>\n",
       "    </tr>\n",
       "    <tr>\n",
       "      <th>REG_REGION_NOT_WORK_REGION</th>\n",
       "      <td>0</td>\n",
       "      <td>0.000000</td>\n",
       "    </tr>\n",
       "    <tr>\n",
       "      <th>LIVE_REGION_NOT_WORK_REGION</th>\n",
       "      <td>0</td>\n",
       "      <td>0.000000</td>\n",
       "    </tr>\n",
       "    <tr>\n",
       "      <th>TARGET</th>\n",
       "      <td>0</td>\n",
       "      <td>0.000000</td>\n",
       "    </tr>\n",
       "    <tr>\n",
       "      <th>REG_CITY_NOT_LIVE_CITY</th>\n",
       "      <td>0</td>\n",
       "      <td>0.000000</td>\n",
       "    </tr>\n",
       "  </tbody>\n",
       "</table>\n",
       "<p>73 rows × 2 columns</p>\n",
       "</div>"
      ],
      "text/plain": [
       "                             Total   Percent\n",
       "AMT_REQ_CREDIT_BUREAU_YEAR   41519  0.135016\n",
       "AMT_REQ_CREDIT_BUREAU_QRT    41519  0.135016\n",
       "AMT_REQ_CREDIT_BUREAU_MON    41519  0.135016\n",
       "AMT_REQ_CREDIT_BUREAU_WEEK   41519  0.135016\n",
       "AMT_REQ_CREDIT_BUREAU_DAY    41519  0.135016\n",
       "...                            ...       ...\n",
       "REG_REGION_NOT_LIVE_REGION       0  0.000000\n",
       "REG_REGION_NOT_WORK_REGION       0  0.000000\n",
       "LIVE_REGION_NOT_WORK_REGION      0  0.000000\n",
       "TARGET                           0  0.000000\n",
       "REG_CITY_NOT_LIVE_CITY           0  0.000000\n",
       "\n",
       "[73 rows x 2 columns]"
      ]
     },
     "execution_count": 35,
     "metadata": {},
     "output_type": "execute_result"
    }
   ],
   "source": [
    "missing_values(train)"
   ]
  },
  {
   "cell_type": "markdown",
   "id": "6333fcf0",
   "metadata": {},
   "source": [
    "#### Treating AMT_REQ_CREDIT_BUREAU_YEAR Column "
   ]
  },
  {
   "cell_type": "code",
   "execution_count": 36,
   "id": "50642ef2",
   "metadata": {},
   "outputs": [
    {
     "data": {
      "text/plain": [
       "0         1.0\n",
       "1         0.0\n",
       "2         0.0\n",
       "3         NaN\n",
       "4         0.0\n",
       "         ... \n",
       "307506    NaN\n",
       "307507    NaN\n",
       "307508    1.0\n",
       "307509    0.0\n",
       "307510    1.0\n",
       "Name: AMT_REQ_CREDIT_BUREAU_YEAR, Length: 307511, dtype: float64"
      ]
     },
     "execution_count": 36,
     "metadata": {},
     "output_type": "execute_result"
    }
   ],
   "source": [
    "train['AMT_REQ_CREDIT_BUREAU_YEAR']"
   ]
  },
  {
   "cell_type": "code",
   "execution_count": 37,
   "id": "2d4f58c5",
   "metadata": {},
   "outputs": [
    {
     "data": {
      "text/plain": [
       "AMT_REQ_CREDIT_BUREAU_YEAR\n",
       "0.0     71801\n",
       "1.0     63405\n",
       "2.0     50192\n",
       "3.0     33628\n",
       "4.0     20714\n",
       "5.0     12052\n",
       "6.0      6967\n",
       "7.0      3869\n",
       "8.0      2127\n",
       "9.0      1096\n",
       "11.0       31\n",
       "12.0       30\n",
       "10.0       22\n",
       "13.0       19\n",
       "14.0       10\n",
       "17.0        7\n",
       "15.0        6\n",
       "19.0        4\n",
       "18.0        4\n",
       "16.0        3\n",
       "25.0        1\n",
       "23.0        1\n",
       "22.0        1\n",
       "21.0        1\n",
       "20.0        1\n",
       "Name: count, dtype: int64"
      ]
     },
     "execution_count": 37,
     "metadata": {},
     "output_type": "execute_result"
    }
   ],
   "source": [
    "train['AMT_REQ_CREDIT_BUREAU_YEAR'].value_counts()"
   ]
  },
  {
   "cell_type": "code",
   "execution_count": 38,
   "id": "2ee09f45",
   "metadata": {},
   "outputs": [],
   "source": [
    "# Fill missing values of AMT_REQ_CREDIT_BUREAU_YEAR with top 5 frequent values\n",
    "train['AMT_REQ_CREDIT_BUREAU_YEAR'] = train['AMT_REQ_CREDIT_BUREAU_YEAR'].apply(\n",
    "    lambda x: np.random.choice(train['AMT_REQ_CREDIT_BUREAU_YEAR'].value_counts().index[:5]) if pd.isnull(x) else x\n",
    ")"
   ]
  },
  {
   "cell_type": "code",
   "execution_count": 39,
   "id": "6ff81876",
   "metadata": {},
   "outputs": [
    {
     "data": {
      "text/plain": [
       "AMT_REQ_CREDIT_BUREAU_YEAR\n",
       "0.0     80006\n",
       "1.0     71732\n",
       "2.0     58539\n",
       "3.0     41980\n",
       "4.0     29002\n",
       "5.0     12052\n",
       "6.0      6967\n",
       "7.0      3869\n",
       "8.0      2127\n",
       "9.0      1096\n",
       "11.0       31\n",
       "12.0       30\n",
       "10.0       22\n",
       "13.0       19\n",
       "14.0       10\n",
       "17.0        7\n",
       "15.0        6\n",
       "19.0        4\n",
       "18.0        4\n",
       "16.0        3\n",
       "25.0        1\n",
       "23.0        1\n",
       "22.0        1\n",
       "21.0        1\n",
       "20.0        1\n",
       "Name: count, dtype: int64"
      ]
     },
     "execution_count": 39,
     "metadata": {},
     "output_type": "execute_result"
    }
   ],
   "source": [
    "train['AMT_REQ_CREDIT_BUREAU_YEAR'].value_counts()"
   ]
  },
  {
   "cell_type": "code",
   "execution_count": 40,
   "id": "04082a56",
   "metadata": {},
   "outputs": [
    {
     "data": {
      "text/html": [
       "<div>\n",
       "<style scoped>\n",
       "    .dataframe tbody tr th:only-of-type {\n",
       "        vertical-align: middle;\n",
       "    }\n",
       "\n",
       "    .dataframe tbody tr th {\n",
       "        vertical-align: top;\n",
       "    }\n",
       "\n",
       "    .dataframe thead th {\n",
       "        text-align: right;\n",
       "    }\n",
       "</style>\n",
       "<table border=\"1\" class=\"dataframe\">\n",
       "  <thead>\n",
       "    <tr style=\"text-align: right;\">\n",
       "      <th></th>\n",
       "      <th>Total</th>\n",
       "      <th>Percent</th>\n",
       "    </tr>\n",
       "  </thead>\n",
       "  <tbody>\n",
       "    <tr>\n",
       "      <th>AMT_REQ_CREDIT_BUREAU_QRT</th>\n",
       "      <td>41519</td>\n",
       "      <td>0.135016</td>\n",
       "    </tr>\n",
       "    <tr>\n",
       "      <th>AMT_REQ_CREDIT_BUREAU_MON</th>\n",
       "      <td>41519</td>\n",
       "      <td>0.135016</td>\n",
       "    </tr>\n",
       "    <tr>\n",
       "      <th>AMT_REQ_CREDIT_BUREAU_WEEK</th>\n",
       "      <td>41519</td>\n",
       "      <td>0.135016</td>\n",
       "    </tr>\n",
       "    <tr>\n",
       "      <th>AMT_REQ_CREDIT_BUREAU_DAY</th>\n",
       "      <td>41519</td>\n",
       "      <td>0.135016</td>\n",
       "    </tr>\n",
       "    <tr>\n",
       "      <th>AMT_REQ_CREDIT_BUREAU_HOUR</th>\n",
       "      <td>41519</td>\n",
       "      <td>0.135016</td>\n",
       "    </tr>\n",
       "    <tr>\n",
       "      <th>...</th>\n",
       "      <td>...</td>\n",
       "      <td>...</td>\n",
       "    </tr>\n",
       "    <tr>\n",
       "      <th>REG_REGION_NOT_LIVE_REGION</th>\n",
       "      <td>0</td>\n",
       "      <td>0.000000</td>\n",
       "    </tr>\n",
       "    <tr>\n",
       "      <th>REG_REGION_NOT_WORK_REGION</th>\n",
       "      <td>0</td>\n",
       "      <td>0.000000</td>\n",
       "    </tr>\n",
       "    <tr>\n",
       "      <th>LIVE_REGION_NOT_WORK_REGION</th>\n",
       "      <td>0</td>\n",
       "      <td>0.000000</td>\n",
       "    </tr>\n",
       "    <tr>\n",
       "      <th>TARGET</th>\n",
       "      <td>0</td>\n",
       "      <td>0.000000</td>\n",
       "    </tr>\n",
       "    <tr>\n",
       "      <th>AMT_REQ_CREDIT_BUREAU_YEAR</th>\n",
       "      <td>0</td>\n",
       "      <td>0.000000</td>\n",
       "    </tr>\n",
       "  </tbody>\n",
       "</table>\n",
       "<p>73 rows × 2 columns</p>\n",
       "</div>"
      ],
      "text/plain": [
       "                             Total   Percent\n",
       "AMT_REQ_CREDIT_BUREAU_QRT    41519  0.135016\n",
       "AMT_REQ_CREDIT_BUREAU_MON    41519  0.135016\n",
       "AMT_REQ_CREDIT_BUREAU_WEEK   41519  0.135016\n",
       "AMT_REQ_CREDIT_BUREAU_DAY    41519  0.135016\n",
       "AMT_REQ_CREDIT_BUREAU_HOUR   41519  0.135016\n",
       "...                            ...       ...\n",
       "REG_REGION_NOT_LIVE_REGION       0  0.000000\n",
       "REG_REGION_NOT_WORK_REGION       0  0.000000\n",
       "LIVE_REGION_NOT_WORK_REGION      0  0.000000\n",
       "TARGET                           0  0.000000\n",
       "AMT_REQ_CREDIT_BUREAU_YEAR       0  0.000000\n",
       "\n",
       "[73 rows x 2 columns]"
      ]
     },
     "execution_count": 40,
     "metadata": {},
     "output_type": "execute_result"
    }
   ],
   "source": [
    "missing_values(train)"
   ]
  },
  {
   "cell_type": "markdown",
   "id": "2119579e",
   "metadata": {},
   "source": [
    "#### Treating AMT_REQ_CREDIT_BUREAU_QRT column"
   ]
  },
  {
   "cell_type": "code",
   "execution_count": 41,
   "id": "a8f1e3a3",
   "metadata": {},
   "outputs": [
    {
     "data": {
      "text/plain": [
       "AMT_REQ_CREDIT_BUREAU_QRT\n",
       "0.0      215417\n",
       "1.0       33862\n",
       "2.0       14412\n",
       "3.0        1717\n",
       "4.0         476\n",
       "5.0          64\n",
       "6.0          28\n",
       "8.0           7\n",
       "7.0           7\n",
       "261.0         1\n",
       "19.0          1\n",
       "Name: count, dtype: int64"
      ]
     },
     "execution_count": 41,
     "metadata": {},
     "output_type": "execute_result"
    }
   ],
   "source": [
    "train['AMT_REQ_CREDIT_BUREAU_QRT'].value_counts()"
   ]
  },
  {
   "cell_type": "code",
   "execution_count": 42,
   "id": "f73028b9",
   "metadata": {},
   "outputs": [],
   "source": [
    "# fill missing values of AMT_REQ_CREDIT_BUREAU_QRT with top 3 frequent values\n",
    "train['AMT_REQ_CREDIT_BUREAU_QRT'] = train['AMT_REQ_CREDIT_BUREAU_QRT'].apply(\n",
    "    lambda x: np.random.choice(train['AMT_REQ_CREDIT_BUREAU_QRT'].value_counts().index[:3]) if pd.isnull(x) else x\n",
    ")"
   ]
  },
  {
   "cell_type": "code",
   "execution_count": 43,
   "id": "d3a0919a",
   "metadata": {},
   "outputs": [
    {
     "data": {
      "text/plain": [
       "AMT_REQ_CREDIT_BUREAU_QRT\n",
       "0.0      229292\n",
       "1.0       47671\n",
       "2.0       28247\n",
       "3.0        1717\n",
       "4.0         476\n",
       "5.0          64\n",
       "6.0          28\n",
       "8.0           7\n",
       "7.0           7\n",
       "261.0         1\n",
       "19.0          1\n",
       "Name: count, dtype: int64"
      ]
     },
     "execution_count": 43,
     "metadata": {},
     "output_type": "execute_result"
    }
   ],
   "source": [
    "train['AMT_REQ_CREDIT_BUREAU_QRT'].value_counts()"
   ]
  },
  {
   "cell_type": "markdown",
   "id": "c2c7c004",
   "metadata": {},
   "source": [
    "#### Treating AMT_REQ_CREDIT_BUREAU_MON column"
   ]
  },
  {
   "cell_type": "code",
   "execution_count": 44,
   "id": "6e2bb7bd",
   "metadata": {},
   "outputs": [
    {
     "data": {
      "text/plain": [
       "AMT_REQ_CREDIT_BUREAU_MON\n",
       "0.0     222233\n",
       "1.0      33147\n",
       "2.0       5386\n",
       "3.0       1991\n",
       "4.0       1076\n",
       "5.0        602\n",
       "6.0        343\n",
       "7.0        298\n",
       "9.0        206\n",
       "8.0        185\n",
       "10.0       132\n",
       "11.0       119\n",
       "12.0        77\n",
       "13.0        72\n",
       "14.0        40\n",
       "15.0        35\n",
       "16.0        23\n",
       "17.0        14\n",
       "18.0         6\n",
       "19.0         3\n",
       "24.0         1\n",
       "23.0         1\n",
       "27.0         1\n",
       "22.0         1\n",
       "Name: count, dtype: int64"
      ]
     },
     "execution_count": 44,
     "metadata": {},
     "output_type": "execute_result"
    }
   ],
   "source": [
    "train['AMT_REQ_CREDIT_BUREAU_MON'].value_counts()"
   ]
  },
  {
   "cell_type": "code",
   "execution_count": 45,
   "id": "30d3bedf",
   "metadata": {},
   "outputs": [],
   "source": [
    "# fill missing values of AMT_REQ_CREDIT_BUREAU_MON with top 3 frequent values\n",
    "train['AMT_REQ_CREDIT_BUREAU_MON'] = train['AMT_REQ_CREDIT_BUREAU_MON'].apply(\n",
    "    lambda x: np.random.choice(train['AMT_REQ_CREDIT_BUREAU_MON'].value_counts().index[:3]) if pd.isnull(x) else x\n",
    ")"
   ]
  },
  {
   "cell_type": "code",
   "execution_count": 46,
   "id": "56e78766",
   "metadata": {},
   "outputs": [
    {
     "data": {
      "text/plain": [
       "AMT_REQ_CREDIT_BUREAU_MON\n",
       "0.0     235968\n",
       "1.0      47129\n",
       "2.0      19188\n",
       "3.0       1991\n",
       "4.0       1076\n",
       "5.0        602\n",
       "6.0        343\n",
       "7.0        298\n",
       "9.0        206\n",
       "8.0        185\n",
       "10.0       132\n",
       "11.0       119\n",
       "12.0        77\n",
       "13.0        72\n",
       "14.0        40\n",
       "15.0        35\n",
       "16.0        23\n",
       "17.0        14\n",
       "18.0         6\n",
       "19.0         3\n",
       "24.0         1\n",
       "23.0         1\n",
       "27.0         1\n",
       "22.0         1\n",
       "Name: count, dtype: int64"
      ]
     },
     "execution_count": 46,
     "metadata": {},
     "output_type": "execute_result"
    }
   ],
   "source": [
    "train['AMT_REQ_CREDIT_BUREAU_MON'].value_counts()"
   ]
  },
  {
   "cell_type": "code",
   "execution_count": 47,
   "id": "e1a990e3",
   "metadata": {},
   "outputs": [
    {
     "data": {
      "text/html": [
       "<div>\n",
       "<style scoped>\n",
       "    .dataframe tbody tr th:only-of-type {\n",
       "        vertical-align: middle;\n",
       "    }\n",
       "\n",
       "    .dataframe tbody tr th {\n",
       "        vertical-align: top;\n",
       "    }\n",
       "\n",
       "    .dataframe thead th {\n",
       "        text-align: right;\n",
       "    }\n",
       "</style>\n",
       "<table border=\"1\" class=\"dataframe\">\n",
       "  <thead>\n",
       "    <tr style=\"text-align: right;\">\n",
       "      <th></th>\n",
       "      <th>Total</th>\n",
       "      <th>Percent</th>\n",
       "    </tr>\n",
       "  </thead>\n",
       "  <tbody>\n",
       "    <tr>\n",
       "      <th>AMT_REQ_CREDIT_BUREAU_WEEK</th>\n",
       "      <td>41519</td>\n",
       "      <td>0.135016</td>\n",
       "    </tr>\n",
       "    <tr>\n",
       "      <th>AMT_REQ_CREDIT_BUREAU_DAY</th>\n",
       "      <td>41519</td>\n",
       "      <td>0.135016</td>\n",
       "    </tr>\n",
       "    <tr>\n",
       "      <th>AMT_REQ_CREDIT_BUREAU_HOUR</th>\n",
       "      <td>41519</td>\n",
       "      <td>0.135016</td>\n",
       "    </tr>\n",
       "    <tr>\n",
       "      <th>NAME_TYPE_SUITE</th>\n",
       "      <td>1292</td>\n",
       "      <td>0.004201</td>\n",
       "    </tr>\n",
       "    <tr>\n",
       "      <th>OBS_60_CNT_SOCIAL_CIRCLE</th>\n",
       "      <td>1021</td>\n",
       "      <td>0.003320</td>\n",
       "    </tr>\n",
       "    <tr>\n",
       "      <th>...</th>\n",
       "      <td>...</td>\n",
       "      <td>...</td>\n",
       "    </tr>\n",
       "    <tr>\n",
       "      <th>REG_REGION_NOT_LIVE_REGION</th>\n",
       "      <td>0</td>\n",
       "      <td>0.000000</td>\n",
       "    </tr>\n",
       "    <tr>\n",
       "      <th>REG_REGION_NOT_WORK_REGION</th>\n",
       "      <td>0</td>\n",
       "      <td>0.000000</td>\n",
       "    </tr>\n",
       "    <tr>\n",
       "      <th>LIVE_REGION_NOT_WORK_REGION</th>\n",
       "      <td>0</td>\n",
       "      <td>0.000000</td>\n",
       "    </tr>\n",
       "    <tr>\n",
       "      <th>TARGET</th>\n",
       "      <td>0</td>\n",
       "      <td>0.000000</td>\n",
       "    </tr>\n",
       "    <tr>\n",
       "      <th>AMT_REQ_CREDIT_BUREAU_YEAR</th>\n",
       "      <td>0</td>\n",
       "      <td>0.000000</td>\n",
       "    </tr>\n",
       "  </tbody>\n",
       "</table>\n",
       "<p>73 rows × 2 columns</p>\n",
       "</div>"
      ],
      "text/plain": [
       "                             Total   Percent\n",
       "AMT_REQ_CREDIT_BUREAU_WEEK   41519  0.135016\n",
       "AMT_REQ_CREDIT_BUREAU_DAY    41519  0.135016\n",
       "AMT_REQ_CREDIT_BUREAU_HOUR   41519  0.135016\n",
       "NAME_TYPE_SUITE               1292  0.004201\n",
       "OBS_60_CNT_SOCIAL_CIRCLE      1021  0.003320\n",
       "...                            ...       ...\n",
       "REG_REGION_NOT_LIVE_REGION       0  0.000000\n",
       "REG_REGION_NOT_WORK_REGION       0  0.000000\n",
       "LIVE_REGION_NOT_WORK_REGION      0  0.000000\n",
       "TARGET                           0  0.000000\n",
       "AMT_REQ_CREDIT_BUREAU_YEAR       0  0.000000\n",
       "\n",
       "[73 rows x 2 columns]"
      ]
     },
     "execution_count": 47,
     "metadata": {},
     "output_type": "execute_result"
    }
   ],
   "source": [
    "missing_values(train)"
   ]
  },
  {
   "cell_type": "markdown",
   "id": "e019adba",
   "metadata": {},
   "source": [
    "#### Treating AMT_REQ_CREDIT_BUREAU_WEEK column"
   ]
  },
  {
   "cell_type": "code",
   "execution_count": 48,
   "id": "c81600f1",
   "metadata": {},
   "outputs": [
    {
     "data": {
      "text/plain": [
       "AMT_REQ_CREDIT_BUREAU_WEEK\n",
       "0.0    257456\n",
       "1.0      8208\n",
       "2.0       199\n",
       "3.0        58\n",
       "4.0        34\n",
       "6.0        20\n",
       "5.0        10\n",
       "8.0         5\n",
       "7.0         2\n",
       "Name: count, dtype: int64"
      ]
     },
     "execution_count": 48,
     "metadata": {},
     "output_type": "execute_result"
    }
   ],
   "source": [
    "train['AMT_REQ_CREDIT_BUREAU_WEEK'].value_counts()"
   ]
  },
  {
   "cell_type": "code",
   "execution_count": 49,
   "id": "687bfb71",
   "metadata": {},
   "outputs": [],
   "source": [
    "# fill missing values of AMT_REQ_CREDIT_BUREAU_WEEK with top 2 Frequent values\n",
    "train['AMT_REQ_CREDIT_BUREAU_WEEK'] = train['AMT_REQ_CREDIT_BUREAU_WEEK'].apply(\n",
    "    lambda x: np.random.choice(train['AMT_REQ_CREDIT_BUREAU_WEEK'].value_counts().index[:2]) if pd.isnull(x) else x\n",
    ")\n"
   ]
  },
  {
   "cell_type": "code",
   "execution_count": 50,
   "id": "72a075d6",
   "metadata": {},
   "outputs": [
    {
     "data": {
      "text/plain": [
       "AMT_REQ_CREDIT_BUREAU_WEEK\n",
       "0.0    278232\n",
       "1.0     28951\n",
       "2.0       199\n",
       "3.0        58\n",
       "4.0        34\n",
       "6.0        20\n",
       "5.0        10\n",
       "8.0         5\n",
       "7.0         2\n",
       "Name: count, dtype: int64"
      ]
     },
     "execution_count": 50,
     "metadata": {},
     "output_type": "execute_result"
    }
   ],
   "source": [
    "train['AMT_REQ_CREDIT_BUREAU_WEEK'].value_counts()"
   ]
  },
  {
   "cell_type": "markdown",
   "id": "bdc28b38",
   "metadata": {},
   "source": [
    "#### Treating AMT_REQ_CREDIT_BUREAU_DAY column"
   ]
  },
  {
   "cell_type": "code",
   "execution_count": 51,
   "id": "3f4bb26f",
   "metadata": {},
   "outputs": [
    {
     "data": {
      "text/plain": [
       "AMT_REQ_CREDIT_BUREAU_DAY\n",
       "0.0    264503\n",
       "1.0      1292\n",
       "2.0       106\n",
       "3.0        45\n",
       "4.0        26\n",
       "5.0         9\n",
       "6.0         8\n",
       "9.0         2\n",
       "8.0         1\n",
       "Name: count, dtype: int64"
      ]
     },
     "execution_count": 51,
     "metadata": {},
     "output_type": "execute_result"
    }
   ],
   "source": [
    "train['AMT_REQ_CREDIT_BUREAU_DAY'].value_counts()"
   ]
  },
  {
   "cell_type": "code",
   "execution_count": 52,
   "id": "848aaa30",
   "metadata": {},
   "outputs": [],
   "source": [
    "# fill missing values of AMT_REQ_CREDIT_BUREAU_DAY with top 2 Frequent values\n",
    "train['AMT_REQ_CREDIT_BUREAU_DAY'] = train['AMT_REQ_CREDIT_BUREAU_DAY'].apply(\n",
    "    lambda x: np.random.choice(train['AMT_REQ_CREDIT_BUREAU_DAY'].value_counts().index[:2]) if pd.isnull(x) else x\n",
    ")"
   ]
  },
  {
   "cell_type": "code",
   "execution_count": 53,
   "id": "c010547d",
   "metadata": {},
   "outputs": [
    {
     "data": {
      "text/plain": [
       "AMT_REQ_CREDIT_BUREAU_DAY\n",
       "0.0    285141\n",
       "1.0     22173\n",
       "2.0       106\n",
       "3.0        45\n",
       "4.0        26\n",
       "5.0         9\n",
       "6.0         8\n",
       "9.0         2\n",
       "8.0         1\n",
       "Name: count, dtype: int64"
      ]
     },
     "execution_count": 53,
     "metadata": {},
     "output_type": "execute_result"
    }
   ],
   "source": [
    "train['AMT_REQ_CREDIT_BUREAU_DAY'].value_counts()"
   ]
  },
  {
   "cell_type": "markdown",
   "id": "1b008bc9",
   "metadata": {},
   "source": [
    "#### Treating AMT_REQ_CREDIT_BUREAU_HOUR column"
   ]
  },
  {
   "cell_type": "code",
   "execution_count": 54,
   "id": "154217d4",
   "metadata": {},
   "outputs": [
    {
     "data": {
      "text/plain": [
       "AMT_REQ_CREDIT_BUREAU_HOUR\n",
       "0.0    264366\n",
       "1.0      1560\n",
       "2.0        56\n",
       "3.0         9\n",
       "4.0         1\n",
       "Name: count, dtype: int64"
      ]
     },
     "execution_count": 54,
     "metadata": {},
     "output_type": "execute_result"
    }
   ],
   "source": [
    "train['AMT_REQ_CREDIT_BUREAU_HOUR'].value_counts()"
   ]
  },
  {
   "cell_type": "code",
   "execution_count": 55,
   "id": "36fdcf62",
   "metadata": {},
   "outputs": [],
   "source": [
    "# fill missing values of AMT_REQ_CREDIT_BUREAU_HOUR with top 2 Frequent values\n",
    "train['AMT_REQ_CREDIT_BUREAU_HOUR'] = train['AMT_REQ_CREDIT_BUREAU_HOUR'].apply(\n",
    "    lambda x: np.random.choice(train['AMT_REQ_CREDIT_BUREAU_HOUR'].value_counts().index[:2]) if pd.isnull(x) else x\n",
    ")"
   ]
  },
  {
   "cell_type": "code",
   "execution_count": 56,
   "id": "5858e8e8",
   "metadata": {},
   "outputs": [
    {
     "data": {
      "text/plain": [
       "AMT_REQ_CREDIT_BUREAU_HOUR\n",
       "0.0    285068\n",
       "1.0     22377\n",
       "2.0        56\n",
       "3.0         9\n",
       "4.0         1\n",
       "Name: count, dtype: int64"
      ]
     },
     "execution_count": 56,
     "metadata": {},
     "output_type": "execute_result"
    }
   ],
   "source": [
    "train['AMT_REQ_CREDIT_BUREAU_HOUR'].value_counts()"
   ]
  },
  {
   "cell_type": "code",
   "execution_count": 57,
   "id": "35285fd5",
   "metadata": {},
   "outputs": [
    {
     "data": {
      "text/html": [
       "<div>\n",
       "<style scoped>\n",
       "    .dataframe tbody tr th:only-of-type {\n",
       "        vertical-align: middle;\n",
       "    }\n",
       "\n",
       "    .dataframe tbody tr th {\n",
       "        vertical-align: top;\n",
       "    }\n",
       "\n",
       "    .dataframe thead th {\n",
       "        text-align: right;\n",
       "    }\n",
       "</style>\n",
       "<table border=\"1\" class=\"dataframe\">\n",
       "  <thead>\n",
       "    <tr style=\"text-align: right;\">\n",
       "      <th></th>\n",
       "      <th>Total</th>\n",
       "      <th>Percent</th>\n",
       "    </tr>\n",
       "  </thead>\n",
       "  <tbody>\n",
       "    <tr>\n",
       "      <th>NAME_TYPE_SUITE</th>\n",
       "      <td>1292</td>\n",
       "      <td>0.004201</td>\n",
       "    </tr>\n",
       "    <tr>\n",
       "      <th>DEF_60_CNT_SOCIAL_CIRCLE</th>\n",
       "      <td>1021</td>\n",
       "      <td>0.003320</td>\n",
       "    </tr>\n",
       "    <tr>\n",
       "      <th>OBS_30_CNT_SOCIAL_CIRCLE</th>\n",
       "      <td>1021</td>\n",
       "      <td>0.003320</td>\n",
       "    </tr>\n",
       "    <tr>\n",
       "      <th>DEF_30_CNT_SOCIAL_CIRCLE</th>\n",
       "      <td>1021</td>\n",
       "      <td>0.003320</td>\n",
       "    </tr>\n",
       "    <tr>\n",
       "      <th>OBS_60_CNT_SOCIAL_CIRCLE</th>\n",
       "      <td>1021</td>\n",
       "      <td>0.003320</td>\n",
       "    </tr>\n",
       "    <tr>\n",
       "      <th>...</th>\n",
       "      <td>...</td>\n",
       "      <td>...</td>\n",
       "    </tr>\n",
       "    <tr>\n",
       "      <th>REG_REGION_NOT_LIVE_REGION</th>\n",
       "      <td>0</td>\n",
       "      <td>0.000000</td>\n",
       "    </tr>\n",
       "    <tr>\n",
       "      <th>REG_REGION_NOT_WORK_REGION</th>\n",
       "      <td>0</td>\n",
       "      <td>0.000000</td>\n",
       "    </tr>\n",
       "    <tr>\n",
       "      <th>LIVE_REGION_NOT_WORK_REGION</th>\n",
       "      <td>0</td>\n",
       "      <td>0.000000</td>\n",
       "    </tr>\n",
       "    <tr>\n",
       "      <th>TARGET</th>\n",
       "      <td>0</td>\n",
       "      <td>0.000000</td>\n",
       "    </tr>\n",
       "    <tr>\n",
       "      <th>AMT_REQ_CREDIT_BUREAU_YEAR</th>\n",
       "      <td>0</td>\n",
       "      <td>0.000000</td>\n",
       "    </tr>\n",
       "  </tbody>\n",
       "</table>\n",
       "<p>73 rows × 2 columns</p>\n",
       "</div>"
      ],
      "text/plain": [
       "                             Total   Percent\n",
       "NAME_TYPE_SUITE               1292  0.004201\n",
       "DEF_60_CNT_SOCIAL_CIRCLE      1021  0.003320\n",
       "OBS_30_CNT_SOCIAL_CIRCLE      1021  0.003320\n",
       "DEF_30_CNT_SOCIAL_CIRCLE      1021  0.003320\n",
       "OBS_60_CNT_SOCIAL_CIRCLE      1021  0.003320\n",
       "...                            ...       ...\n",
       "REG_REGION_NOT_LIVE_REGION       0  0.000000\n",
       "REG_REGION_NOT_WORK_REGION       0  0.000000\n",
       "LIVE_REGION_NOT_WORK_REGION      0  0.000000\n",
       "TARGET                           0  0.000000\n",
       "AMT_REQ_CREDIT_BUREAU_YEAR       0  0.000000\n",
       "\n",
       "[73 rows x 2 columns]"
      ]
     },
     "execution_count": 57,
     "metadata": {},
     "output_type": "execute_result"
    }
   ],
   "source": [
    "missing_values(train)"
   ]
  },
  {
   "cell_type": "markdown",
   "id": "5e97d2c5",
   "metadata": {},
   "source": [
    "#### dropping missing rows from every remaining column because they have less than 0.5% missing values"
   ]
  },
  {
   "cell_type": "code",
   "execution_count": 58,
   "id": "f1d0f1a8",
   "metadata": {},
   "outputs": [
    {
     "data": {
      "text/html": [
       "<div>\n",
       "<style scoped>\n",
       "    .dataframe tbody tr th:only-of-type {\n",
       "        vertical-align: middle;\n",
       "    }\n",
       "\n",
       "    .dataframe tbody tr th {\n",
       "        vertical-align: top;\n",
       "    }\n",
       "\n",
       "    .dataframe thead th {\n",
       "        text-align: right;\n",
       "    }\n",
       "</style>\n",
       "<table border=\"1\" class=\"dataframe\">\n",
       "  <thead>\n",
       "    <tr style=\"text-align: right;\">\n",
       "      <th></th>\n",
       "      <th>Total</th>\n",
       "      <th>Percent</th>\n",
       "    </tr>\n",
       "  </thead>\n",
       "  <tbody>\n",
       "    <tr>\n",
       "      <th>OBS_30_CNT_SOCIAL_CIRCLE</th>\n",
       "      <td>1021</td>\n",
       "      <td>0.003334</td>\n",
       "    </tr>\n",
       "    <tr>\n",
       "      <th>DEF_30_CNT_SOCIAL_CIRCLE</th>\n",
       "      <td>1021</td>\n",
       "      <td>0.003334</td>\n",
       "    </tr>\n",
       "    <tr>\n",
       "      <th>OBS_60_CNT_SOCIAL_CIRCLE</th>\n",
       "      <td>1021</td>\n",
       "      <td>0.003334</td>\n",
       "    </tr>\n",
       "    <tr>\n",
       "      <th>DEF_60_CNT_SOCIAL_CIRCLE</th>\n",
       "      <td>1021</td>\n",
       "      <td>0.003334</td>\n",
       "    </tr>\n",
       "    <tr>\n",
       "      <th>EXT_SOURCE_2</th>\n",
       "      <td>659</td>\n",
       "      <td>0.002152</td>\n",
       "    </tr>\n",
       "    <tr>\n",
       "      <th>...</th>\n",
       "      <td>...</td>\n",
       "      <td>...</td>\n",
       "    </tr>\n",
       "    <tr>\n",
       "      <th>FLAG_CONT_MOBILE</th>\n",
       "      <td>0</td>\n",
       "      <td>0.000000</td>\n",
       "    </tr>\n",
       "    <tr>\n",
       "      <th>FLAG_WORK_PHONE</th>\n",
       "      <td>0</td>\n",
       "      <td>0.000000</td>\n",
       "    </tr>\n",
       "    <tr>\n",
       "      <th>FLAG_EMP_PHONE</th>\n",
       "      <td>0</td>\n",
       "      <td>0.000000</td>\n",
       "    </tr>\n",
       "    <tr>\n",
       "      <th>FLAG_MOBIL</th>\n",
       "      <td>0</td>\n",
       "      <td>0.000000</td>\n",
       "    </tr>\n",
       "    <tr>\n",
       "      <th>AMT_REQ_CREDIT_BUREAU_YEAR</th>\n",
       "      <td>0</td>\n",
       "      <td>0.000000</td>\n",
       "    </tr>\n",
       "  </tbody>\n",
       "</table>\n",
       "<p>73 rows × 2 columns</p>\n",
       "</div>"
      ],
      "text/plain": [
       "                            Total   Percent\n",
       "OBS_30_CNT_SOCIAL_CIRCLE     1021  0.003334\n",
       "DEF_30_CNT_SOCIAL_CIRCLE     1021  0.003334\n",
       "OBS_60_CNT_SOCIAL_CIRCLE     1021  0.003334\n",
       "DEF_60_CNT_SOCIAL_CIRCLE     1021  0.003334\n",
       "EXT_SOURCE_2                  659  0.002152\n",
       "...                           ...       ...\n",
       "FLAG_CONT_MOBILE                0  0.000000\n",
       "FLAG_WORK_PHONE                 0  0.000000\n",
       "FLAG_EMP_PHONE                  0  0.000000\n",
       "FLAG_MOBIL                      0  0.000000\n",
       "AMT_REQ_CREDIT_BUREAU_YEAR      0  0.000000\n",
       "\n",
       "[73 rows x 2 columns]"
      ]
     },
     "execution_count": 58,
     "metadata": {},
     "output_type": "execute_result"
    }
   ],
   "source": [
    "# drop missing values from NAME_TYPE_SUITE\n",
    "train = train.dropna(subset=['NAME_TYPE_SUITE'])\n",
    "missing_values(train)"
   ]
  },
  {
   "cell_type": "code",
   "execution_count": 59,
   "id": "2f70a630",
   "metadata": {},
   "outputs": [
    {
     "data": {
      "text/html": [
       "<div>\n",
       "<style scoped>\n",
       "    .dataframe tbody tr th:only-of-type {\n",
       "        vertical-align: middle;\n",
       "    }\n",
       "\n",
       "    .dataframe tbody tr th {\n",
       "        vertical-align: top;\n",
       "    }\n",
       "\n",
       "    .dataframe thead th {\n",
       "        text-align: right;\n",
       "    }\n",
       "</style>\n",
       "<table border=\"1\" class=\"dataframe\">\n",
       "  <thead>\n",
       "    <tr style=\"text-align: right;\">\n",
       "      <th></th>\n",
       "      <th>Total</th>\n",
       "      <th>Percent</th>\n",
       "    </tr>\n",
       "  </thead>\n",
       "  <tbody>\n",
       "    <tr>\n",
       "      <th>OBS_30_CNT_SOCIAL_CIRCLE</th>\n",
       "      <td>1017</td>\n",
       "      <td>0.003328</td>\n",
       "    </tr>\n",
       "    <tr>\n",
       "      <th>DEF_30_CNT_SOCIAL_CIRCLE</th>\n",
       "      <td>1017</td>\n",
       "      <td>0.003328</td>\n",
       "    </tr>\n",
       "    <tr>\n",
       "      <th>OBS_60_CNT_SOCIAL_CIRCLE</th>\n",
       "      <td>1017</td>\n",
       "      <td>0.003328</td>\n",
       "    </tr>\n",
       "    <tr>\n",
       "      <th>DEF_60_CNT_SOCIAL_CIRCLE</th>\n",
       "      <td>1017</td>\n",
       "      <td>0.003328</td>\n",
       "    </tr>\n",
       "    <tr>\n",
       "      <th>AMT_ANNUITY</th>\n",
       "      <td>12</td>\n",
       "      <td>0.000039</td>\n",
       "    </tr>\n",
       "    <tr>\n",
       "      <th>...</th>\n",
       "      <td>...</td>\n",
       "      <td>...</td>\n",
       "    </tr>\n",
       "    <tr>\n",
       "      <th>FLAG_CONT_MOBILE</th>\n",
       "      <td>0</td>\n",
       "      <td>0.000000</td>\n",
       "    </tr>\n",
       "    <tr>\n",
       "      <th>FLAG_WORK_PHONE</th>\n",
       "      <td>0</td>\n",
       "      <td>0.000000</td>\n",
       "    </tr>\n",
       "    <tr>\n",
       "      <th>FLAG_EMP_PHONE</th>\n",
       "      <td>0</td>\n",
       "      <td>0.000000</td>\n",
       "    </tr>\n",
       "    <tr>\n",
       "      <th>FLAG_MOBIL</th>\n",
       "      <td>0</td>\n",
       "      <td>0.000000</td>\n",
       "    </tr>\n",
       "    <tr>\n",
       "      <th>AMT_REQ_CREDIT_BUREAU_YEAR</th>\n",
       "      <td>0</td>\n",
       "      <td>0.000000</td>\n",
       "    </tr>\n",
       "  </tbody>\n",
       "</table>\n",
       "<p>73 rows × 2 columns</p>\n",
       "</div>"
      ],
      "text/plain": [
       "                            Total   Percent\n",
       "OBS_30_CNT_SOCIAL_CIRCLE     1017  0.003328\n",
       "DEF_30_CNT_SOCIAL_CIRCLE     1017  0.003328\n",
       "OBS_60_CNT_SOCIAL_CIRCLE     1017  0.003328\n",
       "DEF_60_CNT_SOCIAL_CIRCLE     1017  0.003328\n",
       "AMT_ANNUITY                    12  0.000039\n",
       "...                           ...       ...\n",
       "FLAG_CONT_MOBILE                0  0.000000\n",
       "FLAG_WORK_PHONE                 0  0.000000\n",
       "FLAG_EMP_PHONE                  0  0.000000\n",
       "FLAG_MOBIL                      0  0.000000\n",
       "AMT_REQ_CREDIT_BUREAU_YEAR      0  0.000000\n",
       "\n",
       "[73 rows x 2 columns]"
      ]
     },
     "execution_count": 59,
     "metadata": {},
     "output_type": "execute_result"
    }
   ],
   "source": [
    "# drop missing values from EXT_SOURCE_2\n",
    "train = train.dropna(subset=['EXT_SOURCE_2'])\n",
    "missing_values(train)"
   ]
  },
  {
   "cell_type": "code",
   "execution_count": 60,
   "id": "a259f7b7",
   "metadata": {},
   "outputs": [
    {
     "data": {
      "text/html": [
       "<div>\n",
       "<style scoped>\n",
       "    .dataframe tbody tr th:only-of-type {\n",
       "        vertical-align: middle;\n",
       "    }\n",
       "\n",
       "    .dataframe tbody tr th {\n",
       "        vertical-align: top;\n",
       "    }\n",
       "\n",
       "    .dataframe thead th {\n",
       "        text-align: right;\n",
       "    }\n",
       "</style>\n",
       "<table border=\"1\" class=\"dataframe\">\n",
       "  <thead>\n",
       "    <tr style=\"text-align: right;\">\n",
       "      <th></th>\n",
       "      <th>Total</th>\n",
       "      <th>Percent</th>\n",
       "    </tr>\n",
       "  </thead>\n",
       "  <tbody>\n",
       "    <tr>\n",
       "      <th>AMT_ANNUITY</th>\n",
       "      <td>12</td>\n",
       "      <td>0.000039</td>\n",
       "    </tr>\n",
       "    <tr>\n",
       "      <th>DAYS_LAST_PHONE_CHANGE</th>\n",
       "      <td>0</td>\n",
       "      <td>0.000000</td>\n",
       "    </tr>\n",
       "    <tr>\n",
       "      <th>FLAG_DOCUMENT_8</th>\n",
       "      <td>0</td>\n",
       "      <td>0.000000</td>\n",
       "    </tr>\n",
       "    <tr>\n",
       "      <th>FLAG_DOCUMENT_7</th>\n",
       "      <td>0</td>\n",
       "      <td>0.000000</td>\n",
       "    </tr>\n",
       "    <tr>\n",
       "      <th>FLAG_DOCUMENT_6</th>\n",
       "      <td>0</td>\n",
       "      <td>0.000000</td>\n",
       "    </tr>\n",
       "    <tr>\n",
       "      <th>...</th>\n",
       "      <td>...</td>\n",
       "      <td>...</td>\n",
       "    </tr>\n",
       "    <tr>\n",
       "      <th>FLAG_CONT_MOBILE</th>\n",
       "      <td>0</td>\n",
       "      <td>0.000000</td>\n",
       "    </tr>\n",
       "    <tr>\n",
       "      <th>FLAG_WORK_PHONE</th>\n",
       "      <td>0</td>\n",
       "      <td>0.000000</td>\n",
       "    </tr>\n",
       "    <tr>\n",
       "      <th>FLAG_EMP_PHONE</th>\n",
       "      <td>0</td>\n",
       "      <td>0.000000</td>\n",
       "    </tr>\n",
       "    <tr>\n",
       "      <th>FLAG_MOBIL</th>\n",
       "      <td>0</td>\n",
       "      <td>0.000000</td>\n",
       "    </tr>\n",
       "    <tr>\n",
       "      <th>AMT_REQ_CREDIT_BUREAU_YEAR</th>\n",
       "      <td>0</td>\n",
       "      <td>0.000000</td>\n",
       "    </tr>\n",
       "  </tbody>\n",
       "</table>\n",
       "<p>73 rows × 2 columns</p>\n",
       "</div>"
      ],
      "text/plain": [
       "                            Total   Percent\n",
       "AMT_ANNUITY                    12  0.000039\n",
       "DAYS_LAST_PHONE_CHANGE          0  0.000000\n",
       "FLAG_DOCUMENT_8                 0  0.000000\n",
       "FLAG_DOCUMENT_7                 0  0.000000\n",
       "FLAG_DOCUMENT_6                 0  0.000000\n",
       "...                           ...       ...\n",
       "FLAG_CONT_MOBILE                0  0.000000\n",
       "FLAG_WORK_PHONE                 0  0.000000\n",
       "FLAG_EMP_PHONE                  0  0.000000\n",
       "FLAG_MOBIL                      0  0.000000\n",
       "AMT_REQ_CREDIT_BUREAU_YEAR      0  0.000000\n",
       "\n",
       "[73 rows x 2 columns]"
      ]
     },
     "execution_count": 60,
     "metadata": {},
     "output_type": "execute_result"
    }
   ],
   "source": [
    "# drop missing values from OBS_30_CNT_SOCIAL_CIRCLE\n",
    "train = train.dropna(subset=['OBS_30_CNT_SOCIAL_CIRCLE'])\n",
    "missing_values(train)"
   ]
  },
  {
   "cell_type": "code",
   "execution_count": 61,
   "id": "d5d0a374",
   "metadata": {},
   "outputs": [
    {
     "data": {
      "text/html": [
       "<div>\n",
       "<style scoped>\n",
       "    .dataframe tbody tr th:only-of-type {\n",
       "        vertical-align: middle;\n",
       "    }\n",
       "\n",
       "    .dataframe tbody tr th {\n",
       "        vertical-align: top;\n",
       "    }\n",
       "\n",
       "    .dataframe thead th {\n",
       "        text-align: right;\n",
       "    }\n",
       "</style>\n",
       "<table border=\"1\" class=\"dataframe\">\n",
       "  <thead>\n",
       "    <tr style=\"text-align: right;\">\n",
       "      <th></th>\n",
       "      <th>Total</th>\n",
       "      <th>Percent</th>\n",
       "    </tr>\n",
       "  </thead>\n",
       "  <tbody>\n",
       "    <tr>\n",
       "      <th>SK_ID_CURR</th>\n",
       "      <td>0</td>\n",
       "      <td>0.0</td>\n",
       "    </tr>\n",
       "    <tr>\n",
       "      <th>REG_CITY_NOT_WORK_CITY</th>\n",
       "      <td>0</td>\n",
       "      <td>0.0</td>\n",
       "    </tr>\n",
       "    <tr>\n",
       "      <th>FLAG_DOCUMENT_8</th>\n",
       "      <td>0</td>\n",
       "      <td>0.0</td>\n",
       "    </tr>\n",
       "    <tr>\n",
       "      <th>FLAG_DOCUMENT_7</th>\n",
       "      <td>0</td>\n",
       "      <td>0.0</td>\n",
       "    </tr>\n",
       "    <tr>\n",
       "      <th>FLAG_DOCUMENT_6</th>\n",
       "      <td>0</td>\n",
       "      <td>0.0</td>\n",
       "    </tr>\n",
       "    <tr>\n",
       "      <th>...</th>\n",
       "      <td>...</td>\n",
       "      <td>...</td>\n",
       "    </tr>\n",
       "    <tr>\n",
       "      <th>FLAG_CONT_MOBILE</th>\n",
       "      <td>0</td>\n",
       "      <td>0.0</td>\n",
       "    </tr>\n",
       "    <tr>\n",
       "      <th>FLAG_WORK_PHONE</th>\n",
       "      <td>0</td>\n",
       "      <td>0.0</td>\n",
       "    </tr>\n",
       "    <tr>\n",
       "      <th>FLAG_EMP_PHONE</th>\n",
       "      <td>0</td>\n",
       "      <td>0.0</td>\n",
       "    </tr>\n",
       "    <tr>\n",
       "      <th>FLAG_MOBIL</th>\n",
       "      <td>0</td>\n",
       "      <td>0.0</td>\n",
       "    </tr>\n",
       "    <tr>\n",
       "      <th>AMT_REQ_CREDIT_BUREAU_YEAR</th>\n",
       "      <td>0</td>\n",
       "      <td>0.0</td>\n",
       "    </tr>\n",
       "  </tbody>\n",
       "</table>\n",
       "<p>73 rows × 2 columns</p>\n",
       "</div>"
      ],
      "text/plain": [
       "                            Total  Percent\n",
       "SK_ID_CURR                      0      0.0\n",
       "REG_CITY_NOT_WORK_CITY          0      0.0\n",
       "FLAG_DOCUMENT_8                 0      0.0\n",
       "FLAG_DOCUMENT_7                 0      0.0\n",
       "FLAG_DOCUMENT_6                 0      0.0\n",
       "...                           ...      ...\n",
       "FLAG_CONT_MOBILE                0      0.0\n",
       "FLAG_WORK_PHONE                 0      0.0\n",
       "FLAG_EMP_PHONE                  0      0.0\n",
       "FLAG_MOBIL                      0      0.0\n",
       "AMT_REQ_CREDIT_BUREAU_YEAR      0      0.0\n",
       "\n",
       "[73 rows x 2 columns]"
      ]
     },
     "execution_count": 61,
     "metadata": {},
     "output_type": "execute_result"
    }
   ],
   "source": [
    "# drop missing values from AMT_ANNUITY\n",
    "train = train.dropna(subset=['AMT_ANNUITY'])\n",
    "missing_values(train)"
   ]
  },
  {
   "cell_type": "code",
   "execution_count": 62,
   "id": "44556dac",
   "metadata": {},
   "outputs": [
    {
     "data": {
      "text/plain": [
       "SK_ID_CURR                    0\n",
       "TARGET                        0\n",
       "NAME_CONTRACT_TYPE            0\n",
       "CODE_GENDER                   0\n",
       "FLAG_OWN_CAR                  0\n",
       "                             ..\n",
       "AMT_REQ_CREDIT_BUREAU_DAY     0\n",
       "AMT_REQ_CREDIT_BUREAU_WEEK    0\n",
       "AMT_REQ_CREDIT_BUREAU_MON     0\n",
       "AMT_REQ_CREDIT_BUREAU_QRT     0\n",
       "AMT_REQ_CREDIT_BUREAU_YEAR    0\n",
       "Length: 73, dtype: int64"
      ]
     },
     "execution_count": 62,
     "metadata": {},
     "output_type": "execute_result"
    }
   ],
   "source": [
    "train.isnull().sum()"
   ]
  },
  {
   "cell_type": "code",
   "execution_count": 63,
   "id": "47364dee",
   "metadata": {},
   "outputs": [
    {
     "data": {
      "text/plain": [
       "(304531, 73)"
      ]
     },
     "execution_count": 63,
     "metadata": {},
     "output_type": "execute_result"
    }
   ],
   "source": [
    "train.shape"
   ]
  },
  {
   "cell_type": "markdown",
   "id": "9f1bfcba",
   "metadata": {},
   "source": [
    "- There are no missing values in the train dataset\n",
    "\n",
    "### Handling missing values in the test dataset"
   ]
  },
  {
   "cell_type": "code",
   "execution_count": 64,
   "id": "09defa2c",
   "metadata": {},
   "outputs": [
    {
     "data": {
      "text/html": [
       "<div>\n",
       "<style scoped>\n",
       "    .dataframe tbody tr th:only-of-type {\n",
       "        vertical-align: middle;\n",
       "    }\n",
       "\n",
       "    .dataframe tbody tr th {\n",
       "        vertical-align: top;\n",
       "    }\n",
       "\n",
       "    .dataframe thead th {\n",
       "        text-align: right;\n",
       "    }\n",
       "</style>\n",
       "<table border=\"1\" class=\"dataframe\">\n",
       "  <thead>\n",
       "    <tr style=\"text-align: right;\">\n",
       "      <th></th>\n",
       "      <th>Total</th>\n",
       "      <th>Percent</th>\n",
       "    </tr>\n",
       "  </thead>\n",
       "  <tbody>\n",
       "    <tr>\n",
       "      <th>OCCUPATION_TYPE</th>\n",
       "      <td>15605</td>\n",
       "      <td>0.320142</td>\n",
       "    </tr>\n",
       "    <tr>\n",
       "      <th>EXT_SOURCE_3</th>\n",
       "      <td>8668</td>\n",
       "      <td>0.177827</td>\n",
       "    </tr>\n",
       "    <tr>\n",
       "      <th>AMT_REQ_CREDIT_BUREAU_YEAR</th>\n",
       "      <td>6049</td>\n",
       "      <td>0.124097</td>\n",
       "    </tr>\n",
       "    <tr>\n",
       "      <th>AMT_REQ_CREDIT_BUREAU_QRT</th>\n",
       "      <td>6049</td>\n",
       "      <td>0.124097</td>\n",
       "    </tr>\n",
       "    <tr>\n",
       "      <th>AMT_REQ_CREDIT_BUREAU_MON</th>\n",
       "      <td>6049</td>\n",
       "      <td>0.124097</td>\n",
       "    </tr>\n",
       "    <tr>\n",
       "      <th>...</th>\n",
       "      <td>...</td>\n",
       "      <td>...</td>\n",
       "    </tr>\n",
       "    <tr>\n",
       "      <th>REG_REGION_NOT_LIVE_REGION</th>\n",
       "      <td>0</td>\n",
       "      <td>0.000000</td>\n",
       "    </tr>\n",
       "    <tr>\n",
       "      <th>REG_REGION_NOT_WORK_REGION</th>\n",
       "      <td>0</td>\n",
       "      <td>0.000000</td>\n",
       "    </tr>\n",
       "    <tr>\n",
       "      <th>LIVE_REGION_NOT_WORK_REGION</th>\n",
       "      <td>0</td>\n",
       "      <td>0.000000</td>\n",
       "    </tr>\n",
       "    <tr>\n",
       "      <th>REG_CITY_NOT_LIVE_CITY</th>\n",
       "      <td>0</td>\n",
       "      <td>0.000000</td>\n",
       "    </tr>\n",
       "    <tr>\n",
       "      <th>REG_CITY_NOT_WORK_CITY</th>\n",
       "      <td>0</td>\n",
       "      <td>0.000000</td>\n",
       "    </tr>\n",
       "  </tbody>\n",
       "</table>\n",
       "<p>72 rows × 2 columns</p>\n",
       "</div>"
      ],
      "text/plain": [
       "                             Total   Percent\n",
       "OCCUPATION_TYPE              15605  0.320142\n",
       "EXT_SOURCE_3                  8668  0.177827\n",
       "AMT_REQ_CREDIT_BUREAU_YEAR    6049  0.124097\n",
       "AMT_REQ_CREDIT_BUREAU_QRT     6049  0.124097\n",
       "AMT_REQ_CREDIT_BUREAU_MON     6049  0.124097\n",
       "...                            ...       ...\n",
       "REG_REGION_NOT_LIVE_REGION       0  0.000000\n",
       "REG_REGION_NOT_WORK_REGION       0  0.000000\n",
       "LIVE_REGION_NOT_WORK_REGION      0  0.000000\n",
       "REG_CITY_NOT_LIVE_CITY           0  0.000000\n",
       "REG_CITY_NOT_WORK_CITY           0  0.000000\n",
       "\n",
       "[72 rows x 2 columns]"
      ]
     },
     "execution_count": 64,
     "metadata": {},
     "output_type": "execute_result"
    }
   ],
   "source": [
    "missing_values(test)"
   ]
  },
  {
   "cell_type": "markdown",
   "id": "7d1df6e4",
   "metadata": {},
   "source": [
    "#### Handling OCCUPATION_TYPE column in the test dataset"
   ]
  },
  {
   "cell_type": "code",
   "execution_count": 65,
   "id": "1f4fd616",
   "metadata": {},
   "outputs": [
    {
     "data": {
      "text/plain": [
       "OCCUPATION_TYPE\n",
       "Laborers                 8655\n",
       "Sales staff              5072\n",
       "Core staff               4361\n",
       "Managers                 3574\n",
       "Drivers                  2773\n",
       "High skill tech staff    1854\n",
       "Accountants              1628\n",
       "Medicine staff           1316\n",
       "Security staff            915\n",
       "Cooking staff             894\n",
       "Cleaning staff            656\n",
       "Private service staff     455\n",
       "Low-skill Laborers        272\n",
       "Secretaries               213\n",
       "Waiters/barmen staff      178\n",
       "Realty agents             138\n",
       "HR staff                  104\n",
       "IT staff                   81\n",
       "Name: count, dtype: int64"
      ]
     },
     "execution_count": 65,
     "metadata": {},
     "output_type": "execute_result"
    }
   ],
   "source": [
    "test['OCCUPATION_TYPE'].value_counts()"
   ]
  },
  {
   "cell_type": "code",
   "execution_count": 66,
   "id": "138e57fa",
   "metadata": {},
   "outputs": [
    {
     "data": {
      "text/plain": [
       "array(['Low-skill Laborers', 'Drivers', 'Sales staff',\n",
       "       'High skill tech staff', 'Core staff', 'Laborers', 'Managers',\n",
       "       'Accountants', 'Medicine staff', 'Security staff',\n",
       "       'Private service staff', 'Secretaries', 'Cleaning staff',\n",
       "       'Cooking staff', 'HR staff', 'Waiters/barmen staff',\n",
       "       'Realty agents', 'IT staff'], dtype=object)"
      ]
     },
     "execution_count": 66,
     "metadata": {},
     "output_type": "execute_result"
    }
   ],
   "source": [
    "# Get all existing (non-null) occupation types\n",
    "existing_categories_test = test['OCCUPATION_TYPE'].dropna().unique()\n",
    "existing_categories_test"
   ]
  },
  {
   "cell_type": "code",
   "execution_count": 67,
   "id": "392bf518",
   "metadata": {},
   "outputs": [
    {
     "data": {
      "text/plain": [
       "15605"
      ]
     },
     "execution_count": 67,
     "metadata": {},
     "output_type": "execute_result"
    }
   ],
   "source": [
    "# Number of missing values\n",
    "num_missing_test = test['OCCUPATION_TYPE'].isnull().sum()\n",
    "num_missing_test"
   ]
  },
  {
   "cell_type": "code",
   "execution_count": 68,
   "id": "c1e254ee",
   "metadata": {},
   "outputs": [
    {
     "data": {
      "text/plain": [
       "array(['Private service staff', 'IT staff', 'Cleaning staff', ...,\n",
       "       'Accountants', 'Secretaries', 'Accountants'], dtype=object)"
      ]
     },
     "execution_count": 68,
     "metadata": {},
     "output_type": "execute_result"
    }
   ],
   "source": [
    "# Generate random values from the existing categories\n",
    "random_choices_test = np.random.choice(existing_categories_test, size=num_missing_test, replace=True)\n",
    "random_choices_test"
   ]
  },
  {
   "cell_type": "code",
   "execution_count": 69,
   "id": "a157c0df",
   "metadata": {},
   "outputs": [],
   "source": [
    "# Assign them to the missing locations\n",
    "test.loc[test['OCCUPATION_TYPE'].isnull(), 'OCCUPATION_TYPE'] = random_choices_test"
   ]
  },
  {
   "cell_type": "code",
   "execution_count": 70,
   "id": "da78b1c9",
   "metadata": {},
   "outputs": [
    {
     "data": {
      "text/plain": [
       "OCCUPATION_TYPE\n",
       "Laborers                 9565\n",
       "Sales staff              5904\n",
       "Core staff               5200\n",
       "Managers                 4437\n",
       "Drivers                  3612\n",
       "High skill tech staff    2756\n",
       "Accountants              2496\n",
       "Medicine staff           2204\n",
       "Security staff           1778\n",
       "Cooking staff            1702\n",
       "Cleaning staff           1556\n",
       "Private service staff    1317\n",
       "Low-skill Laborers       1168\n",
       "Waiters/barmen staff     1070\n",
       "Secretaries              1034\n",
       "Realty agents            1009\n",
       "IT staff                  996\n",
       "HR staff                  940\n",
       "Name: count, dtype: int64"
      ]
     },
     "execution_count": 70,
     "metadata": {},
     "output_type": "execute_result"
    }
   ],
   "source": [
    "test['OCCUPATION_TYPE'].value_counts()"
   ]
  },
  {
   "cell_type": "code",
   "execution_count": 71,
   "id": "cdeb0228",
   "metadata": {},
   "outputs": [
    {
     "data": {
      "text/html": [
       "<div>\n",
       "<style scoped>\n",
       "    .dataframe tbody tr th:only-of-type {\n",
       "        vertical-align: middle;\n",
       "    }\n",
       "\n",
       "    .dataframe tbody tr th {\n",
       "        vertical-align: top;\n",
       "    }\n",
       "\n",
       "    .dataframe thead th {\n",
       "        text-align: right;\n",
       "    }\n",
       "</style>\n",
       "<table border=\"1\" class=\"dataframe\">\n",
       "  <thead>\n",
       "    <tr style=\"text-align: right;\">\n",
       "      <th></th>\n",
       "      <th>Total</th>\n",
       "      <th>Percent</th>\n",
       "    </tr>\n",
       "  </thead>\n",
       "  <tbody>\n",
       "    <tr>\n",
       "      <th>EXT_SOURCE_3</th>\n",
       "      <td>8668</td>\n",
       "      <td>0.177827</td>\n",
       "    </tr>\n",
       "    <tr>\n",
       "      <th>AMT_REQ_CREDIT_BUREAU_YEAR</th>\n",
       "      <td>6049</td>\n",
       "      <td>0.124097</td>\n",
       "    </tr>\n",
       "    <tr>\n",
       "      <th>AMT_REQ_CREDIT_BUREAU_QRT</th>\n",
       "      <td>6049</td>\n",
       "      <td>0.124097</td>\n",
       "    </tr>\n",
       "    <tr>\n",
       "      <th>AMT_REQ_CREDIT_BUREAU_MON</th>\n",
       "      <td>6049</td>\n",
       "      <td>0.124097</td>\n",
       "    </tr>\n",
       "    <tr>\n",
       "      <th>AMT_REQ_CREDIT_BUREAU_WEEK</th>\n",
       "      <td>6049</td>\n",
       "      <td>0.124097</td>\n",
       "    </tr>\n",
       "    <tr>\n",
       "      <th>...</th>\n",
       "      <td>...</td>\n",
       "      <td>...</td>\n",
       "    </tr>\n",
       "    <tr>\n",
       "      <th>HOUR_APPR_PROCESS_START</th>\n",
       "      <td>0</td>\n",
       "      <td>0.000000</td>\n",
       "    </tr>\n",
       "    <tr>\n",
       "      <th>REG_REGION_NOT_LIVE_REGION</th>\n",
       "      <td>0</td>\n",
       "      <td>0.000000</td>\n",
       "    </tr>\n",
       "    <tr>\n",
       "      <th>REG_REGION_NOT_WORK_REGION</th>\n",
       "      <td>0</td>\n",
       "      <td>0.000000</td>\n",
       "    </tr>\n",
       "    <tr>\n",
       "      <th>LIVE_REGION_NOT_WORK_REGION</th>\n",
       "      <td>0</td>\n",
       "      <td>0.000000</td>\n",
       "    </tr>\n",
       "    <tr>\n",
       "      <th>REG_CITY_NOT_WORK_CITY</th>\n",
       "      <td>0</td>\n",
       "      <td>0.000000</td>\n",
       "    </tr>\n",
       "  </tbody>\n",
       "</table>\n",
       "<p>72 rows × 2 columns</p>\n",
       "</div>"
      ],
      "text/plain": [
       "                             Total   Percent\n",
       "EXT_SOURCE_3                  8668  0.177827\n",
       "AMT_REQ_CREDIT_BUREAU_YEAR    6049  0.124097\n",
       "AMT_REQ_CREDIT_BUREAU_QRT     6049  0.124097\n",
       "AMT_REQ_CREDIT_BUREAU_MON     6049  0.124097\n",
       "AMT_REQ_CREDIT_BUREAU_WEEK    6049  0.124097\n",
       "...                            ...       ...\n",
       "HOUR_APPR_PROCESS_START          0  0.000000\n",
       "REG_REGION_NOT_LIVE_REGION       0  0.000000\n",
       "REG_REGION_NOT_WORK_REGION       0  0.000000\n",
       "LIVE_REGION_NOT_WORK_REGION      0  0.000000\n",
       "REG_CITY_NOT_WORK_CITY           0  0.000000\n",
       "\n",
       "[72 rows x 2 columns]"
      ]
     },
     "execution_count": 71,
     "metadata": {},
     "output_type": "execute_result"
    }
   ],
   "source": [
    "missing_values(test)"
   ]
  },
  {
   "cell_type": "code",
   "execution_count": 72,
   "id": "6c8860dc",
   "metadata": {},
   "outputs": [
    {
     "data": {
      "image/png": "[encoded data removed]",
      "text/plain": [
       "<Figure size 640x480 with 1 Axes>"
      ]
     },
     "metadata": {},
     "output_type": "display_data"
    }
   ],
   "source": [
    "# Plot the distribution of EXT_SOURCE_3\n",
    "test['EXT_SOURCE_3'].hist(bins=50)\n",
    "plt.show()"
   ]
  },
  {
   "cell_type": "code",
   "execution_count": 73,
   "id": "63fa8227",
   "metadata": {},
   "outputs": [],
   "source": [
    "non_null_values_test = test['EXT_SOURCE_3'].dropna()"
   ]
  },
  {
   "cell_type": "code",
   "execution_count": 74,
   "id": "2049178f",
   "metadata": {},
   "outputs": [],
   "source": [
    "test['EXT_SOURCE_3'] = test['EXT_SOURCE_3'].apply(\n",
    "    lambda x: np.random.choice(non_null_values_test) if pd.isnull(x) else x\n",
    ")"
   ]
  },
  {
   "cell_type": "code",
   "execution_count": 75,
   "id": "045e8460",
   "metadata": {},
   "outputs": [
    {
     "data": {
      "text/plain": [
       "0"
      ]
     },
     "execution_count": 75,
     "metadata": {},
     "output_type": "execute_result"
    }
   ],
   "source": [
    "test['EXT_SOURCE_3'].isnull().sum()"
   ]
  },
  {
   "cell_type": "code",
   "execution_count": 76,
   "id": "68993fd0",
   "metadata": {},
   "outputs": [
    {
     "data": {
      "text/plain": [
       "EXT_SOURCE_3\n",
       "0.706205    263\n",
       "0.746300    237\n",
       "0.670652    236\n",
       "0.595456    236\n",
       "0.626304    233\n",
       "           ... \n",
       "0.024057      1\n",
       "0.040340      1\n",
       "0.872456      1\n",
       "0.053844      1\n",
       "0.038430      1\n",
       "Name: count, Length: 702, dtype: int64"
      ]
     },
     "execution_count": 76,
     "metadata": {},
     "output_type": "execute_result"
    }
   ],
   "source": [
    "test['EXT_SOURCE_3'].value_counts()"
   ]
  },
  {
   "cell_type": "code",
   "execution_count": 77,
   "id": "682f9ccd",
   "metadata": {},
   "outputs": [
    {
     "data": {
      "image/png": "[encoded data removed]",
      "text/plain": [
       "<Figure size 640x480 with 1 Axes>"
      ]
     },
     "metadata": {},
     "output_type": "display_data"
    }
   ],
   "source": [
    "# Plot the distribution of EXT_SOURCE_3\n",
    "test['EXT_SOURCE_3'].hist(bins=50)\n",
    "plt.show()"
   ]
  },
  {
   "cell_type": "code",
   "execution_count": 78,
   "id": "1613faf2",
   "metadata": {},
   "outputs": [
    {
     "data": {
      "text/html": [
       "<div>\n",
       "<style scoped>\n",
       "    .dataframe tbody tr th:only-of-type {\n",
       "        vertical-align: middle;\n",
       "    }\n",
       "\n",
       "    .dataframe tbody tr th {\n",
       "        vertical-align: top;\n",
       "    }\n",
       "\n",
       "    .dataframe thead th {\n",
       "        text-align: right;\n",
       "    }\n",
       "</style>\n",
       "<table border=\"1\" class=\"dataframe\">\n",
       "  <thead>\n",
       "    <tr style=\"text-align: right;\">\n",
       "      <th></th>\n",
       "      <th>Total</th>\n",
       "      <th>Percent</th>\n",
       "    </tr>\n",
       "  </thead>\n",
       "  <tbody>\n",
       "    <tr>\n",
       "      <th>AMT_REQ_CREDIT_BUREAU_YEAR</th>\n",
       "      <td>6049</td>\n",
       "      <td>0.124097</td>\n",
       "    </tr>\n",
       "    <tr>\n",
       "      <th>AMT_REQ_CREDIT_BUREAU_QRT</th>\n",
       "      <td>6049</td>\n",
       "      <td>0.124097</td>\n",
       "    </tr>\n",
       "    <tr>\n",
       "      <th>AMT_REQ_CREDIT_BUREAU_MON</th>\n",
       "      <td>6049</td>\n",
       "      <td>0.124097</td>\n",
       "    </tr>\n",
       "    <tr>\n",
       "      <th>AMT_REQ_CREDIT_BUREAU_WEEK</th>\n",
       "      <td>6049</td>\n",
       "      <td>0.124097</td>\n",
       "    </tr>\n",
       "    <tr>\n",
       "      <th>AMT_REQ_CREDIT_BUREAU_DAY</th>\n",
       "      <td>6049</td>\n",
       "      <td>0.124097</td>\n",
       "    </tr>\n",
       "    <tr>\n",
       "      <th>...</th>\n",
       "      <td>...</td>\n",
       "      <td>...</td>\n",
       "    </tr>\n",
       "    <tr>\n",
       "      <th>HOUR_APPR_PROCESS_START</th>\n",
       "      <td>0</td>\n",
       "      <td>0.000000</td>\n",
       "    </tr>\n",
       "    <tr>\n",
       "      <th>REG_REGION_NOT_LIVE_REGION</th>\n",
       "      <td>0</td>\n",
       "      <td>0.000000</td>\n",
       "    </tr>\n",
       "    <tr>\n",
       "      <th>REG_REGION_NOT_WORK_REGION</th>\n",
       "      <td>0</td>\n",
       "      <td>0.000000</td>\n",
       "    </tr>\n",
       "    <tr>\n",
       "      <th>LIVE_REGION_NOT_WORK_REGION</th>\n",
       "      <td>0</td>\n",
       "      <td>0.000000</td>\n",
       "    </tr>\n",
       "    <tr>\n",
       "      <th>REG_CITY_NOT_WORK_CITY</th>\n",
       "      <td>0</td>\n",
       "      <td>0.000000</td>\n",
       "    </tr>\n",
       "  </tbody>\n",
       "</table>\n",
       "<p>72 rows × 2 columns</p>\n",
       "</div>"
      ],
      "text/plain": [
       "                             Total   Percent\n",
       "AMT_REQ_CREDIT_BUREAU_YEAR    6049  0.124097\n",
       "AMT_REQ_CREDIT_BUREAU_QRT     6049  0.124097\n",
       "AMT_REQ_CREDIT_BUREAU_MON     6049  0.124097\n",
       "AMT_REQ_CREDIT_BUREAU_WEEK    6049  0.124097\n",
       "AMT_REQ_CREDIT_BUREAU_DAY     6049  0.124097\n",
       "...                            ...       ...\n",
       "HOUR_APPR_PROCESS_START          0  0.000000\n",
       "REG_REGION_NOT_LIVE_REGION       0  0.000000\n",
       "REG_REGION_NOT_WORK_REGION       0  0.000000\n",
       "LIVE_REGION_NOT_WORK_REGION      0  0.000000\n",
       "REG_CITY_NOT_WORK_CITY           0  0.000000\n",
       "\n",
       "[72 rows x 2 columns]"
      ]
     },
     "execution_count": 78,
     "metadata": {},
     "output_type": "execute_result"
    }
   ],
   "source": [
    "missing_values(test)"
   ]
  },
  {
   "cell_type": "code",
   "execution_count": 79,
   "id": "531a3379",
   "metadata": {},
   "outputs": [
    {
     "data": {
      "text/plain": [
       "AMT_REQ_CREDIT_BUREAU_YEAR\n",
       "0.0     10839\n",
       "1.0      9211\n",
       "2.0      8489\n",
       "3.0      6194\n",
       "4.0      3745\n",
       "5.0      2076\n",
       "6.0      1127\n",
       "7.0       553\n",
       "8.0       297\n",
       "9.0       122\n",
       "10.0       21\n",
       "11.0       12\n",
       "12.0        5\n",
       "13.0        2\n",
       "17.0        1\n",
       "14.0        1\n",
       "Name: count, dtype: int64"
      ]
     },
     "execution_count": 79,
     "metadata": {},
     "output_type": "execute_result"
    }
   ],
   "source": [
    "test['AMT_REQ_CREDIT_BUREAU_YEAR'].value_counts()"
   ]
  },
  {
   "cell_type": "code",
   "execution_count": 80,
   "id": "1ed55d13",
   "metadata": {},
   "outputs": [],
   "source": [
    "# Fill missing values of AMT_REQ_CREDIT_BUREAU_YEAR with top 5 frequent values\n",
    "test['AMT_REQ_CREDIT_BUREAU_YEAR'] = test['AMT_REQ_CREDIT_BUREAU_YEAR'].apply(\n",
    "    lambda x: np.random.choice(test['AMT_REQ_CREDIT_BUREAU_YEAR'].value_counts().index[:5]) if pd.isnull(x) else x\n",
    ")"
   ]
  },
  {
   "cell_type": "code",
   "execution_count": 81,
   "id": "e264a2e1",
   "metadata": {},
   "outputs": [
    {
     "data": {
      "text/plain": [
       "AMT_REQ_CREDIT_BUREAU_YEAR\n",
       "0.0     12052\n",
       "1.0     10427\n",
       "2.0      9657\n",
       "3.0      7385\n",
       "4.0      5006\n",
       "5.0      2076\n",
       "6.0      1127\n",
       "7.0       553\n",
       "8.0       297\n",
       "9.0       122\n",
       "10.0       21\n",
       "11.0       12\n",
       "12.0        5\n",
       "13.0        2\n",
       "17.0        1\n",
       "14.0        1\n",
       "Name: count, dtype: int64"
      ]
     },
     "execution_count": 81,
     "metadata": {},
     "output_type": "execute_result"
    }
   ],
   "source": [
    "test['AMT_REQ_CREDIT_BUREAU_YEAR'].value_counts()"
   ]
  },
  {
   "cell_type": "code",
   "execution_count": 82,
   "id": "82da3328",
   "metadata": {},
   "outputs": [
    {
     "data": {
      "text/html": [
       "<div>\n",
       "<style scoped>\n",
       "    .dataframe tbody tr th:only-of-type {\n",
       "        vertical-align: middle;\n",
       "    }\n",
       "\n",
       "    .dataframe tbody tr th {\n",
       "        vertical-align: top;\n",
       "    }\n",
       "\n",
       "    .dataframe thead th {\n",
       "        text-align: right;\n",
       "    }\n",
       "</style>\n",
       "<table border=\"1\" class=\"dataframe\">\n",
       "  <thead>\n",
       "    <tr style=\"text-align: right;\">\n",
       "      <th></th>\n",
       "      <th>Total</th>\n",
       "      <th>Percent</th>\n",
       "    </tr>\n",
       "  </thead>\n",
       "  <tbody>\n",
       "    <tr>\n",
       "      <th>AMT_REQ_CREDIT_BUREAU_QRT</th>\n",
       "      <td>6049</td>\n",
       "      <td>0.124097</td>\n",
       "    </tr>\n",
       "    <tr>\n",
       "      <th>AMT_REQ_CREDIT_BUREAU_MON</th>\n",
       "      <td>6049</td>\n",
       "      <td>0.124097</td>\n",
       "    </tr>\n",
       "    <tr>\n",
       "      <th>AMT_REQ_CREDIT_BUREAU_WEEK</th>\n",
       "      <td>6049</td>\n",
       "      <td>0.124097</td>\n",
       "    </tr>\n",
       "    <tr>\n",
       "      <th>AMT_REQ_CREDIT_BUREAU_DAY</th>\n",
       "      <td>6049</td>\n",
       "      <td>0.124097</td>\n",
       "    </tr>\n",
       "    <tr>\n",
       "      <th>AMT_REQ_CREDIT_BUREAU_HOUR</th>\n",
       "      <td>6049</td>\n",
       "      <td>0.124097</td>\n",
       "    </tr>\n",
       "    <tr>\n",
       "      <th>...</th>\n",
       "      <td>...</td>\n",
       "      <td>...</td>\n",
       "    </tr>\n",
       "    <tr>\n",
       "      <th>HOUR_APPR_PROCESS_START</th>\n",
       "      <td>0</td>\n",
       "      <td>0.000000</td>\n",
       "    </tr>\n",
       "    <tr>\n",
       "      <th>REG_REGION_NOT_LIVE_REGION</th>\n",
       "      <td>0</td>\n",
       "      <td>0.000000</td>\n",
       "    </tr>\n",
       "    <tr>\n",
       "      <th>REG_REGION_NOT_WORK_REGION</th>\n",
       "      <td>0</td>\n",
       "      <td>0.000000</td>\n",
       "    </tr>\n",
       "    <tr>\n",
       "      <th>LIVE_REGION_NOT_WORK_REGION</th>\n",
       "      <td>0</td>\n",
       "      <td>0.000000</td>\n",
       "    </tr>\n",
       "    <tr>\n",
       "      <th>AMT_REQ_CREDIT_BUREAU_YEAR</th>\n",
       "      <td>0</td>\n",
       "      <td>0.000000</td>\n",
       "    </tr>\n",
       "  </tbody>\n",
       "</table>\n",
       "<p>72 rows × 2 columns</p>\n",
       "</div>"
      ],
      "text/plain": [
       "                             Total   Percent\n",
       "AMT_REQ_CREDIT_BUREAU_QRT     6049  0.124097\n",
       "AMT_REQ_CREDIT_BUREAU_MON     6049  0.124097\n",
       "AMT_REQ_CREDIT_BUREAU_WEEK    6049  0.124097\n",
       "AMT_REQ_CREDIT_BUREAU_DAY     6049  0.124097\n",
       "AMT_REQ_CREDIT_BUREAU_HOUR    6049  0.124097\n",
       "...                            ...       ...\n",
       "HOUR_APPR_PROCESS_START          0  0.000000\n",
       "REG_REGION_NOT_LIVE_REGION       0  0.000000\n",
       "REG_REGION_NOT_WORK_REGION       0  0.000000\n",
       "LIVE_REGION_NOT_WORK_REGION      0  0.000000\n",
       "AMT_REQ_CREDIT_BUREAU_YEAR       0  0.000000\n",
       "\n",
       "[72 rows x 2 columns]"
      ]
     },
     "execution_count": 82,
     "metadata": {},
     "output_type": "execute_result"
    }
   ],
   "source": [
    "missing_values(test)"
   ]
  },
  {
   "cell_type": "code",
   "execution_count": 83,
   "id": "c3dc061a",
   "metadata": {},
   "outputs": [],
   "source": [
    "# Handling missing values of AMT_REQ_CREDIT_BUREAU_QRT, AMT_REQ_CREDIT_BUREAU_MON, AMT_REQ_CREDIT_BUREAU_WEEK, AMT_REQ_CREDIT_BUREAU_DAY, AMT_REQ_CREDIT_BUREAU_HOUR\n",
    "test['AMT_REQ_CREDIT_BUREAU_QRT'] = test['AMT_REQ_CREDIT_BUREAU_QRT'].apply(\n",
    "    lambda x: np.random.choice(test['AMT_REQ_CREDIT_BUREAU_QRT'].value_counts().index[:3]) if pd.isnull(x) else x\n",
    ")\n",
    "test['AMT_REQ_CREDIT_BUREAU_MON'] = test['AMT_REQ_CREDIT_BUREAU_MON'].apply(\n",
    "    lambda x: np.random.choice(test['AMT_REQ_CREDIT_BUREAU_MON'].value_counts().index[:3]) if pd.isnull(x) else x\n",
    ")\n",
    "test['AMT_REQ_CREDIT_BUREAU_WEEK'] = test['AMT_REQ_CREDIT_BUREAU_WEEK'].apply(\n",
    "    lambda x: np.random.choice(test['AMT_REQ_CREDIT_BUREAU_WEEK'].value_counts().index[:3]) if pd.isnull(x) else x\n",
    ")\n",
    "test['AMT_REQ_CREDIT_BUREAU_DAY'] = test['AMT_REQ_CREDIT_BUREAU_DAY'].apply(\n",
    "    lambda x: np.random.choice(test['AMT_REQ_CREDIT_BUREAU_DAY'].value_counts().index[:3]) if pd.isnull(x) else x\n",
    ")\n",
    "test['AMT_REQ_CREDIT_BUREAU_HOUR'] = test['AMT_REQ_CREDIT_BUREAU_HOUR'].apply(\n",
    "    lambda x: np.random.choice(test['AMT_REQ_CREDIT_BUREAU_HOUR'].value_counts().index[:3]) if pd.isnull(x) else x  \n",
    ")"
   ]
  },
  {
   "cell_type": "code",
   "execution_count": 84,
   "id": "99714a59",
   "metadata": {},
   "outputs": [
    {
     "data": {
      "text/plain": [
       "AMT_REQ_CREDIT_BUREAU_QRT\n",
       "0.0    25611\n",
       "1.0    17567\n",
       "2.0     5001\n",
       "3.0      495\n",
       "4.0       57\n",
       "5.0       11\n",
       "7.0        1\n",
       "6.0        1\n",
       "Name: count, dtype: int64"
      ]
     },
     "execution_count": 84,
     "metadata": {},
     "output_type": "execute_result"
    }
   ],
   "source": [
    "test['AMT_REQ_CREDIT_BUREAU_QRT'].value_counts()"
   ]
  },
  {
   "cell_type": "code",
   "execution_count": 85,
   "id": "f943eefe",
   "metadata": {},
   "outputs": [
    {
     "data": {
      "text/plain": [
       "AMT_REQ_CREDIT_BUREAU_WEEK\n",
       "0.0    44655\n",
       "1.0     2063\n",
       "2.0     2026\n",
       "Name: count, dtype: int64"
      ]
     },
     "execution_count": 85,
     "metadata": {},
     "output_type": "execute_result"
    }
   ],
   "source": [
    "test['AMT_REQ_CREDIT_BUREAU_WEEK'].value_counts()"
   ]
  },
  {
   "cell_type": "code",
   "execution_count": 86,
   "id": "b9cb670f",
   "metadata": {},
   "outputs": [
    {
     "data": {
      "text/plain": [
       "AMT_REQ_CREDIT_BUREAU_HOUR\n",
       "0.0    44556\n",
       "1.0     2108\n",
       "2.0     2080\n",
       "Name: count, dtype: int64"
      ]
     },
     "execution_count": 86,
     "metadata": {},
     "output_type": "execute_result"
    }
   ],
   "source": [
    "test['AMT_REQ_CREDIT_BUREAU_HOUR'].value_counts()"
   ]
  },
  {
   "cell_type": "code",
   "execution_count": 87,
   "id": "4b01f51b",
   "metadata": {},
   "outputs": [
    {
     "data": {
      "text/html": [
       "<div>\n",
       "<style scoped>\n",
       "    .dataframe tbody tr th:only-of-type {\n",
       "        vertical-align: middle;\n",
       "    }\n",
       "\n",
       "    .dataframe tbody tr th {\n",
       "        vertical-align: top;\n",
       "    }\n",
       "\n",
       "    .dataframe thead th {\n",
       "        text-align: right;\n",
       "    }\n",
       "</style>\n",
       "<table border=\"1\" class=\"dataframe\">\n",
       "  <thead>\n",
       "    <tr style=\"text-align: right;\">\n",
       "      <th></th>\n",
       "      <th>Total</th>\n",
       "      <th>Percent</th>\n",
       "    </tr>\n",
       "  </thead>\n",
       "  <tbody>\n",
       "    <tr>\n",
       "      <th>NAME_TYPE_SUITE</th>\n",
       "      <td>911</td>\n",
       "      <td>0.018689</td>\n",
       "    </tr>\n",
       "    <tr>\n",
       "      <th>OBS_30_CNT_SOCIAL_CIRCLE</th>\n",
       "      <td>29</td>\n",
       "      <td>0.000595</td>\n",
       "    </tr>\n",
       "    <tr>\n",
       "      <th>DEF_30_CNT_SOCIAL_CIRCLE</th>\n",
       "      <td>29</td>\n",
       "      <td>0.000595</td>\n",
       "    </tr>\n",
       "    <tr>\n",
       "      <th>OBS_60_CNT_SOCIAL_CIRCLE</th>\n",
       "      <td>29</td>\n",
       "      <td>0.000595</td>\n",
       "    </tr>\n",
       "    <tr>\n",
       "      <th>DEF_60_CNT_SOCIAL_CIRCLE</th>\n",
       "      <td>29</td>\n",
       "      <td>0.000595</td>\n",
       "    </tr>\n",
       "    <tr>\n",
       "      <th>...</th>\n",
       "      <td>...</td>\n",
       "      <td>...</td>\n",
       "    </tr>\n",
       "    <tr>\n",
       "      <th>HOUR_APPR_PROCESS_START</th>\n",
       "      <td>0</td>\n",
       "      <td>0.000000</td>\n",
       "    </tr>\n",
       "    <tr>\n",
       "      <th>REG_REGION_NOT_LIVE_REGION</th>\n",
       "      <td>0</td>\n",
       "      <td>0.000000</td>\n",
       "    </tr>\n",
       "    <tr>\n",
       "      <th>REG_REGION_NOT_WORK_REGION</th>\n",
       "      <td>0</td>\n",
       "      <td>0.000000</td>\n",
       "    </tr>\n",
       "    <tr>\n",
       "      <th>LIVE_REGION_NOT_WORK_REGION</th>\n",
       "      <td>0</td>\n",
       "      <td>0.000000</td>\n",
       "    </tr>\n",
       "    <tr>\n",
       "      <th>AMT_REQ_CREDIT_BUREAU_YEAR</th>\n",
       "      <td>0</td>\n",
       "      <td>0.000000</td>\n",
       "    </tr>\n",
       "  </tbody>\n",
       "</table>\n",
       "<p>72 rows × 2 columns</p>\n",
       "</div>"
      ],
      "text/plain": [
       "                             Total   Percent\n",
       "NAME_TYPE_SUITE                911  0.018689\n",
       "OBS_30_CNT_SOCIAL_CIRCLE        29  0.000595\n",
       "DEF_30_CNT_SOCIAL_CIRCLE        29  0.000595\n",
       "OBS_60_CNT_SOCIAL_CIRCLE        29  0.000595\n",
       "DEF_60_CNT_SOCIAL_CIRCLE        29  0.000595\n",
       "...                            ...       ...\n",
       "HOUR_APPR_PROCESS_START          0  0.000000\n",
       "REG_REGION_NOT_LIVE_REGION       0  0.000000\n",
       "REG_REGION_NOT_WORK_REGION       0  0.000000\n",
       "LIVE_REGION_NOT_WORK_REGION      0  0.000000\n",
       "AMT_REQ_CREDIT_BUREAU_YEAR       0  0.000000\n",
       "\n",
       "[72 rows x 2 columns]"
      ]
     },
     "execution_count": 87,
     "metadata": {},
     "output_type": "execute_result"
    }
   ],
   "source": [
    "missing_values(test)"
   ]
  },
  {
   "cell_type": "markdown",
   "id": "f603c030",
   "metadata": {},
   "source": [
    "#### Dropping the  missing values of the remaining columns "
   ]
  },
  {
   "cell_type": "code",
   "execution_count": 88,
   "id": "b2ca7144",
   "metadata": {},
   "outputs": [
    {
     "data": {
      "text/html": [
       "<div>\n",
       "<style scoped>\n",
       "    .dataframe tbody tr th:only-of-type {\n",
       "        vertical-align: middle;\n",
       "    }\n",
       "\n",
       "    .dataframe tbody tr th {\n",
       "        vertical-align: top;\n",
       "    }\n",
       "\n",
       "    .dataframe thead th {\n",
       "        text-align: right;\n",
       "    }\n",
       "</style>\n",
       "<table border=\"1\" class=\"dataframe\">\n",
       "  <thead>\n",
       "    <tr style=\"text-align: right;\">\n",
       "      <th></th>\n",
       "      <th>Total</th>\n",
       "      <th>Percent</th>\n",
       "    </tr>\n",
       "  </thead>\n",
       "  <tbody>\n",
       "    <tr>\n",
       "      <th>AMT_ANNUITY</th>\n",
       "      <td>24</td>\n",
       "      <td>0.000502</td>\n",
       "    </tr>\n",
       "    <tr>\n",
       "      <th>EXT_SOURCE_2</th>\n",
       "      <td>8</td>\n",
       "      <td>0.000167</td>\n",
       "    </tr>\n",
       "    <tr>\n",
       "      <th>SK_ID_CURR</th>\n",
       "      <td>0</td>\n",
       "      <td>0.000000</td>\n",
       "    </tr>\n",
       "    <tr>\n",
       "      <th>FLAG_DOCUMENT_2</th>\n",
       "      <td>0</td>\n",
       "      <td>0.000000</td>\n",
       "    </tr>\n",
       "    <tr>\n",
       "      <th>FLAG_DOCUMENT_8</th>\n",
       "      <td>0</td>\n",
       "      <td>0.000000</td>\n",
       "    </tr>\n",
       "    <tr>\n",
       "      <th>...</th>\n",
       "      <td>...</td>\n",
       "      <td>...</td>\n",
       "    </tr>\n",
       "    <tr>\n",
       "      <th>FLAG_PHONE</th>\n",
       "      <td>0</td>\n",
       "      <td>0.000000</td>\n",
       "    </tr>\n",
       "    <tr>\n",
       "      <th>FLAG_CONT_MOBILE</th>\n",
       "      <td>0</td>\n",
       "      <td>0.000000</td>\n",
       "    </tr>\n",
       "    <tr>\n",
       "      <th>FLAG_WORK_PHONE</th>\n",
       "      <td>0</td>\n",
       "      <td>0.000000</td>\n",
       "    </tr>\n",
       "    <tr>\n",
       "      <th>FLAG_EMP_PHONE</th>\n",
       "      <td>0</td>\n",
       "      <td>0.000000</td>\n",
       "    </tr>\n",
       "    <tr>\n",
       "      <th>AMT_REQ_CREDIT_BUREAU_YEAR</th>\n",
       "      <td>0</td>\n",
       "      <td>0.000000</td>\n",
       "    </tr>\n",
       "  </tbody>\n",
       "</table>\n",
       "<p>72 rows × 2 columns</p>\n",
       "</div>"
      ],
      "text/plain": [
       "                            Total   Percent\n",
       "AMT_ANNUITY                    24  0.000502\n",
       "EXT_SOURCE_2                    8  0.000167\n",
       "SK_ID_CURR                      0  0.000000\n",
       "FLAG_DOCUMENT_2                 0  0.000000\n",
       "FLAG_DOCUMENT_8                 0  0.000000\n",
       "...                           ...       ...\n",
       "FLAG_PHONE                      0  0.000000\n",
       "FLAG_CONT_MOBILE                0  0.000000\n",
       "FLAG_WORK_PHONE                 0  0.000000\n",
       "FLAG_EMP_PHONE                  0  0.000000\n",
       "AMT_REQ_CREDIT_BUREAU_YEAR      0  0.000000\n",
       "\n",
       "[72 rows x 2 columns]"
      ]
     },
     "execution_count": 88,
     "metadata": {},
     "output_type": "execute_result"
    }
   ],
   "source": [
    "# Drop missing values from NAME_TYPE_SUITE, OBS_30_CNT_SOCIAL_CIRCLE, DEF_30_CNT_SOCIAL_CIRCLE, OBS_60_CNT_SOCIAL_CIRCLE, DEF_60_CNT_SOCIAL_CIRCLE\n",
    "test = test.dropna(subset=['NAME_TYPE_SUITE', 'OBS_30_CNT_SOCIAL_CIRCLE', 'DEF_30_CNT_SOCIAL_CIRCLE', 'OBS_60_CNT_SOCIAL_CIRCLE', 'DEF_60_CNT_SOCIAL_CIRCLE'])\n",
    "missing_values(test)"
   ]
  },
  {
   "cell_type": "code",
   "execution_count": 89,
   "id": "d6761b53",
   "metadata": {},
   "outputs": [
    {
     "data": {
      "text/html": [
       "<div>\n",
       "<style scoped>\n",
       "    .dataframe tbody tr th:only-of-type {\n",
       "        vertical-align: middle;\n",
       "    }\n",
       "\n",
       "    .dataframe tbody tr th {\n",
       "        vertical-align: top;\n",
       "    }\n",
       "\n",
       "    .dataframe thead th {\n",
       "        text-align: right;\n",
       "    }\n",
       "</style>\n",
       "<table border=\"1\" class=\"dataframe\">\n",
       "  <thead>\n",
       "    <tr style=\"text-align: right;\">\n",
       "      <th></th>\n",
       "      <th>Total</th>\n",
       "      <th>Percent</th>\n",
       "    </tr>\n",
       "  </thead>\n",
       "  <tbody>\n",
       "    <tr>\n",
       "      <th>SK_ID_CURR</th>\n",
       "      <td>0</td>\n",
       "      <td>0.0</td>\n",
       "    </tr>\n",
       "    <tr>\n",
       "      <th>NAME_CONTRACT_TYPE</th>\n",
       "      <td>0</td>\n",
       "      <td>0.0</td>\n",
       "    </tr>\n",
       "    <tr>\n",
       "      <th>FLAG_DOCUMENT_8</th>\n",
       "      <td>0</td>\n",
       "      <td>0.0</td>\n",
       "    </tr>\n",
       "    <tr>\n",
       "      <th>FLAG_DOCUMENT_7</th>\n",
       "      <td>0</td>\n",
       "      <td>0.0</td>\n",
       "    </tr>\n",
       "    <tr>\n",
       "      <th>FLAG_DOCUMENT_6</th>\n",
       "      <td>0</td>\n",
       "      <td>0.0</td>\n",
       "    </tr>\n",
       "    <tr>\n",
       "      <th>...</th>\n",
       "      <td>...</td>\n",
       "      <td>...</td>\n",
       "    </tr>\n",
       "    <tr>\n",
       "      <th>FLAG_CONT_MOBILE</th>\n",
       "      <td>0</td>\n",
       "      <td>0.0</td>\n",
       "    </tr>\n",
       "    <tr>\n",
       "      <th>FLAG_WORK_PHONE</th>\n",
       "      <td>0</td>\n",
       "      <td>0.0</td>\n",
       "    </tr>\n",
       "    <tr>\n",
       "      <th>FLAG_EMP_PHONE</th>\n",
       "      <td>0</td>\n",
       "      <td>0.0</td>\n",
       "    </tr>\n",
       "    <tr>\n",
       "      <th>FLAG_MOBIL</th>\n",
       "      <td>0</td>\n",
       "      <td>0.0</td>\n",
       "    </tr>\n",
       "    <tr>\n",
       "      <th>AMT_REQ_CREDIT_BUREAU_YEAR</th>\n",
       "      <td>0</td>\n",
       "      <td>0.0</td>\n",
       "    </tr>\n",
       "  </tbody>\n",
       "</table>\n",
       "<p>72 rows × 2 columns</p>\n",
       "</div>"
      ],
      "text/plain": [
       "                            Total  Percent\n",
       "SK_ID_CURR                      0      0.0\n",
       "NAME_CONTRACT_TYPE              0      0.0\n",
       "FLAG_DOCUMENT_8                 0      0.0\n",
       "FLAG_DOCUMENT_7                 0      0.0\n",
       "FLAG_DOCUMENT_6                 0      0.0\n",
       "...                           ...      ...\n",
       "FLAG_CONT_MOBILE                0      0.0\n",
       "FLAG_WORK_PHONE                 0      0.0\n",
       "FLAG_EMP_PHONE                  0      0.0\n",
       "FLAG_MOBIL                      0      0.0\n",
       "AMT_REQ_CREDIT_BUREAU_YEAR      0      0.0\n",
       "\n",
       "[72 rows x 2 columns]"
      ]
     },
     "execution_count": 89,
     "metadata": {},
     "output_type": "execute_result"
    }
   ],
   "source": [
    "# drop missing values from AMT_ANNUITY, EXT_SOURCE_2\n",
    "test = test.dropna(subset=['AMT_ANNUITY', 'EXT_SOURCE_2'])\n",
    "missing_values(test)"
   ]
  },
  {
   "cell_type": "markdown",
   "id": "613c30ca",
   "metadata": {},
   "source": [
    "- There is no missing values in the test dataset\n",
    "\n",
    "### Saving both dataset after handling missing values"
   ]
  },
  {
   "cell_type": "code",
   "execution_count": 90,
   "id": "a5ba0f65",
   "metadata": {},
   "outputs": [],
   "source": [
    "# Save preprocessed data\n",
    "train.to_csv('train_preprocessed.csv', index=False)\n",
    "test.to_csv('test_preprocessed.csv', index=False)"
   ]
  },
  {
   "cell_type": "markdown",
   "id": "e53f0ea7",
   "metadata": {},
   "source": [
    "# Handling Outliers in Train dataset"
   ]
  },
  {
   "cell_type": "code",
   "execution_count": 91,
   "id": "2c328aad",
   "metadata": {},
   "outputs": [],
   "source": [
    "# Read preprocessed data\n",
    "train_df = pd.read_csv('train_preprocessed.csv')\n",
    "test_df = pd.read_csv('test_preprocessed.csv')"
   ]
  },
  {
   "cell_type": "code",
   "execution_count": 92,
   "id": "a7dd6658",
   "metadata": {},
   "outputs": [
    {
     "data": {
      "text/plain": [
       "(304531, 73)"
      ]
     },
     "execution_count": 92,
     "metadata": {},
     "output_type": "execute_result"
    }
   ],
   "source": [
    "train_df.shape"
   ]
  },
  {
   "cell_type": "code",
   "execution_count": 93,
   "id": "6bf2c051",
   "metadata": {},
   "outputs": [
    {
     "data": {
      "text/html": [
       "<div>\n",
       "<style scoped>\n",
       "    .dataframe tbody tr th:only-of-type {\n",
       "        vertical-align: middle;\n",
       "    }\n",
       "\n",
       "    .dataframe tbody tr th {\n",
       "        vertical-align: top;\n",
       "    }\n",
       "\n",
       "    .dataframe thead th {\n",
       "        text-align: right;\n",
       "    }\n",
       "</style>\n",
       "<table border=\"1\" class=\"dataframe\">\n",
       "  <thead>\n",
       "    <tr style=\"text-align: right;\">\n",
       "      <th></th>\n",
       "      <th>SK_ID_CURR</th>\n",
       "      <th>TARGET</th>\n",
       "      <th>NAME_CONTRACT_TYPE</th>\n",
       "      <th>CODE_GENDER</th>\n",
       "      <th>FLAG_OWN_CAR</th>\n",
       "      <th>FLAG_OWN_REALTY</th>\n",
       "      <th>CNT_CHILDREN</th>\n",
       "      <th>AMT_INCOME_TOTAL</th>\n",
       "      <th>AMT_CREDIT</th>\n",
       "      <th>AMT_ANNUITY</th>\n",
       "      <th>...</th>\n",
       "      <th>FLAG_DOCUMENT_18</th>\n",
       "      <th>FLAG_DOCUMENT_19</th>\n",
       "      <th>FLAG_DOCUMENT_20</th>\n",
       "      <th>FLAG_DOCUMENT_21</th>\n",
       "      <th>AMT_REQ_CREDIT_BUREAU_HOUR</th>\n",
       "      <th>AMT_REQ_CREDIT_BUREAU_DAY</th>\n",
       "      <th>AMT_REQ_CREDIT_BUREAU_WEEK</th>\n",
       "      <th>AMT_REQ_CREDIT_BUREAU_MON</th>\n",
       "      <th>AMT_REQ_CREDIT_BUREAU_QRT</th>\n",
       "      <th>AMT_REQ_CREDIT_BUREAU_YEAR</th>\n",
       "    </tr>\n",
       "  </thead>\n",
       "  <tbody>\n",
       "    <tr>\n",
       "      <th>0</th>\n",
       "      <td>100002</td>\n",
       "      <td>1</td>\n",
       "      <td>Cash loans</td>\n",
       "      <td>M</td>\n",
       "      <td>N</td>\n",
       "      <td>Y</td>\n",
       "      <td>0</td>\n",
       "      <td>202500.0</td>\n",
       "      <td>406597.5</td>\n",
       "      <td>24700.5</td>\n",
       "      <td>...</td>\n",
       "      <td>0</td>\n",
       "      <td>0</td>\n",
       "      <td>0</td>\n",
       "      <td>0</td>\n",
       "      <td>0.0</td>\n",
       "      <td>0.0</td>\n",
       "      <td>0.0</td>\n",
       "      <td>0.0</td>\n",
       "      <td>0.0</td>\n",
       "      <td>1.0</td>\n",
       "    </tr>\n",
       "    <tr>\n",
       "      <th>1</th>\n",
       "      <td>100003</td>\n",
       "      <td>0</td>\n",
       "      <td>Cash loans</td>\n",
       "      <td>F</td>\n",
       "      <td>N</td>\n",
       "      <td>N</td>\n",
       "      <td>0</td>\n",
       "      <td>270000.0</td>\n",
       "      <td>1293502.5</td>\n",
       "      <td>35698.5</td>\n",
       "      <td>...</td>\n",
       "      <td>0</td>\n",
       "      <td>0</td>\n",
       "      <td>0</td>\n",
       "      <td>0</td>\n",
       "      <td>0.0</td>\n",
       "      <td>0.0</td>\n",
       "      <td>0.0</td>\n",
       "      <td>0.0</td>\n",
       "      <td>0.0</td>\n",
       "      <td>0.0</td>\n",
       "    </tr>\n",
       "    <tr>\n",
       "      <th>2</th>\n",
       "      <td>100004</td>\n",
       "      <td>0</td>\n",
       "      <td>Revolving loans</td>\n",
       "      <td>M</td>\n",
       "      <td>Y</td>\n",
       "      <td>Y</td>\n",
       "      <td>0</td>\n",
       "      <td>67500.0</td>\n",
       "      <td>135000.0</td>\n",
       "      <td>6750.0</td>\n",
       "      <td>...</td>\n",
       "      <td>0</td>\n",
       "      <td>0</td>\n",
       "      <td>0</td>\n",
       "      <td>0</td>\n",
       "      <td>0.0</td>\n",
       "      <td>0.0</td>\n",
       "      <td>0.0</td>\n",
       "      <td>0.0</td>\n",
       "      <td>0.0</td>\n",
       "      <td>0.0</td>\n",
       "    </tr>\n",
       "    <tr>\n",
       "      <th>3</th>\n",
       "      <td>100006</td>\n",
       "      <td>0</td>\n",
       "      <td>Cash loans</td>\n",
       "      <td>F</td>\n",
       "      <td>N</td>\n",
       "      <td>Y</td>\n",
       "      <td>0</td>\n",
       "      <td>135000.0</td>\n",
       "      <td>312682.5</td>\n",
       "      <td>29686.5</td>\n",
       "      <td>...</td>\n",
       "      <td>0</td>\n",
       "      <td>0</td>\n",
       "      <td>0</td>\n",
       "      <td>0</td>\n",
       "      <td>1.0</td>\n",
       "      <td>0.0</td>\n",
       "      <td>0.0</td>\n",
       "      <td>2.0</td>\n",
       "      <td>2.0</td>\n",
       "      <td>3.0</td>\n",
       "    </tr>\n",
       "    <tr>\n",
       "      <th>4</th>\n",
       "      <td>100007</td>\n",
       "      <td>0</td>\n",
       "      <td>Cash loans</td>\n",
       "      <td>M</td>\n",
       "      <td>N</td>\n",
       "      <td>Y</td>\n",
       "      <td>0</td>\n",
       "      <td>121500.0</td>\n",
       "      <td>513000.0</td>\n",
       "      <td>21865.5</td>\n",
       "      <td>...</td>\n",
       "      <td>0</td>\n",
       "      <td>0</td>\n",
       "      <td>0</td>\n",
       "      <td>0</td>\n",
       "      <td>0.0</td>\n",
       "      <td>0.0</td>\n",
       "      <td>0.0</td>\n",
       "      <td>0.0</td>\n",
       "      <td>0.0</td>\n",
       "      <td>0.0</td>\n",
       "    </tr>\n",
       "  </tbody>\n",
       "</table>\n",
       "<p>5 rows × 73 columns</p>\n",
       "</div>"
      ],
      "text/plain": [
       "   SK_ID_CURR  TARGET NAME_CONTRACT_TYPE CODE_GENDER FLAG_OWN_CAR  \\\n",
       "0      100002       1         Cash loans           M            N   \n",
       "1      100003       0         Cash loans           F            N   \n",
       "2      100004       0    Revolving loans           M            Y   \n",
       "3      100006       0         Cash loans           F            N   \n",
       "4      100007       0         Cash loans           M            N   \n",
       "\n",
       "  FLAG_OWN_REALTY  CNT_CHILDREN  AMT_INCOME_TOTAL  AMT_CREDIT  AMT_ANNUITY  \\\n",
       "0               Y             0          202500.0    406597.5      24700.5   \n",
       "1               N             0          270000.0   1293502.5      35698.5   \n",
       "2               Y             0           67500.0    135000.0       6750.0   \n",
       "3               Y             0          135000.0    312682.5      29686.5   \n",
       "4               Y             0          121500.0    513000.0      21865.5   \n",
       "\n",
       "   ...  FLAG_DOCUMENT_18 FLAG_DOCUMENT_19 FLAG_DOCUMENT_20 FLAG_DOCUMENT_21  \\\n",
       "0  ...                 0                0                0                0   \n",
       "1  ...                 0                0                0                0   \n",
       "2  ...                 0                0                0                0   \n",
       "3  ...                 0                0                0                0   \n",
       "4  ...                 0                0                0                0   \n",
       "\n",
       "  AMT_REQ_CREDIT_BUREAU_HOUR AMT_REQ_CREDIT_BUREAU_DAY  \\\n",
       "0                        0.0                       0.0   \n",
       "1                        0.0                       0.0   \n",
       "2                        0.0                       0.0   \n",
       "3                        1.0                       0.0   \n",
       "4                        0.0                       0.0   \n",
       "\n",
       "   AMT_REQ_CREDIT_BUREAU_WEEK  AMT_REQ_CREDIT_BUREAU_MON  \\\n",
       "0                         0.0                        0.0   \n",
       "1                         0.0                        0.0   \n",
       "2                         0.0                        0.0   \n",
       "3                         0.0                        2.0   \n",
       "4                         0.0                        0.0   \n",
       "\n",
       "   AMT_REQ_CREDIT_BUREAU_QRT  AMT_REQ_CREDIT_BUREAU_YEAR  \n",
       "0                        0.0                         1.0  \n",
       "1                        0.0                         0.0  \n",
       "2                        0.0                         0.0  \n",
       "3                        2.0                         3.0  \n",
       "4                        0.0                         0.0  \n",
       "\n",
       "[5 rows x 73 columns]"
      ]
     },
     "execution_count": 93,
     "metadata": {},
     "output_type": "execute_result"
    }
   ],
   "source": [
    "train_df.head()"
   ]
  },
  {
   "cell_type": "code",
   "execution_count": 94,
   "id": "13ce1540",
   "metadata": {},
   "outputs": [
    {
     "name": "stdout",
     "output_type": "stream",
     "text": [
      "<class 'pandas.core.frame.DataFrame'>\n",
      "RangeIndex: 304531 entries, 0 to 304530\n",
      "Data columns (total 73 columns):\n",
      " #   Column                       Non-Null Count   Dtype  \n",
      "---  ------                       --------------   -----  \n",
      " 0   SK_ID_CURR                   304531 non-null  int64  \n",
      " 1   TARGET                       304531 non-null  int64  \n",
      " 2   NAME_CONTRACT_TYPE           304531 non-null  object \n",
      " 3   CODE_GENDER                  304531 non-null  object \n",
      " 4   FLAG_OWN_CAR                 304531 non-null  object \n",
      " 5   FLAG_OWN_REALTY              304531 non-null  object \n",
      " 6   CNT_CHILDREN                 304531 non-null  int64  \n",
      " 7   AMT_INCOME_TOTAL             304531 non-null  float64\n",
      " 8   AMT_CREDIT                   304531 non-null  float64\n",
      " 9   AMT_ANNUITY                  304531 non-null  float64\n",
      " 10  AMT_GOODS_PRICE              304531 non-null  float64\n",
      " 11  NAME_TYPE_SUITE              304531 non-null  object \n",
      " 12  NAME_INCOME_TYPE             304531 non-null  object \n",
      " 13  NAME_EDUCATION_TYPE          304531 non-null  object \n",
      " 14  NAME_FAMILY_STATUS           304531 non-null  object \n",
      " 15  NAME_HOUSING_TYPE            304531 non-null  object \n",
      " 16  REGION_POPULATION_RELATIVE   304531 non-null  float64\n",
      " 17  DAYS_BIRTH                   304531 non-null  int64  \n",
      " 18  DAYS_EMPLOYED                304531 non-null  int64  \n",
      " 19  DAYS_REGISTRATION            304531 non-null  float64\n",
      " 20  DAYS_ID_PUBLISH              304531 non-null  int64  \n",
      " 21  FLAG_MOBIL                   304531 non-null  int64  \n",
      " 22  FLAG_EMP_PHONE               304531 non-null  int64  \n",
      " 23  FLAG_WORK_PHONE              304531 non-null  int64  \n",
      " 24  FLAG_CONT_MOBILE             304531 non-null  int64  \n",
      " 25  FLAG_PHONE                   304531 non-null  int64  \n",
      " 26  FLAG_EMAIL                   304531 non-null  int64  \n",
      " 27  OCCUPATION_TYPE              304531 non-null  object \n",
      " 28  CNT_FAM_MEMBERS              304531 non-null  float64\n",
      " 29  REGION_RATING_CLIENT         304531 non-null  int64  \n",
      " 30  REGION_RATING_CLIENT_W_CITY  304531 non-null  int64  \n",
      " 31  WEEKDAY_APPR_PROCESS_START   304531 non-null  object \n",
      " 32  HOUR_APPR_PROCESS_START      304531 non-null  int64  \n",
      " 33  REG_REGION_NOT_LIVE_REGION   304531 non-null  int64  \n",
      " 34  REG_REGION_NOT_WORK_REGION   304531 non-null  int64  \n",
      " 35  LIVE_REGION_NOT_WORK_REGION  304531 non-null  int64  \n",
      " 36  REG_CITY_NOT_LIVE_CITY       304531 non-null  int64  \n",
      " 37  REG_CITY_NOT_WORK_CITY       304531 non-null  int64  \n",
      " 38  LIVE_CITY_NOT_WORK_CITY      304531 non-null  int64  \n",
      " 39  ORGANIZATION_TYPE            304531 non-null  object \n",
      " 40  EXT_SOURCE_2                 304531 non-null  float64\n",
      " 41  EXT_SOURCE_3                 304531 non-null  float64\n",
      " 42  OBS_30_CNT_SOCIAL_CIRCLE     304531 non-null  float64\n",
      " 43  DEF_30_CNT_SOCIAL_CIRCLE     304531 non-null  float64\n",
      " 44  OBS_60_CNT_SOCIAL_CIRCLE     304531 non-null  float64\n",
      " 45  DEF_60_CNT_SOCIAL_CIRCLE     304531 non-null  float64\n",
      " 46  DAYS_LAST_PHONE_CHANGE       304531 non-null  float64\n",
      " 47  FLAG_DOCUMENT_2              304531 non-null  int64  \n",
      " 48  FLAG_DOCUMENT_3              304531 non-null  int64  \n",
      " 49  FLAG_DOCUMENT_4              304531 non-null  int64  \n",
      " 50  FLAG_DOCUMENT_5              304531 non-null  int64  \n",
      " 51  FLAG_DOCUMENT_6              304531 non-null  int64  \n",
      " 52  FLAG_DOCUMENT_7              304531 non-null  int64  \n",
      " 53  FLAG_DOCUMENT_8              304531 non-null  int64  \n",
      " 54  FLAG_DOCUMENT_9              304531 non-null  int64  \n",
      " 55  FLAG_DOCUMENT_10             304531 non-null  int64  \n",
      " 56  FLAG_DOCUMENT_11             304531 non-null  int64  \n",
      " 57  FLAG_DOCUMENT_12             304531 non-null  int64  \n",
      " 58  FLAG_DOCUMENT_13             304531 non-null  int64  \n",
      " 59  FLAG_DOCUMENT_14             304531 non-null  int64  \n",
      " 60  FLAG_DOCUMENT_15             304531 non-null  int64  \n",
      " 61  FLAG_DOCUMENT_16             304531 non-null  int64  \n",
      " 62  FLAG_DOCUMENT_17             304531 non-null  int64  \n",
      " 63  FLAG_DOCUMENT_18             304531 non-null  int64  \n",
      " 64  FLAG_DOCUMENT_19             304531 non-null  int64  \n",
      " 65  FLAG_DOCUMENT_20             304531 non-null  int64  \n",
      " 66  FLAG_DOCUMENT_21             304531 non-null  int64  \n",
      " 67  AMT_REQ_CREDIT_BUREAU_HOUR   304531 non-null  float64\n",
      " 68  AMT_REQ_CREDIT_BUREAU_DAY    304531 non-null  float64\n",
      " 69  AMT_REQ_CREDIT_BUREAU_WEEK   304531 non-null  float64\n",
      " 70  AMT_REQ_CREDIT_BUREAU_MON    304531 non-null  float64\n",
      " 71  AMT_REQ_CREDIT_BUREAU_QRT    304531 non-null  float64\n",
      " 72  AMT_REQ_CREDIT_BUREAU_YEAR   304531 non-null  float64\n",
      "dtypes: float64(20), int64(41), object(12)\n",
      "memory usage: 169.6+ MB\n"
     ]
    }
   ],
   "source": [
    "train_df.info()"
   ]
  },
  {
   "cell_type": "markdown",
   "id": "2232f4ea",
   "metadata": {},
   "source": [
    "### defining a function to Detect Outliers using Isolation forest\n",
    "\n",
    "**What is Isolation Forest?**\n",
    "- Isolation Forest is an unsupervised machine learning algorithm that detects anomalies/outliers by isolating them.\n",
    "\n",
    "- Instead of profiling normal data points (like clustering or density-based methods), it directly focuses on separating outliers from the rest.\n",
    "\n",
    "**How Does It Work? (Simple Intuition)**\n",
    "- Outliers are \"few and different\" – they are rare and have attribute-values that are very different from the rest.\n",
    "\n",
    "- If a data point is an outlier, it will be isolated quickly by random splits.\n",
    "\n",
    "- Isolation Forest creates random trees (just like in Random Forest) by randomly choosing a feature and a split value.\n",
    "\n",
    "- The number of splits (depth of the tree) required to isolate a point is the key:\n",
    "\n",
    "    Fewer splits = more anomalous\n",
    "\n",
    "    More splits = more normal\n",
    "\n",
    "- So, the shorter the path to isolate a point, the more likely it is to be an outlier.\n",
    "\n"
   ]
  },
  {
   "cell_type": "code",
   "execution_count": 95,
   "id": "d010cc93",
   "metadata": {},
   "outputs": [
    {
     "data": {
      "text/plain": [
       "Index(['SK_ID_CURR', 'TARGET', 'CNT_CHILDREN', 'AMT_INCOME_TOTAL',\n",
       "       'AMT_CREDIT', 'AMT_ANNUITY', 'AMT_GOODS_PRICE',\n",
       "       'REGION_POPULATION_RELATIVE', 'DAYS_BIRTH', 'DAYS_EMPLOYED',\n",
       "       'DAYS_REGISTRATION', 'DAYS_ID_PUBLISH', 'FLAG_MOBIL', 'FLAG_EMP_PHONE',\n",
       "       'FLAG_WORK_PHONE', 'FLAG_CONT_MOBILE', 'FLAG_PHONE', 'FLAG_EMAIL',\n",
       "       'CNT_FAM_MEMBERS', 'REGION_RATING_CLIENT',\n",
       "       'REGION_RATING_CLIENT_W_CITY', 'HOUR_APPR_PROCESS_START',\n",
       "       'REG_REGION_NOT_LIVE_REGION', 'REG_REGION_NOT_WORK_REGION',\n",
       "       'LIVE_REGION_NOT_WORK_REGION', 'REG_CITY_NOT_LIVE_CITY',\n",
       "       'REG_CITY_NOT_WORK_CITY', 'LIVE_CITY_NOT_WORK_CITY', 'EXT_SOURCE_2',\n",
       "       'EXT_SOURCE_3', 'OBS_30_CNT_SOCIAL_CIRCLE', 'DEF_30_CNT_SOCIAL_CIRCLE',\n",
       "       'OBS_60_CNT_SOCIAL_CIRCLE', 'DEF_60_CNT_SOCIAL_CIRCLE',\n",
       "       'DAYS_LAST_PHONE_CHANGE', 'FLAG_DOCUMENT_2', 'FLAG_DOCUMENT_3',\n",
       "       'FLAG_DOCUMENT_4', 'FLAG_DOCUMENT_5', 'FLAG_DOCUMENT_6',\n",
       "       'FLAG_DOCUMENT_7', 'FLAG_DOCUMENT_8', 'FLAG_DOCUMENT_9',\n",
       "       'FLAG_DOCUMENT_10', 'FLAG_DOCUMENT_11', 'FLAG_DOCUMENT_12',\n",
       "       'FLAG_DOCUMENT_13', 'FLAG_DOCUMENT_14', 'FLAG_DOCUMENT_15',\n",
       "       'FLAG_DOCUMENT_16', 'FLAG_DOCUMENT_17', 'FLAG_DOCUMENT_18',\n",
       "       'FLAG_DOCUMENT_19', 'FLAG_DOCUMENT_20', 'FLAG_DOCUMENT_21',\n",
       "       'AMT_REQ_CREDIT_BUREAU_HOUR', 'AMT_REQ_CREDIT_BUREAU_DAY',\n",
       "       'AMT_REQ_CREDIT_BUREAU_WEEK', 'AMT_REQ_CREDIT_BUREAU_MON',\n",
       "       'AMT_REQ_CREDIT_BUREAU_QRT', 'AMT_REQ_CREDIT_BUREAU_YEAR'],\n",
       "      dtype='object')"
      ]
     },
     "execution_count": 95,
     "metadata": {},
     "output_type": "execute_result"
    }
   ],
   "source": [
    "# Numeric features of train_df dataset\n",
    "numeric_features = train_df.select_dtypes(include=['int64', 'float64']).columns\n",
    "numeric_features"
   ]
  },
  {
   "cell_type": "code",
   "execution_count": 96,
   "id": "42495311",
   "metadata": {},
   "outputs": [
    {
     "data": {
      "text/plain": [
       "Index(['CNT_CHILDREN', 'AMT_INCOME_TOTAL', 'AMT_CREDIT', 'AMT_ANNUITY',\n",
       "       'AMT_GOODS_PRICE', 'REGION_POPULATION_RELATIVE', 'DAYS_BIRTH',\n",
       "       'DAYS_EMPLOYED', 'DAYS_REGISTRATION', 'DAYS_ID_PUBLISH', 'FLAG_MOBIL',\n",
       "       'FLAG_EMP_PHONE', 'FLAG_WORK_PHONE', 'FLAG_CONT_MOBILE', 'FLAG_PHONE',\n",
       "       'FLAG_EMAIL', 'CNT_FAM_MEMBERS', 'REGION_RATING_CLIENT',\n",
       "       'REGION_RATING_CLIENT_W_CITY', 'HOUR_APPR_PROCESS_START',\n",
       "       'REG_REGION_NOT_LIVE_REGION', 'REG_REGION_NOT_WORK_REGION',\n",
       "       'LIVE_REGION_NOT_WORK_REGION', 'REG_CITY_NOT_LIVE_CITY',\n",
       "       'REG_CITY_NOT_WORK_CITY', 'LIVE_CITY_NOT_WORK_CITY', 'EXT_SOURCE_2',\n",
       "       'EXT_SOURCE_3', 'OBS_30_CNT_SOCIAL_CIRCLE', 'DEF_30_CNT_SOCIAL_CIRCLE',\n",
       "       'OBS_60_CNT_SOCIAL_CIRCLE', 'DEF_60_CNT_SOCIAL_CIRCLE',\n",
       "       'DAYS_LAST_PHONE_CHANGE', 'FLAG_DOCUMENT_2', 'FLAG_DOCUMENT_3',\n",
       "       'FLAG_DOCUMENT_4', 'FLAG_DOCUMENT_5', 'FLAG_DOCUMENT_6',\n",
       "       'FLAG_DOCUMENT_7', 'FLAG_DOCUMENT_8', 'FLAG_DOCUMENT_9',\n",
       "       'FLAG_DOCUMENT_10', 'FLAG_DOCUMENT_11', 'FLAG_DOCUMENT_12',\n",
       "       'FLAG_DOCUMENT_13', 'FLAG_DOCUMENT_14', 'FLAG_DOCUMENT_15',\n",
       "       'FLAG_DOCUMENT_16', 'FLAG_DOCUMENT_17', 'FLAG_DOCUMENT_18',\n",
       "       'FLAG_DOCUMENT_19', 'FLAG_DOCUMENT_20', 'FLAG_DOCUMENT_21',\n",
       "       'AMT_REQ_CREDIT_BUREAU_HOUR', 'AMT_REQ_CREDIT_BUREAU_DAY',\n",
       "       'AMT_REQ_CREDIT_BUREAU_WEEK', 'AMT_REQ_CREDIT_BUREAU_MON',\n",
       "       'AMT_REQ_CREDIT_BUREAU_QRT', 'AMT_REQ_CREDIT_BUREAU_YEAR'],\n",
       "      dtype='object')"
      ]
     },
     "execution_count": 96,
     "metadata": {},
     "output_type": "execute_result"
    }
   ],
   "source": [
    "numeric_features.drop(['SK_ID_CURR','TARGET'])"
   ]
  },
  {
   "cell_type": "code",
   "execution_count": 97,
   "id": "fc8cdaed",
   "metadata": {},
   "outputs": [
    {
     "data": {
      "text/html": [
       "<style>#sk-container-id-1 {color: black;}#sk-container-id-1 pre{padding: 0;}#sk-container-id-1 div.sk-toggleable {background-color: white;}#sk-container-id-1 label.sk-toggleable__label {cursor: pointer;display: block;width: 100%;margin-bottom: 0;padding: 0.3em;box-sizing: border-box;text-align: center;}#sk-container-id-1 label.sk-toggleable__label-arrow:before {content: \"▸\";float: left;margin-right: 0.25em;color: #696969;}#sk-container-id-1 label.sk-toggleable__label-arrow:hover:before {color: black;}#sk-container-id-1 div.sk-estimator:hover label.sk-toggleable__label-arrow:before {color: black;}#sk-container-id-1 div.sk-toggleable__content {max-height: 0;max-width: 0;overflow: hidden;text-align: left;background-color: #f0f8ff;}#sk-container-id-1 div.sk-toggleable__content pre {margin: 0.2em;color: black;border-radius: 0.25em;background-color: #f0f8ff;}#sk-container-id-1 input.sk-toggleable__control:checked~div.sk-toggleable__content {max-height: 200px;max-width: 100%;overflow: auto;}#sk-container-id-1 input.sk-toggleable__control:checked~label.sk-toggleable__label-arrow:before {content: \"▾\";}#sk-container-id-1 div.sk-estimator input.sk-toggleable__control:checked~label.sk-toggleable__label {background-color: #d4ebff;}#sk-container-id-1 div.sk-label input.sk-toggleable__control:checked~label.sk-toggleable__label {background-color: #d4ebff;}#sk-container-id-1 input.sk-hidden--visually {border: 0;clip: rect(1px 1px 1px 1px);clip: rect(1px, 1px, 1px, 1px);height: 1px;margin: -1px;overflow: hidden;padding: 0;position: absolute;width: 1px;}#sk-container-id-1 div.sk-estimator {font-family: monospace;background-color: #f0f8ff;border: 1px dotted black;border-radius: 0.25em;box-sizing: border-box;margin-bottom: 0.5em;}#sk-container-id-1 div.sk-estimator:hover {background-color: #d4ebff;}#sk-container-id-1 div.sk-parallel-item::after {content: \"\";width: 100%;border-bottom: 1px solid gray;flex-grow: 1;}#sk-container-id-1 div.sk-label:hover label.sk-toggleable__label {background-color: #d4ebff;}#sk-container-id-1 div.sk-serial::before {content: \"\";position: absolute;border-left: 1px solid gray;box-sizing: border-box;top: 0;bottom: 0;left: 50%;z-index: 0;}#sk-container-id-1 div.sk-serial {display: flex;flex-direction: column;align-items: center;background-color: white;padding-right: 0.2em;padding-left: 0.2em;position: relative;}#sk-container-id-1 div.sk-item {position: relative;z-index: 1;}#sk-container-id-1 div.sk-parallel {display: flex;align-items: stretch;justify-content: center;background-color: white;position: relative;}#sk-container-id-1 div.sk-item::before, #sk-container-id-1 div.sk-parallel-item::before {content: \"\";position: absolute;border-left: 1px solid gray;box-sizing: border-box;top: 0;bottom: 0;left: 50%;z-index: -1;}#sk-container-id-1 div.sk-parallel-item {display: flex;flex-direction: column;z-index: 1;position: relative;background-color: white;}#sk-container-id-1 div.sk-parallel-item:first-child::after {align-self: flex-end;width: 50%;}#sk-container-id-1 div.sk-parallel-item:last-child::after {align-self: flex-start;width: 50%;}#sk-container-id-1 div.sk-parallel-item:only-child::after {width: 0;}#sk-container-id-1 div.sk-dashed-wrapped {border: 1px dashed gray;margin: 0 0.4em 0.5em 0.4em;box-sizing: border-box;padding-bottom: 0.4em;background-color: white;}#sk-container-id-1 div.sk-label label {font-family: monospace;font-weight: bold;display: inline-block;line-height: 1.2em;}#sk-container-id-1 div.sk-label-container {text-align: center;}#sk-container-id-1 div.sk-container {/* jupyter's `normalize.less` sets `[hidden] { display: none; }` but bootstrap.min.css set `[hidden] { display: none !important; }` so we also need the `!important` here to be able to override the default hidden behavior on the sphinx rendered scikit-learn.org. See: https://github.com/scikit-learn/scikit-learn/issues/21755 */display: inline-block !important;position: relative;}#sk-container-id-1 div.sk-text-repr-fallback {display: none;}</style><div id=\"sk-container-id-1\" class=\"sk-top-container\"><div class=\"sk-text-repr-fallback\"><pre>IsolationForest(contamination=0.05, random_state=42)</pre><b>In a Jupyter environment, please rerun this cell to show the HTML representation or trust the notebook. <br />On GitHub, the HTML representation is unable to render, please try loading this page with nbviewer.org.</b></div><div class=\"sk-container\" hidden><div class=\"sk-item\"><div class=\"sk-estimator sk-toggleable\"><input class=\"sk-toggleable__control sk-hidden--visually\" id=\"sk-estimator-id-1\" type=\"checkbox\" checked><label for=\"sk-estimator-id-1\" class=\"sk-toggleable__label sk-toggleable__label-arrow\">IsolationForest</label><div class=\"sk-toggleable__content\"><pre>IsolationForest(contamination=0.05, random_state=42)</pre></div></div></div></div></div>"
      ],
      "text/plain": [
       "IsolationForest(contamination=0.05, random_state=42)"
      ]
     },
     "execution_count": 97,
     "metadata": {},
     "output_type": "execute_result"
    }
   ],
   "source": [
    "clf = IsolationForest(n_estimators=100, contamination=0.05, random_state=42)\n",
    "clf.fit(train_df[numeric_features.drop(['SK_ID_CURR','TARGET'])])"
   ]
  },
  {
   "cell_type": "code",
   "execution_count": 98,
   "id": "4e507e0e",
   "metadata": {},
   "outputs": [],
   "source": [
    "outlier_pred = clf.predict(train_df[numeric_features.drop(['SK_ID_CURR','TARGET'])])"
   ]
  },
  {
   "cell_type": "code",
   "execution_count": 99,
   "id": "5daf6662",
   "metadata": {},
   "outputs": [],
   "source": [
    "train_df[\"outlier\"] = outlier_pred"
   ]
  },
  {
   "cell_type": "code",
   "execution_count": 100,
   "id": "2637b96c",
   "metadata": {},
   "outputs": [],
   "source": [
    "# Filter only outliers\n",
    "outliers = train_df[train_df[\"outlier\"] == -1]"
   ]
  },
  {
   "cell_type": "markdown",
   "id": "9a64e875",
   "metadata": {},
   "source": [
    "### Adding is_outlier columns in train_df data"
   ]
  },
  {
   "cell_type": "code",
   "execution_count": 101,
   "id": "7524e19c",
   "metadata": {},
   "outputs": [],
   "source": [
    "train_df[\"is_outlier\"] = (train_df[\"outlier\"] == -1).astype(int)\n",
    "train_df = train_df.drop(columns=[\"outlier\"])"
   ]
  },
  {
   "cell_type": "markdown",
   "id": "11100bdd",
   "metadata": {},
   "source": [
    "**Why Add \"Is_Outlier\" as a Feature?**\n",
    "- Instead of removing outliers (and potentially losing meaningful data)\n",
    "\n",
    "- It preserve all rows in dataset.\n",
    "\n",
    "- This let model learn if an outlier status contributes to the outcome.\n",
    "\n",
    "- It capture hidden patterns that may be specific to anomalies.\n",
    "\n",
    "- It keep training data balanced and complete.\n",
    "\n",
    "## Applaying isolation forest on the test dataset"
   ]
  },
  {
   "cell_type": "code",
   "execution_count": 102,
   "id": "d22d57df",
   "metadata": {},
   "outputs": [
    {
     "data": {
      "text/plain": [
       "Index(['SK_ID_CURR', 'CNT_CHILDREN', 'AMT_INCOME_TOTAL', 'AMT_CREDIT',\n",
       "       'AMT_ANNUITY', 'AMT_GOODS_PRICE', 'REGION_POPULATION_RELATIVE',\n",
       "       'DAYS_BIRTH', 'DAYS_EMPLOYED', 'DAYS_REGISTRATION', 'DAYS_ID_PUBLISH',\n",
       "       'FLAG_MOBIL', 'FLAG_EMP_PHONE', 'FLAG_WORK_PHONE', 'FLAG_CONT_MOBILE',\n",
       "       'FLAG_PHONE', 'FLAG_EMAIL', 'CNT_FAM_MEMBERS', 'REGION_RATING_CLIENT',\n",
       "       'REGION_RATING_CLIENT_W_CITY', 'HOUR_APPR_PROCESS_START',\n",
       "       'REG_REGION_NOT_LIVE_REGION', 'REG_REGION_NOT_WORK_REGION',\n",
       "       'LIVE_REGION_NOT_WORK_REGION', 'REG_CITY_NOT_LIVE_CITY',\n",
       "       'REG_CITY_NOT_WORK_CITY', 'LIVE_CITY_NOT_WORK_CITY', 'EXT_SOURCE_2',\n",
       "       'EXT_SOURCE_3', 'OBS_30_CNT_SOCIAL_CIRCLE', 'DEF_30_CNT_SOCIAL_CIRCLE',\n",
       "       'OBS_60_CNT_SOCIAL_CIRCLE', 'DEF_60_CNT_SOCIAL_CIRCLE',\n",
       "       'DAYS_LAST_PHONE_CHANGE', 'FLAG_DOCUMENT_2', 'FLAG_DOCUMENT_3',\n",
       "       'FLAG_DOCUMENT_4', 'FLAG_DOCUMENT_5', 'FLAG_DOCUMENT_6',\n",
       "       'FLAG_DOCUMENT_7', 'FLAG_DOCUMENT_8', 'FLAG_DOCUMENT_9',\n",
       "       'FLAG_DOCUMENT_10', 'FLAG_DOCUMENT_11', 'FLAG_DOCUMENT_12',\n",
       "       'FLAG_DOCUMENT_13', 'FLAG_DOCUMENT_14', 'FLAG_DOCUMENT_15',\n",
       "       'FLAG_DOCUMENT_16', 'FLAG_DOCUMENT_17', 'FLAG_DOCUMENT_18',\n",
       "       'FLAG_DOCUMENT_19', 'FLAG_DOCUMENT_20', 'FLAG_DOCUMENT_21',\n",
       "       'AMT_REQ_CREDIT_BUREAU_HOUR', 'AMT_REQ_CREDIT_BUREAU_DAY',\n",
       "       'AMT_REQ_CREDIT_BUREAU_WEEK', 'AMT_REQ_CREDIT_BUREAU_MON',\n",
       "       'AMT_REQ_CREDIT_BUREAU_QRT', 'AMT_REQ_CREDIT_BUREAU_YEAR'],\n",
       "      dtype='object')"
      ]
     },
     "execution_count": 102,
     "metadata": {},
     "output_type": "execute_result"
    }
   ],
   "source": [
    "# Numeric features of test_df dataset\n",
    "numeric_features_test = test_df.select_dtypes(include=['int64', 'float64']).columns\n",
    "numeric_features_test"
   ]
  },
  {
   "cell_type": "code",
   "execution_count": 103,
   "id": "ebe94633",
   "metadata": {},
   "outputs": [],
   "source": [
    "test_df[\"is_outlier\"] = (clf.predict(test_df[numeric_features_test.drop(['SK_ID_CURR'])]) == -1).astype(int)"
   ]
  },
  {
   "cell_type": "code",
   "execution_count": 104,
   "id": "582ad65c",
   "metadata": {},
   "outputs": [
    {
     "data": {
      "text/html": [
       "<div>\n",
       "<style scoped>\n",
       "    .dataframe tbody tr th:only-of-type {\n",
       "        vertical-align: middle;\n",
       "    }\n",
       "\n",
       "    .dataframe tbody tr th {\n",
       "        vertical-align: top;\n",
       "    }\n",
       "\n",
       "    .dataframe thead th {\n",
       "        text-align: right;\n",
       "    }\n",
       "</style>\n",
       "<table border=\"1\" class=\"dataframe\">\n",
       "  <thead>\n",
       "    <tr style=\"text-align: right;\">\n",
       "      <th></th>\n",
       "      <th>SK_ID_CURR</th>\n",
       "      <th>NAME_CONTRACT_TYPE</th>\n",
       "      <th>CODE_GENDER</th>\n",
       "      <th>FLAG_OWN_CAR</th>\n",
       "      <th>FLAG_OWN_REALTY</th>\n",
       "      <th>CNT_CHILDREN</th>\n",
       "      <th>AMT_INCOME_TOTAL</th>\n",
       "      <th>AMT_CREDIT</th>\n",
       "      <th>AMT_ANNUITY</th>\n",
       "      <th>AMT_GOODS_PRICE</th>\n",
       "      <th>...</th>\n",
       "      <th>FLAG_DOCUMENT_19</th>\n",
       "      <th>FLAG_DOCUMENT_20</th>\n",
       "      <th>FLAG_DOCUMENT_21</th>\n",
       "      <th>AMT_REQ_CREDIT_BUREAU_HOUR</th>\n",
       "      <th>AMT_REQ_CREDIT_BUREAU_DAY</th>\n",
       "      <th>AMT_REQ_CREDIT_BUREAU_WEEK</th>\n",
       "      <th>AMT_REQ_CREDIT_BUREAU_MON</th>\n",
       "      <th>AMT_REQ_CREDIT_BUREAU_QRT</th>\n",
       "      <th>AMT_REQ_CREDIT_BUREAU_YEAR</th>\n",
       "      <th>is_outlier</th>\n",
       "    </tr>\n",
       "  </thead>\n",
       "  <tbody>\n",
       "    <tr>\n",
       "      <th>0</th>\n",
       "      <td>100001</td>\n",
       "      <td>Cash loans</td>\n",
       "      <td>F</td>\n",
       "      <td>N</td>\n",
       "      <td>Y</td>\n",
       "      <td>0</td>\n",
       "      <td>135000.0</td>\n",
       "      <td>568800.0</td>\n",
       "      <td>20560.5</td>\n",
       "      <td>450000.0</td>\n",
       "      <td>...</td>\n",
       "      <td>0</td>\n",
       "      <td>0</td>\n",
       "      <td>0</td>\n",
       "      <td>0.0</td>\n",
       "      <td>0.0</td>\n",
       "      <td>0.0</td>\n",
       "      <td>0.0</td>\n",
       "      <td>0.0</td>\n",
       "      <td>0.0</td>\n",
       "      <td>0</td>\n",
       "    </tr>\n",
       "    <tr>\n",
       "      <th>1</th>\n",
       "      <td>100005</td>\n",
       "      <td>Cash loans</td>\n",
       "      <td>M</td>\n",
       "      <td>N</td>\n",
       "      <td>Y</td>\n",
       "      <td>0</td>\n",
       "      <td>99000.0</td>\n",
       "      <td>222768.0</td>\n",
       "      <td>17370.0</td>\n",
       "      <td>180000.0</td>\n",
       "      <td>...</td>\n",
       "      <td>0</td>\n",
       "      <td>0</td>\n",
       "      <td>0</td>\n",
       "      <td>0.0</td>\n",
       "      <td>0.0</td>\n",
       "      <td>0.0</td>\n",
       "      <td>0.0</td>\n",
       "      <td>0.0</td>\n",
       "      <td>3.0</td>\n",
       "      <td>0</td>\n",
       "    </tr>\n",
       "    <tr>\n",
       "      <th>2</th>\n",
       "      <td>100028</td>\n",
       "      <td>Cash loans</td>\n",
       "      <td>F</td>\n",
       "      <td>N</td>\n",
       "      <td>Y</td>\n",
       "      <td>2</td>\n",
       "      <td>315000.0</td>\n",
       "      <td>1575000.0</td>\n",
       "      <td>49018.5</td>\n",
       "      <td>1575000.0</td>\n",
       "      <td>...</td>\n",
       "      <td>0</td>\n",
       "      <td>0</td>\n",
       "      <td>0</td>\n",
       "      <td>0.0</td>\n",
       "      <td>0.0</td>\n",
       "      <td>0.0</td>\n",
       "      <td>0.0</td>\n",
       "      <td>0.0</td>\n",
       "      <td>3.0</td>\n",
       "      <td>0</td>\n",
       "    </tr>\n",
       "    <tr>\n",
       "      <th>3</th>\n",
       "      <td>100038</td>\n",
       "      <td>Cash loans</td>\n",
       "      <td>M</td>\n",
       "      <td>Y</td>\n",
       "      <td>N</td>\n",
       "      <td>1</td>\n",
       "      <td>180000.0</td>\n",
       "      <td>625500.0</td>\n",
       "      <td>32067.0</td>\n",
       "      <td>625500.0</td>\n",
       "      <td>...</td>\n",
       "      <td>0</td>\n",
       "      <td>0</td>\n",
       "      <td>0</td>\n",
       "      <td>0.0</td>\n",
       "      <td>1.0</td>\n",
       "      <td>1.0</td>\n",
       "      <td>1.0</td>\n",
       "      <td>1.0</td>\n",
       "      <td>1.0</td>\n",
       "      <td>0</td>\n",
       "    </tr>\n",
       "    <tr>\n",
       "      <th>4</th>\n",
       "      <td>100042</td>\n",
       "      <td>Cash loans</td>\n",
       "      <td>F</td>\n",
       "      <td>Y</td>\n",
       "      <td>Y</td>\n",
       "      <td>0</td>\n",
       "      <td>270000.0</td>\n",
       "      <td>959688.0</td>\n",
       "      <td>34600.5</td>\n",
       "      <td>810000.0</td>\n",
       "      <td>...</td>\n",
       "      <td>0</td>\n",
       "      <td>0</td>\n",
       "      <td>0</td>\n",
       "      <td>0.0</td>\n",
       "      <td>0.0</td>\n",
       "      <td>0.0</td>\n",
       "      <td>0.0</td>\n",
       "      <td>1.0</td>\n",
       "      <td>2.0</td>\n",
       "      <td>0</td>\n",
       "    </tr>\n",
       "  </tbody>\n",
       "</table>\n",
       "<p>5 rows × 73 columns</p>\n",
       "</div>"
      ],
      "text/plain": [
       "   SK_ID_CURR NAME_CONTRACT_TYPE CODE_GENDER FLAG_OWN_CAR FLAG_OWN_REALTY  \\\n",
       "0      100001         Cash loans           F            N               Y   \n",
       "1      100005         Cash loans           M            N               Y   \n",
       "2      100028         Cash loans           F            N               Y   \n",
       "3      100038         Cash loans           M            Y               N   \n",
       "4      100042         Cash loans           F            Y               Y   \n",
       "\n",
       "   CNT_CHILDREN  AMT_INCOME_TOTAL  AMT_CREDIT  AMT_ANNUITY  AMT_GOODS_PRICE  \\\n",
       "0             0          135000.0    568800.0      20560.5         450000.0   \n",
       "1             0           99000.0    222768.0      17370.0         180000.0   \n",
       "2             2          315000.0   1575000.0      49018.5        1575000.0   \n",
       "3             1          180000.0    625500.0      32067.0         625500.0   \n",
       "4             0          270000.0    959688.0      34600.5         810000.0   \n",
       "\n",
       "   ... FLAG_DOCUMENT_19 FLAG_DOCUMENT_20 FLAG_DOCUMENT_21  \\\n",
       "0  ...                0                0                0   \n",
       "1  ...                0                0                0   \n",
       "2  ...                0                0                0   \n",
       "3  ...                0                0                0   \n",
       "4  ...                0                0                0   \n",
       "\n",
       "  AMT_REQ_CREDIT_BUREAU_HOUR AMT_REQ_CREDIT_BUREAU_DAY  \\\n",
       "0                        0.0                       0.0   \n",
       "1                        0.0                       0.0   \n",
       "2                        0.0                       0.0   \n",
       "3                        0.0                       1.0   \n",
       "4                        0.0                       0.0   \n",
       "\n",
       "   AMT_REQ_CREDIT_BUREAU_WEEK  AMT_REQ_CREDIT_BUREAU_MON  \\\n",
       "0                         0.0                        0.0   \n",
       "1                         0.0                        0.0   \n",
       "2                         0.0                        0.0   \n",
       "3                         1.0                        1.0   \n",
       "4                         0.0                        0.0   \n",
       "\n",
       "   AMT_REQ_CREDIT_BUREAU_QRT  AMT_REQ_CREDIT_BUREAU_YEAR  is_outlier  \n",
       "0                        0.0                         0.0           0  \n",
       "1                        0.0                         3.0           0  \n",
       "2                        0.0                         3.0           0  \n",
       "3                        1.0                         1.0           0  \n",
       "4                        1.0                         2.0           0  \n",
       "\n",
       "[5 rows x 73 columns]"
      ]
     },
     "execution_count": 104,
     "metadata": {},
     "output_type": "execute_result"
    }
   ],
   "source": [
    "test_df.head()"
   ]
  },
  {
   "cell_type": "code",
   "execution_count": 105,
   "id": "3d429523",
   "metadata": {},
   "outputs": [
    {
     "name": "stdout",
     "output_type": "stream",
     "text": [
      "is_outlier\n",
      "0    289304\n",
      "1     15227\n",
      "Name: count, dtype: int64\n",
      "is_outlier\n",
      "0    44681\n",
      "1     3091\n",
      "Name: count, dtype: int64\n"
     ]
    }
   ],
   "source": [
    "print(train_df[\"is_outlier\"].value_counts())\n",
    "print(test_df[\"is_outlier\"].value_counts())"
   ]
  },
  {
   "cell_type": "code",
   "execution_count": 106,
   "id": "ef6a9c74",
   "metadata": {},
   "outputs": [],
   "source": [
    "# save train_df and test_df to csv after handling outliers\n",
    "train_df.to_csv('train_preprocessed_2.csv', index=False)\n",
    "test_df.to_csv('test_preprocessed_2.csv', index=False)"
   ]
  },
  {
   "cell_type": "code",
   "execution_count": null,
   "id": "39d93b9a",
   "metadata": {},
   "outputs": [],
   "source": []
  }
 ],
 "metadata": {
  "kernelspec": {
   "display_name": "visa",
   "language": "python",
   "name": "python3"
  },
  "language_info": {
   "codemirror_mode": {
    "name": "ipython",
    "version": 3
   },
   "file_extension": ".py",
   "mimetype": "text/x-python",
   "name": "python",
   "nbconvert_exporter": "python",
   "pygments_lexer": "ipython3",
   "version": "3.8.19"
  }
 },
 "nbformat": 4,
 "nbformat_minor": 5
}
